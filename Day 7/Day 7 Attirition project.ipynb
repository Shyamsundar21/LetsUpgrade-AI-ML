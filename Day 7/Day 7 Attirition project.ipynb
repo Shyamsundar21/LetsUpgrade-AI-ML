{
 "cells": [
  {
   "cell_type": "code",
   "execution_count": 20,
   "metadata": {},
   "outputs": [],
   "source": [
    "import pandas as pd \n",
    "import numpy as np\n",
    "import matplotlib.pyplot as plt\n",
    "import seaborn as sns"
   ]
  },
  {
   "cell_type": "code",
   "execution_count": 5,
   "metadata": {},
   "outputs": [
    {
     "data": {
      "text/html": [
       "<div>\n",
       "<style scoped>\n",
       "    .dataframe tbody tr th:only-of-type {\n",
       "        vertical-align: middle;\n",
       "    }\n",
       "\n",
       "    .dataframe tbody tr th {\n",
       "        vertical-align: top;\n",
       "    }\n",
       "\n",
       "    .dataframe thead th {\n",
       "        text-align: right;\n",
       "    }\n",
       "</style>\n",
       "<table border=\"1\" class=\"dataframe\">\n",
       "  <thead>\n",
       "    <tr style=\"text-align: right;\">\n",
       "      <th></th>\n",
       "      <th>Age</th>\n",
       "      <th>Attrition</th>\n",
       "      <th>BusinessTravel</th>\n",
       "      <th>Department</th>\n",
       "      <th>DistanceFromHome</th>\n",
       "      <th>Education</th>\n",
       "      <th>EducationField</th>\n",
       "      <th>EmployeeCount</th>\n",
       "      <th>EmployeeID</th>\n",
       "      <th>Gender</th>\n",
       "      <th>...</th>\n",
       "      <th>NumCompaniesWorked</th>\n",
       "      <th>Over18</th>\n",
       "      <th>PercentSalaryHike</th>\n",
       "      <th>StandardHours</th>\n",
       "      <th>StockOptionLevel</th>\n",
       "      <th>TotalWorkingYears</th>\n",
       "      <th>TrainingTimesLastYear</th>\n",
       "      <th>YearsAtCompany</th>\n",
       "      <th>YearsSinceLastPromotion</th>\n",
       "      <th>YearsWithCurrManager</th>\n",
       "    </tr>\n",
       "  </thead>\n",
       "  <tbody>\n",
       "    <tr>\n",
       "      <th>0</th>\n",
       "      <td>51</td>\n",
       "      <td>No</td>\n",
       "      <td>Travel_Rarely</td>\n",
       "      <td>Sales</td>\n",
       "      <td>6</td>\n",
       "      <td>2</td>\n",
       "      <td>Life Sciences</td>\n",
       "      <td>1</td>\n",
       "      <td>1</td>\n",
       "      <td>Female</td>\n",
       "      <td>...</td>\n",
       "      <td>1.0</td>\n",
       "      <td>Y</td>\n",
       "      <td>11</td>\n",
       "      <td>8</td>\n",
       "      <td>0</td>\n",
       "      <td>1.0</td>\n",
       "      <td>6</td>\n",
       "      <td>1</td>\n",
       "      <td>0</td>\n",
       "      <td>0</td>\n",
       "    </tr>\n",
       "    <tr>\n",
       "      <th>1</th>\n",
       "      <td>31</td>\n",
       "      <td>Yes</td>\n",
       "      <td>Travel_Frequently</td>\n",
       "      <td>Research &amp; Development</td>\n",
       "      <td>10</td>\n",
       "      <td>1</td>\n",
       "      <td>Life Sciences</td>\n",
       "      <td>1</td>\n",
       "      <td>2</td>\n",
       "      <td>Female</td>\n",
       "      <td>...</td>\n",
       "      <td>0.0</td>\n",
       "      <td>Y</td>\n",
       "      <td>23</td>\n",
       "      <td>8</td>\n",
       "      <td>1</td>\n",
       "      <td>6.0</td>\n",
       "      <td>3</td>\n",
       "      <td>5</td>\n",
       "      <td>1</td>\n",
       "      <td>4</td>\n",
       "    </tr>\n",
       "    <tr>\n",
       "      <th>2</th>\n",
       "      <td>32</td>\n",
       "      <td>No</td>\n",
       "      <td>Travel_Frequently</td>\n",
       "      <td>Research &amp; Development</td>\n",
       "      <td>17</td>\n",
       "      <td>4</td>\n",
       "      <td>Other</td>\n",
       "      <td>1</td>\n",
       "      <td>3</td>\n",
       "      <td>Male</td>\n",
       "      <td>...</td>\n",
       "      <td>1.0</td>\n",
       "      <td>Y</td>\n",
       "      <td>15</td>\n",
       "      <td>8</td>\n",
       "      <td>3</td>\n",
       "      <td>5.0</td>\n",
       "      <td>2</td>\n",
       "      <td>5</td>\n",
       "      <td>0</td>\n",
       "      <td>3</td>\n",
       "    </tr>\n",
       "    <tr>\n",
       "      <th>3</th>\n",
       "      <td>38</td>\n",
       "      <td>No</td>\n",
       "      <td>Non-Travel</td>\n",
       "      <td>Research &amp; Development</td>\n",
       "      <td>2</td>\n",
       "      <td>5</td>\n",
       "      <td>Life Sciences</td>\n",
       "      <td>1</td>\n",
       "      <td>4</td>\n",
       "      <td>Male</td>\n",
       "      <td>...</td>\n",
       "      <td>3.0</td>\n",
       "      <td>Y</td>\n",
       "      <td>11</td>\n",
       "      <td>8</td>\n",
       "      <td>3</td>\n",
       "      <td>13.0</td>\n",
       "      <td>5</td>\n",
       "      <td>8</td>\n",
       "      <td>7</td>\n",
       "      <td>5</td>\n",
       "    </tr>\n",
       "    <tr>\n",
       "      <th>4</th>\n",
       "      <td>32</td>\n",
       "      <td>No</td>\n",
       "      <td>Travel_Rarely</td>\n",
       "      <td>Research &amp; Development</td>\n",
       "      <td>10</td>\n",
       "      <td>1</td>\n",
       "      <td>Medical</td>\n",
       "      <td>1</td>\n",
       "      <td>5</td>\n",
       "      <td>Male</td>\n",
       "      <td>...</td>\n",
       "      <td>4.0</td>\n",
       "      <td>Y</td>\n",
       "      <td>12</td>\n",
       "      <td>8</td>\n",
       "      <td>2</td>\n",
       "      <td>9.0</td>\n",
       "      <td>2</td>\n",
       "      <td>6</td>\n",
       "      <td>0</td>\n",
       "      <td>4</td>\n",
       "    </tr>\n",
       "  </tbody>\n",
       "</table>\n",
       "<p>5 rows × 24 columns</p>\n",
       "</div>"
      ],
      "text/plain": [
       "   Age Attrition     BusinessTravel              Department  DistanceFromHome  \\\n",
       "0   51        No      Travel_Rarely                   Sales                 6   \n",
       "1   31       Yes  Travel_Frequently  Research & Development                10   \n",
       "2   32        No  Travel_Frequently  Research & Development                17   \n",
       "3   38        No         Non-Travel  Research & Development                 2   \n",
       "4   32        No      Travel_Rarely  Research & Development                10   \n",
       "\n",
       "   Education EducationField  EmployeeCount  EmployeeID  Gender  ...  \\\n",
       "0          2  Life Sciences              1           1  Female  ...   \n",
       "1          1  Life Sciences              1           2  Female  ...   \n",
       "2          4          Other              1           3    Male  ...   \n",
       "3          5  Life Sciences              1           4    Male  ...   \n",
       "4          1        Medical              1           5    Male  ...   \n",
       "\n",
       "   NumCompaniesWorked Over18 PercentSalaryHike  StandardHours  \\\n",
       "0                 1.0      Y                11              8   \n",
       "1                 0.0      Y                23              8   \n",
       "2                 1.0      Y                15              8   \n",
       "3                 3.0      Y                11              8   \n",
       "4                 4.0      Y                12              8   \n",
       "\n",
       "   StockOptionLevel TotalWorkingYears  TrainingTimesLastYear  YearsAtCompany  \\\n",
       "0                 0               1.0                      6               1   \n",
       "1                 1               6.0                      3               5   \n",
       "2                 3               5.0                      2               5   \n",
       "3                 3              13.0                      5               8   \n",
       "4                 2               9.0                      2               6   \n",
       "\n",
       "   YearsSinceLastPromotion  YearsWithCurrManager  \n",
       "0                        0                     0  \n",
       "1                        1                     4  \n",
       "2                        0                     3  \n",
       "3                        7                     5  \n",
       "4                        0                     4  \n",
       "\n",
       "[5 rows x 24 columns]"
      ]
     },
     "execution_count": 5,
     "metadata": {},
     "output_type": "execute_result"
    }
   ],
   "source": [
    "dt = pd.read_csv('general_data.csv')\n",
    "dt.head()"
   ]
  },
  {
   "cell_type": "code",
   "execution_count": 6,
   "metadata": {},
   "outputs": [
    {
     "data": {
      "text/plain": [
       "Index(['Age', 'Attrition', 'BusinessTravel', 'Department', 'DistanceFromHome',\n",
       "       'Education', 'EducationField', 'EmployeeCount', 'EmployeeID', 'Gender',\n",
       "       'JobLevel', 'JobRole', 'MaritalStatus', 'MonthlyIncome',\n",
       "       'NumCompaniesWorked', 'Over18', 'PercentSalaryHike', 'StandardHours',\n",
       "       'StockOptionLevel', 'TotalWorkingYears', 'TrainingTimesLastYear',\n",
       "       'YearsAtCompany', 'YearsSinceLastPromotion', 'YearsWithCurrManager'],\n",
       "      dtype='object')"
      ]
     },
     "execution_count": 6,
     "metadata": {},
     "output_type": "execute_result"
    }
   ],
   "source": [
    "dt.columns"
   ]
  },
  {
   "cell_type": "code",
   "execution_count": 10,
   "metadata": {},
   "outputs": [
    {
     "data": {
      "text/plain": [
       "Age                         0\n",
       "Attrition                   0\n",
       "BusinessTravel              0\n",
       "Department                  0\n",
       "DistanceFromHome            0\n",
       "Education                   0\n",
       "EducationField              0\n",
       "EmployeeCount               0\n",
       "EmployeeID                  0\n",
       "Gender                      0\n",
       "JobLevel                    0\n",
       "JobRole                     0\n",
       "MaritalStatus               0\n",
       "MonthlyIncome               0\n",
       "NumCompaniesWorked         19\n",
       "Over18                      0\n",
       "PercentSalaryHike           0\n",
       "StandardHours               0\n",
       "StockOptionLevel            0\n",
       "TotalWorkingYears           9\n",
       "TrainingTimesLastYear       0\n",
       "YearsAtCompany              0\n",
       "YearsSinceLastPromotion     0\n",
       "YearsWithCurrManager        0\n",
       "dtype: int64"
      ]
     },
     "execution_count": 10,
     "metadata": {},
     "output_type": "execute_result"
    }
   ],
   "source": [
    "dt.isnull().sum()"
   ]
  },
  {
   "cell_type": "code",
   "execution_count": 13,
   "metadata": {},
   "outputs": [
    {
     "data": {
      "text/html": [
       "<div>\n",
       "<style scoped>\n",
       "    .dataframe tbody tr th:only-of-type {\n",
       "        vertical-align: middle;\n",
       "    }\n",
       "\n",
       "    .dataframe tbody tr th {\n",
       "        vertical-align: top;\n",
       "    }\n",
       "\n",
       "    .dataframe thead th {\n",
       "        text-align: right;\n",
       "    }\n",
       "</style>\n",
       "<table border=\"1\" class=\"dataframe\">\n",
       "  <thead>\n",
       "    <tr style=\"text-align: right;\">\n",
       "      <th></th>\n",
       "      <th>Age</th>\n",
       "      <th>DistanceFromHome</th>\n",
       "      <th>Education</th>\n",
       "      <th>EmployeeCount</th>\n",
       "      <th>EmployeeID</th>\n",
       "      <th>JobLevel</th>\n",
       "      <th>MonthlyIncome</th>\n",
       "      <th>NumCompaniesWorked</th>\n",
       "      <th>PercentSalaryHike</th>\n",
       "      <th>StandardHours</th>\n",
       "      <th>StockOptionLevel</th>\n",
       "      <th>TotalWorkingYears</th>\n",
       "      <th>TrainingTimesLastYear</th>\n",
       "      <th>YearsAtCompany</th>\n",
       "      <th>YearsSinceLastPromotion</th>\n",
       "      <th>YearsWithCurrManager</th>\n",
       "    </tr>\n",
       "  </thead>\n",
       "  <tbody>\n",
       "    <tr>\n",
       "      <th>count</th>\n",
       "      <td>4410.000000</td>\n",
       "      <td>4410.000000</td>\n",
       "      <td>4410.000000</td>\n",
       "      <td>4410.0</td>\n",
       "      <td>4410.000000</td>\n",
       "      <td>4410.000000</td>\n",
       "      <td>4410.000000</td>\n",
       "      <td>4391.000000</td>\n",
       "      <td>4410.000000</td>\n",
       "      <td>4410.0</td>\n",
       "      <td>4410.000000</td>\n",
       "      <td>4401.000000</td>\n",
       "      <td>4410.000000</td>\n",
       "      <td>4410.000000</td>\n",
       "      <td>4410.000000</td>\n",
       "      <td>4410.000000</td>\n",
       "    </tr>\n",
       "    <tr>\n",
       "      <th>mean</th>\n",
       "      <td>36.923810</td>\n",
       "      <td>9.192517</td>\n",
       "      <td>2.912925</td>\n",
       "      <td>1.0</td>\n",
       "      <td>2205.500000</td>\n",
       "      <td>2.063946</td>\n",
       "      <td>65029.312925</td>\n",
       "      <td>2.694830</td>\n",
       "      <td>15.209524</td>\n",
       "      <td>8.0</td>\n",
       "      <td>0.793878</td>\n",
       "      <td>11.279936</td>\n",
       "      <td>2.799320</td>\n",
       "      <td>7.008163</td>\n",
       "      <td>2.187755</td>\n",
       "      <td>4.123129</td>\n",
       "    </tr>\n",
       "    <tr>\n",
       "      <th>std</th>\n",
       "      <td>9.133301</td>\n",
       "      <td>8.105026</td>\n",
       "      <td>1.023933</td>\n",
       "      <td>0.0</td>\n",
       "      <td>1273.201673</td>\n",
       "      <td>1.106689</td>\n",
       "      <td>47068.888559</td>\n",
       "      <td>2.498887</td>\n",
       "      <td>3.659108</td>\n",
       "      <td>0.0</td>\n",
       "      <td>0.851883</td>\n",
       "      <td>7.782222</td>\n",
       "      <td>1.288978</td>\n",
       "      <td>6.125135</td>\n",
       "      <td>3.221699</td>\n",
       "      <td>3.567327</td>\n",
       "    </tr>\n",
       "    <tr>\n",
       "      <th>min</th>\n",
       "      <td>18.000000</td>\n",
       "      <td>1.000000</td>\n",
       "      <td>1.000000</td>\n",
       "      <td>1.0</td>\n",
       "      <td>1.000000</td>\n",
       "      <td>1.000000</td>\n",
       "      <td>10090.000000</td>\n",
       "      <td>0.000000</td>\n",
       "      <td>11.000000</td>\n",
       "      <td>8.0</td>\n",
       "      <td>0.000000</td>\n",
       "      <td>0.000000</td>\n",
       "      <td>0.000000</td>\n",
       "      <td>0.000000</td>\n",
       "      <td>0.000000</td>\n",
       "      <td>0.000000</td>\n",
       "    </tr>\n",
       "    <tr>\n",
       "      <th>25%</th>\n",
       "      <td>30.000000</td>\n",
       "      <td>2.000000</td>\n",
       "      <td>2.000000</td>\n",
       "      <td>1.0</td>\n",
       "      <td>1103.250000</td>\n",
       "      <td>1.000000</td>\n",
       "      <td>29110.000000</td>\n",
       "      <td>1.000000</td>\n",
       "      <td>12.000000</td>\n",
       "      <td>8.0</td>\n",
       "      <td>0.000000</td>\n",
       "      <td>6.000000</td>\n",
       "      <td>2.000000</td>\n",
       "      <td>3.000000</td>\n",
       "      <td>0.000000</td>\n",
       "      <td>2.000000</td>\n",
       "    </tr>\n",
       "    <tr>\n",
       "      <th>50%</th>\n",
       "      <td>36.000000</td>\n",
       "      <td>7.000000</td>\n",
       "      <td>3.000000</td>\n",
       "      <td>1.0</td>\n",
       "      <td>2205.500000</td>\n",
       "      <td>2.000000</td>\n",
       "      <td>49190.000000</td>\n",
       "      <td>2.000000</td>\n",
       "      <td>14.000000</td>\n",
       "      <td>8.0</td>\n",
       "      <td>1.000000</td>\n",
       "      <td>10.000000</td>\n",
       "      <td>3.000000</td>\n",
       "      <td>5.000000</td>\n",
       "      <td>1.000000</td>\n",
       "      <td>3.000000</td>\n",
       "    </tr>\n",
       "    <tr>\n",
       "      <th>75%</th>\n",
       "      <td>43.000000</td>\n",
       "      <td>14.000000</td>\n",
       "      <td>4.000000</td>\n",
       "      <td>1.0</td>\n",
       "      <td>3307.750000</td>\n",
       "      <td>3.000000</td>\n",
       "      <td>83800.000000</td>\n",
       "      <td>4.000000</td>\n",
       "      <td>18.000000</td>\n",
       "      <td>8.0</td>\n",
       "      <td>1.000000</td>\n",
       "      <td>15.000000</td>\n",
       "      <td>3.000000</td>\n",
       "      <td>9.000000</td>\n",
       "      <td>3.000000</td>\n",
       "      <td>7.000000</td>\n",
       "    </tr>\n",
       "    <tr>\n",
       "      <th>max</th>\n",
       "      <td>60.000000</td>\n",
       "      <td>29.000000</td>\n",
       "      <td>5.000000</td>\n",
       "      <td>1.0</td>\n",
       "      <td>4410.000000</td>\n",
       "      <td>5.000000</td>\n",
       "      <td>199990.000000</td>\n",
       "      <td>9.000000</td>\n",
       "      <td>25.000000</td>\n",
       "      <td>8.0</td>\n",
       "      <td>3.000000</td>\n",
       "      <td>40.000000</td>\n",
       "      <td>6.000000</td>\n",
       "      <td>40.000000</td>\n",
       "      <td>15.000000</td>\n",
       "      <td>17.000000</td>\n",
       "    </tr>\n",
       "  </tbody>\n",
       "</table>\n",
       "</div>"
      ],
      "text/plain": [
       "               Age  DistanceFromHome    Education  EmployeeCount   EmployeeID  \\\n",
       "count  4410.000000       4410.000000  4410.000000         4410.0  4410.000000   \n",
       "mean     36.923810          9.192517     2.912925            1.0  2205.500000   \n",
       "std       9.133301          8.105026     1.023933            0.0  1273.201673   \n",
       "min      18.000000          1.000000     1.000000            1.0     1.000000   \n",
       "25%      30.000000          2.000000     2.000000            1.0  1103.250000   \n",
       "50%      36.000000          7.000000     3.000000            1.0  2205.500000   \n",
       "75%      43.000000         14.000000     4.000000            1.0  3307.750000   \n",
       "max      60.000000         29.000000     5.000000            1.0  4410.000000   \n",
       "\n",
       "          JobLevel  MonthlyIncome  NumCompaniesWorked  PercentSalaryHike  \\\n",
       "count  4410.000000    4410.000000         4391.000000        4410.000000   \n",
       "mean      2.063946   65029.312925            2.694830          15.209524   \n",
       "std       1.106689   47068.888559            2.498887           3.659108   \n",
       "min       1.000000   10090.000000            0.000000          11.000000   \n",
       "25%       1.000000   29110.000000            1.000000          12.000000   \n",
       "50%       2.000000   49190.000000            2.000000          14.000000   \n",
       "75%       3.000000   83800.000000            4.000000          18.000000   \n",
       "max       5.000000  199990.000000            9.000000          25.000000   \n",
       "\n",
       "       StandardHours  StockOptionLevel  TotalWorkingYears  \\\n",
       "count         4410.0       4410.000000        4401.000000   \n",
       "mean             8.0          0.793878          11.279936   \n",
       "std              0.0          0.851883           7.782222   \n",
       "min              8.0          0.000000           0.000000   \n",
       "25%              8.0          0.000000           6.000000   \n",
       "50%              8.0          1.000000          10.000000   \n",
       "75%              8.0          1.000000          15.000000   \n",
       "max              8.0          3.000000          40.000000   \n",
       "\n",
       "       TrainingTimesLastYear  YearsAtCompany  YearsSinceLastPromotion  \\\n",
       "count            4410.000000     4410.000000              4410.000000   \n",
       "mean                2.799320        7.008163                 2.187755   \n",
       "std                 1.288978        6.125135                 3.221699   \n",
       "min                 0.000000        0.000000                 0.000000   \n",
       "25%                 2.000000        3.000000                 0.000000   \n",
       "50%                 3.000000        5.000000                 1.000000   \n",
       "75%                 3.000000        9.000000                 3.000000   \n",
       "max                 6.000000       40.000000                15.000000   \n",
       "\n",
       "       YearsWithCurrManager  \n",
       "count           4410.000000  \n",
       "mean               4.123129  \n",
       "std                3.567327  \n",
       "min                0.000000  \n",
       "25%                2.000000  \n",
       "50%                3.000000  \n",
       "75%                7.000000  \n",
       "max               17.000000  "
      ]
     },
     "execution_count": 13,
     "metadata": {},
     "output_type": "execute_result"
    }
   ],
   "source": [
    "dt.describe()"
   ]
  },
  {
   "cell_type": "code",
   "execution_count": 14,
   "metadata": {
    "scrolled": false
   },
   "outputs": [
    {
     "data": {
      "text/plain": [
       "Age                           36.0\n",
       "DistanceFromHome               7.0\n",
       "Education                      3.0\n",
       "EmployeeCount                  1.0\n",
       "EmployeeID                  2205.5\n",
       "JobLevel                       2.0\n",
       "MonthlyIncome              49190.0\n",
       "NumCompaniesWorked             2.0\n",
       "PercentSalaryHike             14.0\n",
       "StandardHours                  8.0\n",
       "StockOptionLevel               1.0\n",
       "TotalWorkingYears             10.0\n",
       "TrainingTimesLastYear          3.0\n",
       "YearsAtCompany                 5.0\n",
       "YearsSinceLastPromotion        1.0\n",
       "YearsWithCurrManager           3.0\n",
       "dtype: float64"
      ]
     },
     "execution_count": 14,
     "metadata": {},
     "output_type": "execute_result"
    }
   ],
   "source": [
    "dt.median()"
   ]
  },
  {
   "cell_type": "code",
   "execution_count": 15,
   "metadata": {
    "scrolled": true
   },
   "outputs": [
    {
     "data": {
      "text/plain": [
       "Age                        8.341719e+01\n",
       "DistanceFromHome           6.569144e+01\n",
       "Education                  1.048438e+00\n",
       "EmployeeCount              0.000000e+00\n",
       "EmployeeID                 1.621042e+06\n",
       "JobLevel                   1.224760e+00\n",
       "MonthlyIncome              2.215480e+09\n",
       "NumCompaniesWorked         6.244436e+00\n",
       "PercentSalaryHike          1.338907e+01\n",
       "StandardHours              0.000000e+00\n",
       "StockOptionLevel           7.257053e-01\n",
       "TotalWorkingYears          6.056298e+01\n",
       "TrainingTimesLastYear      1.661465e+00\n",
       "YearsAtCompany             3.751728e+01\n",
       "YearsSinceLastPromotion    1.037935e+01\n",
       "YearsWithCurrManager       1.272582e+01\n",
       "dtype: float64"
      ]
     },
     "execution_count": 15,
     "metadata": {},
     "output_type": "execute_result"
    }
   ],
   "source": [
    "dt.var()"
   ]
  },
  {
   "cell_type": "markdown",
   "metadata": {},
   "source": [
    "# Hypothesis Formulation"
   ]
  },
  {
   "cell_type": "code",
   "execution_count": 17,
   "metadata": {},
   "outputs": [
    {
     "data": {
      "text/plain": [
       "<matplotlib.axes._subplots.AxesSubplot at 0x4732910>"
      ]
     },
     "execution_count": 17,
     "metadata": {},
     "output_type": "execute_result"
    },
    {
     "data": {
      "image/png": "[encoded data removed]",
      "text/plain": [
       "<Figure size 432x288 with 1 Axes>"
      ]
     },
     "metadata": {},
     "output_type": "display_data"
    }
   ],
   "source": [
    "dt.Attrition.value_counts().plot(kind = 'pie',autopct = \"%1.f%%\")"
   ]
  },
  {
   "cell_type": "markdown",
   "metadata": {},
   "source": [
    "From the above we know that 16% of people are going to leave the company\n",
    "\n",
    "## Hypothesis 1\n",
    "H0 -> From the below insight we can say that, The average age of employee with attrition is greater than or equal to 35. where, μ >= 35."
   ]
  },
  {
   "cell_type": "code",
   "execution_count": 21,
   "metadata": {},
   "outputs": [
    {
     "data": {
      "text/plain": [
       "<matplotlib.axes._subplots.AxesSubplot at 0x1006b770>"
      ]
     },
     "execution_count": 21,
     "metadata": {},
     "output_type": "execute_result"
    },
    {
     "data": {
      "image/png": "[encoded data removed]",
      "text/plain": [
       "<Figure size 432x288 with 1 Axes>"
      ]
     },
     "metadata": {
      "needs_background": "light"
     },
     "output_type": "display_data"
    }
   ],
   "source": [
    "sns.boxenplot(x = 'Attrition',y = 'Age',data = dt)"
   ]
  },
  {
   "cell_type": "markdown",
   "metadata": {},
   "source": [
    "## Hypothesis 2\n",
    "H0 -> The person who travels rarely has more attrition then person who travels frequently and those who travel rarely."
   ]
  },
  {
   "cell_type": "code",
   "execution_count": 22,
   "metadata": {},
   "outputs": [
    {
     "data": {
      "text/plain": [
       "<matplotlib.axes._subplots.AxesSubplot at 0x101030f0>"
      ]
     },
     "execution_count": 22,
     "metadata": {},
     "output_type": "execute_result"
    },
    {
     "data": {
      "image/png": "[encoded data removed]",
      "text/plain": [
       "<Figure size 432x288 with 1 Axes>"
      ]
     },
     "metadata": {
      "needs_background": "light"
     },
     "output_type": "display_data"
    }
   ],
   "source": [
    "sns.countplot(x = 'BusinessTravel',data=dt,hue = 'Attrition')"
   ]
  },
  {
   "cell_type": "markdown",
   "metadata": {},
   "source": [
    "## Hypothesis 3\n",
    "H0 -> Male employees have more attrition rate than the female employees."
   ]
  },
  {
   "cell_type": "code",
   "execution_count": 23,
   "metadata": {},
   "outputs": [
    {
     "data": {
      "text/plain": [
       "<matplotlib.axes._subplots.AxesSubplot at 0x1010c870>"
      ]
     },
     "execution_count": 23,
     "metadata": {},
     "output_type": "execute_result"
    },
    {
     "data": {
      "image/png": "[encoded data removed]",
      "text/plain": [
       "<Figure size 432x288 with 1 Axes>"
      ]
     },
     "metadata": {},
     "output_type": "display_data"
    }
   ],
   "source": [
    "dt['Gender'].value_counts().plot(kind='pie',autopct = '%.0f%%')"
   ]
  },
  {
   "cell_type": "code",
   "execution_count": 24,
   "metadata": {},
   "outputs": [
    {
     "data": {
      "text/plain": [
       "<matplotlib.axes._subplots.AxesSubplot at 0x101684f0>"
      ]
     },
     "execution_count": 24,
     "metadata": {},
     "output_type": "execute_result"
    },
    {
     "data": {
      "image/png": "[encoded data removed]",
      "text/plain": [
       "<Figure size 432x288 with 1 Axes>"
      ]
     },
     "metadata": {
      "needs_background": "light"
     },
     "output_type": "display_data"
    }
   ],
   "source": [
    "sns.countplot(x = 'Gender',data=dt,hue='Attrition')"
   ]
  },
  {
   "cell_type": "markdown",
   "metadata": {},
   "source": [
    "## Hypothesis 4\n",
    "H0 -> Employees having the DistanceFromHome less than or equal to 10 have more attrition rate."
   ]
  },
  {
   "cell_type": "code",
   "execution_count": 25,
   "metadata": {},
   "outputs": [
    {
     "data": {
      "text/plain": [
       "<matplotlib.axes._subplots.AxesSubplot at 0x101c59d0>"
      ]
     },
     "execution_count": 25,
     "metadata": {},
     "output_type": "execute_result"
    },
    {
     "data": {
      "image/png": "[encoded data removed]",
      "text/plain": [
       "<Figure size 432x288 with 1 Axes>"
      ]
     },
     "metadata": {
      "needs_background": "light"
     },
     "output_type": "display_data"
    }
   ],
   "source": [
    "sns.countplot(x = 'DistanceFromHome',hue='Attrition',data=dt)"
   ]
  },
  {
   "cell_type": "markdown",
   "metadata": {},
   "source": [
    "## Hypothesis 5\n",
    "H0 -> Employee having joblevel less than or equal to 2 have high attrition rate"
   ]
  },
  {
   "cell_type": "code",
   "execution_count": 26,
   "metadata": {},
   "outputs": [
    {
     "data": {
      "text/plain": [
       "<matplotlib.axes._subplots.AxesSubplot at 0x10293e50>"
      ]
     },
     "execution_count": 26,
     "metadata": {},
     "output_type": "execute_result"
    },
    {
     "data": {
      "image/png": "[encoded data removed]",
      "text/plain": [
       "<Figure size 432x288 with 1 Axes>"
      ]
     },
     "metadata": {
      "needs_background": "light"
     },
     "output_type": "display_data"
    }
   ],
   "source": [
    "sns.countplot(x = 'JobLevel',data=dt,hue='Attrition')"
   ]
  },
  {
   "cell_type": "markdown",
   "metadata": {},
   "source": [
    "## Hypothesis 6\n",
    "H0 -> Employee who worked in a single company have high attrition rate"
   ]
  },
  {
   "cell_type": "code",
   "execution_count": 27,
   "metadata": {},
   "outputs": [
    {
     "data": {
      "text/plain": [
       "<matplotlib.axes._subplots.AxesSubplot at 0x10297d50>"
      ]
     },
     "execution_count": 27,
     "metadata": {},
     "output_type": "execute_result"
    },
    {
     "data": {
      "image/png": "[encoded data removed]",
      "text/plain": [
       "<Figure size 432x288 with 1 Axes>"
      ]
     },
     "metadata": {
      "needs_background": "light"
     },
     "output_type": "display_data"
    }
   ],
   "source": [
    "sns.countplot(x='NumCompaniesWorked', hue='Attrition', data=dt)"
   ]
  },
  {
   "cell_type": "markdown",
   "metadata": {},
   "source": [
    "## Hypothesis 7\n",
    "H0 -> Employee who works in the Research and Development department have more attrition rate than the other department workers"
   ]
  },
  {
   "cell_type": "code",
   "execution_count": 28,
   "metadata": {},
   "outputs": [
    {
     "data": {
      "text/plain": [
       "<matplotlib.axes._subplots.AxesSubplot at 0x1029adf0>"
      ]
     },
     "execution_count": 28,
     "metadata": {},
     "output_type": "execute_result"
    },
    {
     "data": {
      "image/png": "[encoded data removed]",
      "text/plain": [
       "<Figure size 432x288 with 1 Axes>"
      ]
     },
     "metadata": {
      "needs_background": "light"
     },
     "output_type": "display_data"
    }
   ],
   "source": [
    "sns.countplot(x='Department', hue='Attrition', data=dt)"
   ]
  },
  {
   "cell_type": "markdown",
   "metadata": {},
   "source": [
    "## Hypothesis 8\n",
    "H0 -> Employee who is having the martial status of Single have high attrition rate"
   ]
  },
  {
   "cell_type": "code",
   "execution_count": 29,
   "metadata": {},
   "outputs": [
    {
     "data": {
      "text/plain": [
       "<matplotlib.axes._subplots.AxesSubplot at 0x112c70d0>"
      ]
     },
     "execution_count": 29,
     "metadata": {},
     "output_type": "execute_result"
    },
    {
     "data": {
      "image/png": "[encoded data removed]",
      "text/plain": [
       "<Figure size 432x288 with 1 Axes>"
      ]
     },
     "metadata": {
      "needs_background": "light"
     },
     "output_type": "display_data"
    }
   ],
   "source": [
    "sns.countplot(x='MaritalStatus',hue='Attrition',data=dt)"
   ]
  },
  {
   "cell_type": "markdown",
   "metadata": {},
   "source": [
    "## Hypothesis 9\n",
    "H0 -> Employee having the SalaryHike greater than or equal to 15 have high attrition rate."
   ]
  },
  {
   "cell_type": "code",
   "execution_count": 30,
   "metadata": {},
   "outputs": [
    {
     "data": {
      "text/plain": [
       "<matplotlib.axes._subplots.AxesSubplot at 0x113702d0>"
      ]
     },
     "execution_count": 30,
     "metadata": {},
     "output_type": "execute_result"
    },
    {
     "data": {
      "image/png": "[encoded data removed]",
      "text/plain": [
       "<Figure size 432x288 with 1 Axes>"
      ]
     },
     "metadata": {
      "needs_background": "light"
     },
     "output_type": "display_data"
    }
   ],
   "source": [
    "sns.countplot(hue = 'Attrition',x ='PercentSalaryHike',data=dt)"
   ]
  },
  {
   "cell_type": "markdown",
   "metadata": {},
   "source": [
    "## Hypothesis 10\n",
    "H0 -> The Employee who have Training experience of 2 or 3 years have high atrrition rate"
   ]
  },
  {
   "cell_type": "code",
   "execution_count": 31,
   "metadata": {},
   "outputs": [
    {
     "data": {
      "image/png": "[encoded data removed]",
      "text/plain": [
       "<Figure size 432x288 with 1 Axes>"
      ]
     },
     "metadata": {
      "needs_background": "light"
     },
     "output_type": "display_data"
    }
   ],
   "source": [
    "sns.countplot(x = 'TrainingTimesLastYear' , hue='Attrition' , data=dt);"
   ]
  },
  {
   "cell_type": "markdown",
   "metadata": {},
   "source": [
    "# Correlation between variables"
   ]
  },
  {
   "cell_type": "code",
   "execution_count": 32,
   "metadata": {},
   "outputs": [],
   "source": [
    "from scipy.stats import pearsonr"
   ]
  },
  {
   "cell_type": "code",
   "execution_count": 33,
   "metadata": {},
   "outputs": [],
   "source": [
    "# Changing the attrition into numeric column\n",
    "\n",
    "dt['Attrition'] = dt.Attrition.map({'Yes':1,'No':0})"
   ]
  },
  {
   "cell_type": "markdown",
   "metadata": {},
   "source": [
    "### Correlation between attrition and age"
   ]
  },
  {
   "cell_type": "code",
   "execution_count": 35,
   "metadata": {},
   "outputs": [
    {
     "data": {
      "text/plain": [
       "(-0.15920500686577926, 1.996801615887666e-26)"
      ]
     },
     "execution_count": 35,
     "metadata": {},
     "output_type": "execute_result"
    }
   ],
   "source": [
    "stats , p = pearsonr(dt.Attrition,dt.Age)\n",
    "stats , p"
   ]
  },
  {
   "cell_type": "markdown",
   "metadata": {},
   "source": [
    "since the r value is negative we say that the age is negatively correlated with the attrition.\n",
    "\n",
    "### Correlation between Attrition and Distance from home"
   ]
  },
  {
   "cell_type": "code",
   "execution_count": 36,
   "metadata": {},
   "outputs": [
    {
     "data": {
      "text/plain": [
       "(-0.009730141010179777, 0.5182860428049525)"
      ]
     },
     "execution_count": 36,
     "metadata": {},
     "output_type": "execute_result"
    }
   ],
   "source": [
    "stats , p = pearsonr(dt.Attrition , dt.DistanceFromHome)\n",
    "stats , p"
   ]
  },
  {
   "cell_type": "markdown",
   "metadata": {},
   "source": [
    "Here the r value is negative which says that the DistanceFromHome is negatively correlated with the attrition and we can accept the hypothesis since the p-value is greater than 0.05\n",
    "\n",
    "### Correlation between Attrition and Monthly income"
   ]
  },
  {
   "cell_type": "code",
   "execution_count": 38,
   "metadata": {},
   "outputs": [
    {
     "data": {
      "text/plain": [
       "(-0.031176281698115104, 0.03842748490600999)"
      ]
     },
     "execution_count": 38,
     "metadata": {},
     "output_type": "execute_result"
    }
   ],
   "source": [
    "stats , p = pearsonr(dt.Attrition, dt.MonthlyIncome)\n",
    "stats , p"
   ]
  },
  {
   "cell_type": "markdown",
   "metadata": {},
   "source": [
    "Here also the Monthlyincome is negatively correlated with the attrition\n",
    "\n",
    "### Correlation between Attrition and Education"
   ]
  },
  {
   "cell_type": "code",
   "execution_count": 40,
   "metadata": {},
   "outputs": [
    {
     "data": {
      "text/plain": [
       "(-0.015111167710968758, 0.3157293177118575)"
      ]
     },
     "execution_count": 40,
     "metadata": {},
     "output_type": "execute_result"
    }
   ],
   "source": [
    "stats , p = pearsonr(dt.Attrition, dt.Education)\n",
    "stats , p"
   ]
  },
  {
   "cell_type": "markdown",
   "metadata": {},
   "source": [
    "The correlation between the Education and the attrition are negatively correlated\n",
    "\n",
    "### Correlation between Attrition and Percent salary hike"
   ]
  },
  {
   "cell_type": "code",
   "execution_count": 42,
   "metadata": {},
   "outputs": [
    {
     "data": {
      "text/plain": [
       "(0.03253259489105342, 0.030743386433362125)"
      ]
     },
     "execution_count": 42,
     "metadata": {},
     "output_type": "execute_result"
    }
   ],
   "source": [
    "stats , p = pearsonr(dt.Attrition , dt.PercentSalaryHike)\n",
    "stats , p"
   ]
  },
  {
   "cell_type": "markdown",
   "metadata": {},
   "source": [
    "Here the Percent Salary hike of employee is positively correlated with the Attrition.\n",
    "\n",
    "### Correlation between Attrition and YearsAtCompany"
   ]
  },
  {
   "cell_type": "code",
   "execution_count": 43,
   "metadata": {},
   "outputs": [
    {
     "data": {
      "text/plain": [
       "(-0.13439221398997736, 3.163883122488445e-19)"
      ]
     },
     "execution_count": 43,
     "metadata": {},
     "output_type": "execute_result"
    }
   ],
   "source": [
    "stats , p = pearsonr(dt.Attrition , dt.YearsAtCompany)\n",
    "stats , p"
   ]
  },
  {
   "cell_type": "markdown",
   "metadata": {},
   "source": [
    "The number of years Employee worked at the company is negatively correlated with the Attrition of the employee\n",
    "\n",
    "### Correlation between Attrition and YearsSinceLastPromotion"
   ]
  },
  {
   "cell_type": "code",
   "execution_count": 44,
   "metadata": {},
   "outputs": [
    {
     "data": {
      "text/plain": [
       "(-0.0330187751425846, 0.02833033618939645)"
      ]
     },
     "execution_count": 44,
     "metadata": {},
     "output_type": "execute_result"
    }
   ],
   "source": [
    "stats , p = pearsonr(dt.Attrition , dt.YearsSinceLastPromotion)\n",
    "stats , p"
   ]
  },
  {
   "cell_type": "markdown",
   "metadata": {},
   "source": [
    "Years since last promotion of the employee is negatively correlated with the Attrition of the employee\n",
    "\n",
    "### Correlation between Attrition and YearsWithCurrManager"
   ]
  },
  {
   "cell_type": "code",
   "execution_count": 45,
   "metadata": {},
   "outputs": [
    {
     "data": {
      "text/plain": [
       "(-0.15619931590162786, 1.7339322652908228e-25)"
      ]
     },
     "execution_count": 45,
     "metadata": {},
     "output_type": "execute_result"
    }
   ],
   "source": [
    "stats , p = pearsonr(dt.Attrition , dt.YearsWithCurrManager)\n",
    "stats , p"
   ]
  },
  {
   "cell_type": "markdown",
   "metadata": {},
   "source": [
    "The number of years employee worked with the current manager is negatively correlated with the Attrition\n",
    "\n",
    "### Correlation between attrition and TrainingTimesLastYear"
   ]
  },
  {
   "cell_type": "code",
   "execution_count": 46,
   "metadata": {},
   "outputs": [
    {
     "data": {
      "text/plain": [
       "(-0.04943057624425494, 0.0010247061915365072)"
      ]
     },
     "execution_count": 46,
     "metadata": {},
     "output_type": "execute_result"
    }
   ],
   "source": [
    "stats , p = pearsonr(dt.Attrition , dt.TrainingTimesLastYear)\n",
    "stats , p"
   ]
  },
  {
   "cell_type": "markdown",
   "metadata": {},
   "source": [
    "Training time last year for the employees is negatively correlated with the Attrition of the employees\n",
    "\n",
    "### Another way to find correlation corr()"
   ]
  },
  {
   "cell_type": "code",
   "execution_count": 48,
   "metadata": {},
   "outputs": [
    {
     "data": {
      "text/html": [
       "<div>\n",
       "<style scoped>\n",
       "    .dataframe tbody tr th:only-of-type {\n",
       "        vertical-align: middle;\n",
       "    }\n",
       "\n",
       "    .dataframe tbody tr th {\n",
       "        vertical-align: top;\n",
       "    }\n",
       "\n",
       "    .dataframe thead th {\n",
       "        text-align: right;\n",
       "    }\n",
       "</style>\n",
       "<table border=\"1\" class=\"dataframe\">\n",
       "  <thead>\n",
       "    <tr style=\"text-align: right;\">\n",
       "      <th></th>\n",
       "      <th>Age</th>\n",
       "      <th>Attrition</th>\n",
       "      <th>DistanceFromHome</th>\n",
       "      <th>Education</th>\n",
       "      <th>EmployeeCount</th>\n",
       "      <th>EmployeeID</th>\n",
       "      <th>JobLevel</th>\n",
       "      <th>MonthlyIncome</th>\n",
       "      <th>NumCompaniesWorked</th>\n",
       "      <th>PercentSalaryHike</th>\n",
       "      <th>StandardHours</th>\n",
       "      <th>StockOptionLevel</th>\n",
       "      <th>TotalWorkingYears</th>\n",
       "      <th>TrainingTimesLastYear</th>\n",
       "      <th>YearsAtCompany</th>\n",
       "      <th>YearsSinceLastPromotion</th>\n",
       "      <th>YearsWithCurrManager</th>\n",
       "    </tr>\n",
       "  </thead>\n",
       "  <tbody>\n",
       "    <tr>\n",
       "      <th>Age</th>\n",
       "      <td>1.000000</td>\n",
       "      <td>-0.159205</td>\n",
       "      <td>0.006963</td>\n",
       "      <td>-0.035706</td>\n",
       "      <td>NaN</td>\n",
       "      <td>0.008649</td>\n",
       "      <td>-0.002884</td>\n",
       "      <td>-0.044314</td>\n",
       "      <td>0.299243</td>\n",
       "      <td>-0.033137</td>\n",
       "      <td>NaN</td>\n",
       "      <td>-0.031753</td>\n",
       "      <td>0.680661</td>\n",
       "      <td>-0.027308</td>\n",
       "      <td>0.311309</td>\n",
       "      <td>0.216513</td>\n",
       "      <td>0.202089</td>\n",
       "    </tr>\n",
       "    <tr>\n",
       "      <th>Attrition</th>\n",
       "      <td>-0.159205</td>\n",
       "      <td>1.000000</td>\n",
       "      <td>-0.009730</td>\n",
       "      <td>-0.015111</td>\n",
       "      <td>NaN</td>\n",
       "      <td>-0.004729</td>\n",
       "      <td>-0.010290</td>\n",
       "      <td>-0.031176</td>\n",
       "      <td>0.042345</td>\n",
       "      <td>0.032533</td>\n",
       "      <td>NaN</td>\n",
       "      <td>-0.006839</td>\n",
       "      <td>-0.170338</td>\n",
       "      <td>-0.049431</td>\n",
       "      <td>-0.134392</td>\n",
       "      <td>-0.033019</td>\n",
       "      <td>-0.156199</td>\n",
       "    </tr>\n",
       "    <tr>\n",
       "      <th>DistanceFromHome</th>\n",
       "      <td>0.006963</td>\n",
       "      <td>-0.009730</td>\n",
       "      <td>1.000000</td>\n",
       "      <td>-0.008638</td>\n",
       "      <td>NaN</td>\n",
       "      <td>-0.001097</td>\n",
       "      <td>-0.037329</td>\n",
       "      <td>-0.021607</td>\n",
       "      <td>-0.013843</td>\n",
       "      <td>0.038125</td>\n",
       "      <td>NaN</td>\n",
       "      <td>0.011169</td>\n",
       "      <td>0.009374</td>\n",
       "      <td>-0.009001</td>\n",
       "      <td>0.031684</td>\n",
       "      <td>0.002290</td>\n",
       "      <td>0.021584</td>\n",
       "    </tr>\n",
       "    <tr>\n",
       "      <th>Education</th>\n",
       "      <td>-0.035706</td>\n",
       "      <td>-0.015111</td>\n",
       "      <td>-0.008638</td>\n",
       "      <td>1.000000</td>\n",
       "      <td>NaN</td>\n",
       "      <td>-0.009680</td>\n",
       "      <td>0.045746</td>\n",
       "      <td>0.006410</td>\n",
       "      <td>-0.016250</td>\n",
       "      <td>-0.040531</td>\n",
       "      <td>NaN</td>\n",
       "      <td>0.001261</td>\n",
       "      <td>-0.010717</td>\n",
       "      <td>0.010472</td>\n",
       "      <td>0.006080</td>\n",
       "      <td>0.022490</td>\n",
       "      <td>0.005358</td>\n",
       "    </tr>\n",
       "    <tr>\n",
       "      <th>EmployeeCount</th>\n",
       "      <td>NaN</td>\n",
       "      <td>NaN</td>\n",
       "      <td>NaN</td>\n",
       "      <td>NaN</td>\n",
       "      <td>NaN</td>\n",
       "      <td>NaN</td>\n",
       "      <td>NaN</td>\n",
       "      <td>NaN</td>\n",
       "      <td>NaN</td>\n",
       "      <td>NaN</td>\n",
       "      <td>NaN</td>\n",
       "      <td>NaN</td>\n",
       "      <td>NaN</td>\n",
       "      <td>NaN</td>\n",
       "      <td>NaN</td>\n",
       "      <td>NaN</td>\n",
       "      <td>NaN</td>\n",
       "    </tr>\n",
       "    <tr>\n",
       "      <th>EmployeeID</th>\n",
       "      <td>0.008649</td>\n",
       "      <td>-0.004729</td>\n",
       "      <td>-0.001097</td>\n",
       "      <td>-0.009680</td>\n",
       "      <td>NaN</td>\n",
       "      <td>1.000000</td>\n",
       "      <td>-0.003303</td>\n",
       "      <td>0.007338</td>\n",
       "      <td>-0.001117</td>\n",
       "      <td>-0.004456</td>\n",
       "      <td>NaN</td>\n",
       "      <td>-0.014254</td>\n",
       "      <td>-0.001063</td>\n",
       "      <td>-0.010191</td>\n",
       "      <td>0.004086</td>\n",
       "      <td>0.000256</td>\n",
       "      <td>0.008579</td>\n",
       "    </tr>\n",
       "    <tr>\n",
       "      <th>JobLevel</th>\n",
       "      <td>-0.002884</td>\n",
       "      <td>-0.010290</td>\n",
       "      <td>-0.037329</td>\n",
       "      <td>0.045746</td>\n",
       "      <td>NaN</td>\n",
       "      <td>-0.003303</td>\n",
       "      <td>1.000000</td>\n",
       "      <td>0.047316</td>\n",
       "      <td>-0.009875</td>\n",
       "      <td>0.010973</td>\n",
       "      <td>NaN</td>\n",
       "      <td>0.000993</td>\n",
       "      <td>-0.036957</td>\n",
       "      <td>-0.032500</td>\n",
       "      <td>-0.064219</td>\n",
       "      <td>-0.060811</td>\n",
       "      <td>-0.055251</td>\n",
       "    </tr>\n",
       "    <tr>\n",
       "      <th>MonthlyIncome</th>\n",
       "      <td>-0.044314</td>\n",
       "      <td>-0.031176</td>\n",
       "      <td>-0.021607</td>\n",
       "      <td>0.006410</td>\n",
       "      <td>NaN</td>\n",
       "      <td>0.007338</td>\n",
       "      <td>0.047316</td>\n",
       "      <td>1.000000</td>\n",
       "      <td>-0.020726</td>\n",
       "      <td>0.004325</td>\n",
       "      <td>NaN</td>\n",
       "      <td>0.026930</td>\n",
       "      <td>-0.033787</td>\n",
       "      <td>0.050112</td>\n",
       "      <td>0.000995</td>\n",
       "      <td>0.065219</td>\n",
       "      <td>0.024304</td>\n",
       "    </tr>\n",
       "    <tr>\n",
       "      <th>NumCompaniesWorked</th>\n",
       "      <td>0.299243</td>\n",
       "      <td>0.042345</td>\n",
       "      <td>-0.013843</td>\n",
       "      <td>-0.016250</td>\n",
       "      <td>NaN</td>\n",
       "      <td>-0.001117</td>\n",
       "      <td>-0.009875</td>\n",
       "      <td>-0.020726</td>\n",
       "      <td>1.000000</td>\n",
       "      <td>0.030860</td>\n",
       "      <td>NaN</td>\n",
       "      <td>0.017163</td>\n",
       "      <td>0.238807</td>\n",
       "      <td>-0.032286</td>\n",
       "      <td>-0.117959</td>\n",
       "      <td>-0.036656</td>\n",
       "      <td>-0.109667</td>\n",
       "    </tr>\n",
       "    <tr>\n",
       "      <th>PercentSalaryHike</th>\n",
       "      <td>-0.033137</td>\n",
       "      <td>0.032533</td>\n",
       "      <td>0.038125</td>\n",
       "      <td>-0.040531</td>\n",
       "      <td>NaN</td>\n",
       "      <td>-0.004456</td>\n",
       "      <td>0.010973</td>\n",
       "      <td>0.004325</td>\n",
       "      <td>0.030860</td>\n",
       "      <td>1.000000</td>\n",
       "      <td>NaN</td>\n",
       "      <td>0.012548</td>\n",
       "      <td>-0.018736</td>\n",
       "      <td>-0.037392</td>\n",
       "      <td>-0.029707</td>\n",
       "      <td>-0.029542</td>\n",
       "      <td>-0.040864</td>\n",
       "    </tr>\n",
       "    <tr>\n",
       "      <th>StandardHours</th>\n",
       "      <td>NaN</td>\n",
       "      <td>NaN</td>\n",
       "      <td>NaN</td>\n",
       "      <td>NaN</td>\n",
       "      <td>NaN</td>\n",
       "      <td>NaN</td>\n",
       "      <td>NaN</td>\n",
       "      <td>NaN</td>\n",
       "      <td>NaN</td>\n",
       "      <td>NaN</td>\n",
       "      <td>NaN</td>\n",
       "      <td>NaN</td>\n",
       "      <td>NaN</td>\n",
       "      <td>NaN</td>\n",
       "      <td>NaN</td>\n",
       "      <td>NaN</td>\n",
       "      <td>NaN</td>\n",
       "    </tr>\n",
       "    <tr>\n",
       "      <th>StockOptionLevel</th>\n",
       "      <td>-0.031753</td>\n",
       "      <td>-0.006839</td>\n",
       "      <td>0.011169</td>\n",
       "      <td>0.001261</td>\n",
       "      <td>NaN</td>\n",
       "      <td>-0.014254</td>\n",
       "      <td>0.000993</td>\n",
       "      <td>0.026930</td>\n",
       "      <td>0.017163</td>\n",
       "      <td>0.012548</td>\n",
       "      <td>NaN</td>\n",
       "      <td>1.000000</td>\n",
       "      <td>0.002694</td>\n",
       "      <td>-0.069902</td>\n",
       "      <td>0.007886</td>\n",
       "      <td>0.019063</td>\n",
       "      <td>0.017757</td>\n",
       "    </tr>\n",
       "    <tr>\n",
       "      <th>TotalWorkingYears</th>\n",
       "      <td>0.680661</td>\n",
       "      <td>-0.170338</td>\n",
       "      <td>0.009374</td>\n",
       "      <td>-0.010717</td>\n",
       "      <td>NaN</td>\n",
       "      <td>-0.001063</td>\n",
       "      <td>-0.036957</td>\n",
       "      <td>-0.033787</td>\n",
       "      <td>0.238807</td>\n",
       "      <td>-0.018736</td>\n",
       "      <td>NaN</td>\n",
       "      <td>0.002694</td>\n",
       "      <td>1.000000</td>\n",
       "      <td>-0.040762</td>\n",
       "      <td>0.627703</td>\n",
       "      <td>0.404444</td>\n",
       "      <td>0.458800</td>\n",
       "    </tr>\n",
       "    <tr>\n",
       "      <th>TrainingTimesLastYear</th>\n",
       "      <td>-0.027308</td>\n",
       "      <td>-0.049431</td>\n",
       "      <td>-0.009001</td>\n",
       "      <td>0.010472</td>\n",
       "      <td>NaN</td>\n",
       "      <td>-0.010191</td>\n",
       "      <td>-0.032500</td>\n",
       "      <td>0.050112</td>\n",
       "      <td>-0.032286</td>\n",
       "      <td>-0.037392</td>\n",
       "      <td>NaN</td>\n",
       "      <td>-0.069902</td>\n",
       "      <td>-0.040762</td>\n",
       "      <td>1.000000</td>\n",
       "      <td>-0.007894</td>\n",
       "      <td>0.016121</td>\n",
       "      <td>-0.013270</td>\n",
       "    </tr>\n",
       "    <tr>\n",
       "      <th>YearsAtCompany</th>\n",
       "      <td>0.311309</td>\n",
       "      <td>-0.134392</td>\n",
       "      <td>0.031684</td>\n",
       "      <td>0.006080</td>\n",
       "      <td>NaN</td>\n",
       "      <td>0.004086</td>\n",
       "      <td>-0.064219</td>\n",
       "      <td>0.000995</td>\n",
       "      <td>-0.117959</td>\n",
       "      <td>-0.029707</td>\n",
       "      <td>NaN</td>\n",
       "      <td>0.007886</td>\n",
       "      <td>0.627703</td>\n",
       "      <td>-0.007894</td>\n",
       "      <td>1.000000</td>\n",
       "      <td>0.618409</td>\n",
       "      <td>0.769212</td>\n",
       "    </tr>\n",
       "    <tr>\n",
       "      <th>YearsSinceLastPromotion</th>\n",
       "      <td>0.216513</td>\n",
       "      <td>-0.033019</td>\n",
       "      <td>0.002290</td>\n",
       "      <td>0.022490</td>\n",
       "      <td>NaN</td>\n",
       "      <td>0.000256</td>\n",
       "      <td>-0.060811</td>\n",
       "      <td>0.065219</td>\n",
       "      <td>-0.036656</td>\n",
       "      <td>-0.029542</td>\n",
       "      <td>NaN</td>\n",
       "      <td>0.019063</td>\n",
       "      <td>0.404444</td>\n",
       "      <td>0.016121</td>\n",
       "      <td>0.618409</td>\n",
       "      <td>1.000000</td>\n",
       "      <td>0.510224</td>\n",
       "    </tr>\n",
       "    <tr>\n",
       "      <th>YearsWithCurrManager</th>\n",
       "      <td>0.202089</td>\n",
       "      <td>-0.156199</td>\n",
       "      <td>0.021584</td>\n",
       "      <td>0.005358</td>\n",
       "      <td>NaN</td>\n",
       "      <td>0.008579</td>\n",
       "      <td>-0.055251</td>\n",
       "      <td>0.024304</td>\n",
       "      <td>-0.109667</td>\n",
       "      <td>-0.040864</td>\n",
       "      <td>NaN</td>\n",
       "      <td>0.017757</td>\n",
       "      <td>0.458800</td>\n",
       "      <td>-0.013270</td>\n",
       "      <td>0.769212</td>\n",
       "      <td>0.510224</td>\n",
       "      <td>1.000000</td>\n",
       "    </tr>\n",
       "  </tbody>\n",
       "</table>\n",
       "</div>"
      ],
      "text/plain": [
       "                              Age  Attrition  DistanceFromHome  Education  \\\n",
       "Age                      1.000000  -0.159205          0.006963  -0.035706   \n",
       "Attrition               -0.159205   1.000000         -0.009730  -0.015111   \n",
       "DistanceFromHome         0.006963  -0.009730          1.000000  -0.008638   \n",
       "Education               -0.035706  -0.015111         -0.008638   1.000000   \n",
       "EmployeeCount                 NaN        NaN               NaN        NaN   \n",
       "EmployeeID               0.008649  -0.004729         -0.001097  -0.009680   \n",
       "JobLevel                -0.002884  -0.010290         -0.037329   0.045746   \n",
       "MonthlyIncome           -0.044314  -0.031176         -0.021607   0.006410   \n",
       "NumCompaniesWorked       0.299243   0.042345         -0.013843  -0.016250   \n",
       "PercentSalaryHike       -0.033137   0.032533          0.038125  -0.040531   \n",
       "StandardHours                 NaN        NaN               NaN        NaN   \n",
       "StockOptionLevel        -0.031753  -0.006839          0.011169   0.001261   \n",
       "TotalWorkingYears        0.680661  -0.170338          0.009374  -0.010717   \n",
       "TrainingTimesLastYear   -0.027308  -0.049431         -0.009001   0.010472   \n",
       "YearsAtCompany           0.311309  -0.134392          0.031684   0.006080   \n",
       "YearsSinceLastPromotion  0.216513  -0.033019          0.002290   0.022490   \n",
       "YearsWithCurrManager     0.202089  -0.156199          0.021584   0.005358   \n",
       "\n",
       "                         EmployeeCount  EmployeeID  JobLevel  MonthlyIncome  \\\n",
       "Age                                NaN    0.008649 -0.002884      -0.044314   \n",
       "Attrition                          NaN   -0.004729 -0.010290      -0.031176   \n",
       "DistanceFromHome                   NaN   -0.001097 -0.037329      -0.021607   \n",
       "Education                          NaN   -0.009680  0.045746       0.006410   \n",
       "EmployeeCount                      NaN         NaN       NaN            NaN   \n",
       "EmployeeID                         NaN    1.000000 -0.003303       0.007338   \n",
       "JobLevel                           NaN   -0.003303  1.000000       0.047316   \n",
       "MonthlyIncome                      NaN    0.007338  0.047316       1.000000   \n",
       "NumCompaniesWorked                 NaN   -0.001117 -0.009875      -0.020726   \n",
       "PercentSalaryHike                  NaN   -0.004456  0.010973       0.004325   \n",
       "StandardHours                      NaN         NaN       NaN            NaN   \n",
       "StockOptionLevel                   NaN   -0.014254  0.000993       0.026930   \n",
       "TotalWorkingYears                  NaN   -0.001063 -0.036957      -0.033787   \n",
       "TrainingTimesLastYear              NaN   -0.010191 -0.032500       0.050112   \n",
       "YearsAtCompany                     NaN    0.004086 -0.064219       0.000995   \n",
       "YearsSinceLastPromotion            NaN    0.000256 -0.060811       0.065219   \n",
       "YearsWithCurrManager               NaN    0.008579 -0.055251       0.024304   \n",
       "\n",
       "                         NumCompaniesWorked  PercentSalaryHike  StandardHours  \\\n",
       "Age                                0.299243          -0.033137            NaN   \n",
       "Attrition                          0.042345           0.032533            NaN   \n",
       "DistanceFromHome                  -0.013843           0.038125            NaN   \n",
       "Education                         -0.016250          -0.040531            NaN   \n",
       "EmployeeCount                           NaN                NaN            NaN   \n",
       "EmployeeID                        -0.001117          -0.004456            NaN   \n",
       "JobLevel                          -0.009875           0.010973            NaN   \n",
       "MonthlyIncome                     -0.020726           0.004325            NaN   \n",
       "NumCompaniesWorked                 1.000000           0.030860            NaN   \n",
       "PercentSalaryHike                  0.030860           1.000000            NaN   \n",
       "StandardHours                           NaN                NaN            NaN   \n",
       "StockOptionLevel                   0.017163           0.012548            NaN   \n",
       "TotalWorkingYears                  0.238807          -0.018736            NaN   \n",
       "TrainingTimesLastYear             -0.032286          -0.037392            NaN   \n",
       "YearsAtCompany                    -0.117959          -0.029707            NaN   \n",
       "YearsSinceLastPromotion           -0.036656          -0.029542            NaN   \n",
       "YearsWithCurrManager              -0.109667          -0.040864            NaN   \n",
       "\n",
       "                         StockOptionLevel  TotalWorkingYears  \\\n",
       "Age                             -0.031753           0.680661   \n",
       "Attrition                       -0.006839          -0.170338   \n",
       "DistanceFromHome                 0.011169           0.009374   \n",
       "Education                        0.001261          -0.010717   \n",
       "EmployeeCount                         NaN                NaN   \n",
       "EmployeeID                      -0.014254          -0.001063   \n",
       "JobLevel                         0.000993          -0.036957   \n",
       "MonthlyIncome                    0.026930          -0.033787   \n",
       "NumCompaniesWorked               0.017163           0.238807   \n",
       "PercentSalaryHike                0.012548          -0.018736   \n",
       "StandardHours                         NaN                NaN   \n",
       "StockOptionLevel                 1.000000           0.002694   \n",
       "TotalWorkingYears                0.002694           1.000000   \n",
       "TrainingTimesLastYear           -0.069902          -0.040762   \n",
       "YearsAtCompany                   0.007886           0.627703   \n",
       "YearsSinceLastPromotion          0.019063           0.404444   \n",
       "YearsWithCurrManager             0.017757           0.458800   \n",
       "\n",
       "                         TrainingTimesLastYear  YearsAtCompany  \\\n",
       "Age                                  -0.027308        0.311309   \n",
       "Attrition                            -0.049431       -0.134392   \n",
       "DistanceFromHome                     -0.009001        0.031684   \n",
       "Education                             0.010472        0.006080   \n",
       "EmployeeCount                              NaN             NaN   \n",
       "EmployeeID                           -0.010191        0.004086   \n",
       "JobLevel                             -0.032500       -0.064219   \n",
       "MonthlyIncome                         0.050112        0.000995   \n",
       "NumCompaniesWorked                   -0.032286       -0.117959   \n",
       "PercentSalaryHike                    -0.037392       -0.029707   \n",
       "StandardHours                              NaN             NaN   \n",
       "StockOptionLevel                     -0.069902        0.007886   \n",
       "TotalWorkingYears                    -0.040762        0.627703   \n",
       "TrainingTimesLastYear                 1.000000       -0.007894   \n",
       "YearsAtCompany                       -0.007894        1.000000   \n",
       "YearsSinceLastPromotion               0.016121        0.618409   \n",
       "YearsWithCurrManager                 -0.013270        0.769212   \n",
       "\n",
       "                         YearsSinceLastPromotion  YearsWithCurrManager  \n",
       "Age                                     0.216513              0.202089  \n",
       "Attrition                              -0.033019             -0.156199  \n",
       "DistanceFromHome                        0.002290              0.021584  \n",
       "Education                               0.022490              0.005358  \n",
       "EmployeeCount                                NaN                   NaN  \n",
       "EmployeeID                              0.000256              0.008579  \n",
       "JobLevel                               -0.060811             -0.055251  \n",
       "MonthlyIncome                           0.065219              0.024304  \n",
       "NumCompaniesWorked                     -0.036656             -0.109667  \n",
       "PercentSalaryHike                      -0.029542             -0.040864  \n",
       "StandardHours                                NaN                   NaN  \n",
       "StockOptionLevel                        0.019063              0.017757  \n",
       "TotalWorkingYears                       0.404444              0.458800  \n",
       "TrainingTimesLastYear                   0.016121             -0.013270  \n",
       "YearsAtCompany                          0.618409              0.769212  \n",
       "YearsSinceLastPromotion                 1.000000              0.510224  \n",
       "YearsWithCurrManager                    0.510224              1.000000  "
      ]
     },
     "execution_count": 48,
     "metadata": {},
     "output_type": "execute_result"
    }
   ],
   "source": [
    "dt.corr()"
   ]
  },
  {
   "cell_type": "markdown",
   "metadata": {},
   "source": [
    "# Statistical Tests"
   ]
  },
  {
   "cell_type": "code",
   "execution_count": 49,
   "metadata": {},
   "outputs": [],
   "source": [
    "from scipy.stats import wilcoxon,friedmanchisquare,mannwhitneyu,kruskal,chi2_contingency,ttest_1samp,ttest_rel,ttest_ind"
   ]
  },
  {
   "cell_type": "code",
   "execution_count": 50,
   "metadata": {},
   "outputs": [
    {
     "data": {
      "text/plain": [
       "Age                        0.413005\n",
       "Attrition                  1.843111\n",
       "DistanceFromHome           0.957466\n",
       "Education                 -0.289484\n",
       "EmployeeCount              0.000000\n",
       "EmployeeID                 0.000000\n",
       "JobLevel                   1.024703\n",
       "MonthlyIncome              1.368884\n",
       "NumCompaniesWorked         1.026767\n",
       "PercentSalaryHike          0.820569\n",
       "StandardHours              0.000000\n",
       "StockOptionLevel           0.968321\n",
       "TotalWorkingYears          1.116832\n",
       "TrainingTimesLastYear      0.552748\n",
       "YearsAtCompany             1.763328\n",
       "YearsSinceLastPromotion    1.982939\n",
       "YearsWithCurrManager       0.832884\n",
       "dtype: float64"
      ]
     },
     "execution_count": 50,
     "metadata": {},
     "output_type": "execute_result"
    }
   ],
   "source": [
    "skewness = dt.skew()\n",
    "skewness"
   ]
  },
  {
   "cell_type": "code",
   "execution_count": 51,
   "metadata": {},
   "outputs": [
    {
     "data": {
      "text/plain": [
       "Age                       -0.405951\n",
       "Attrition                  1.397690\n",
       "DistanceFromHome          -0.227045\n",
       "Education                 -0.560569\n",
       "EmployeeCount              0.000000\n",
       "EmployeeID                -1.200000\n",
       "JobLevel                   0.395525\n",
       "MonthlyIncome              1.000232\n",
       "NumCompaniesWorked         0.007287\n",
       "PercentSalaryHike         -0.302638\n",
       "StandardHours              0.000000\n",
       "StockOptionLevel           0.361086\n",
       "TotalWorkingYears          0.912936\n",
       "TrainingTimesLastYear      0.491149\n",
       "YearsAtCompany             3.923864\n",
       "YearsSinceLastPromotion    3.601761\n",
       "YearsWithCurrManager       0.167949\n",
       "dtype: float64"
      ]
     },
     "execution_count": 51,
     "metadata": {},
     "output_type": "execute_result"
    }
   ],
   "source": [
    "kurtness = dt.kurt()\n",
    "kurtness"
   ]
  },
  {
   "cell_type": "code",
   "execution_count": 52,
   "metadata": {},
   "outputs": [
    {
     "name": "stdout",
     "output_type": "stream",
     "text": [
      "The Value of p in Mannwhitney test is: 0.0\n",
      "There is significant impact of Age on Attrition\n"
     ]
    }
   ],
   "source": [
    "stats, p = mannwhitneyu(dt.Attrition, dt.Age)\n",
    "print(f'The Value of p in Mannwhitney test is: {p}')\n",
    "if p < 0.05:\n",
    "    print('There is significant impact of Age on Attrition')\n",
    "else:\n",
    "    print('There is no significant impact of Age on Attrition')"
   ]
  },
  {
   "cell_type": "code",
   "execution_count": 53,
   "metadata": {},
   "outputs": [
    {
     "name": "stdout",
     "output_type": "stream",
     "text": [
      "The Value of p in friedmanchisquare test is: 0.0\n",
      "There is significant impact of Age, Distance from Home, Monthly Income on Attrition\n"
     ]
    }
   ],
   "source": [
    "stats, p = friedmanchisquare(dt.Attrition, dt.Age, dt.DistanceFromHome, dt.MonthlyIncome)\n",
    "print(f'The Value of p in friedmanchisquare test is: {p}')\n",
    "if p < 0.05:\n",
    "    print('There is significant impact of Age, Distance from Home, Monthly Income on Attrition')\n",
    "else:\n",
    "    print('There is no significant impact of Age, Distance from Home, Monthly Income on Attrition')"
   ]
  },
  {
   "cell_type": "code",
   "execution_count": 54,
   "metadata": {},
   "outputs": [
    {
     "name": "stdout",
     "output_type": "stream",
     "text": [
      "The Value of p in wilcoxon test is: 0.0\n",
      "There is significant impact of Education on Attrition\n"
     ]
    }
   ],
   "source": [
    "stats, p = wilcoxon(dt.Attrition, dt.Education)\n",
    "print(f'The Value of p in wilcoxon test is: {p}')\n",
    "if p < 0.05:\n",
    "    print('There is significant impact of Education on Attrition')\n",
    "else:\n",
    "    print('There is no significant impact of Education on Attrition')"
   ]
  },
  {
   "cell_type": "code",
   "execution_count": 55,
   "metadata": {},
   "outputs": [
    {
     "name": "stdout",
     "output_type": "stream",
     "text": [
      "The Value of p in kruskal test is: 0.0\n",
      "There is significant impact of Education, JobLevel on Attrition\n"
     ]
    }
   ],
   "source": [
    "stats, p = kruskal(dt.Attrition, dt.Education,dt.JobLevel)\n",
    "print(f'The Value of p in kruskal test is: {p}')\n",
    "if p < 0.05:\n",
    "    print('There is significant impact of Education, JobLevel on Attrition')\n",
    "else:\n",
    "    print('There is no significant impact of Education, JobLevel on Attrition')"
   ]
  },
  {
   "cell_type": "code",
   "execution_count": 56,
   "metadata": {},
   "outputs": [
    {
     "data": {
      "text/html": [
       "<div>\n",
       "<style scoped>\n",
       "    .dataframe tbody tr th:only-of-type {\n",
       "        vertical-align: middle;\n",
       "    }\n",
       "\n",
       "    .dataframe tbody tr th {\n",
       "        vertical-align: top;\n",
       "    }\n",
       "\n",
       "    .dataframe thead th {\n",
       "        text-align: right;\n",
       "    }\n",
       "</style>\n",
       "<table border=\"1\" class=\"dataframe\">\n",
       "  <thead>\n",
       "    <tr style=\"text-align: right;\">\n",
       "      <th>Department</th>\n",
       "      <th>Human Resources</th>\n",
       "      <th>Research &amp; Development</th>\n",
       "      <th>Sales</th>\n",
       "    </tr>\n",
       "    <tr>\n",
       "      <th>Attrition</th>\n",
       "      <th></th>\n",
       "      <th></th>\n",
       "      <th></th>\n",
       "    </tr>\n",
       "  </thead>\n",
       "  <tbody>\n",
       "    <tr>\n",
       "      <th>0</th>\n",
       "      <td>132</td>\n",
       "      <td>2430</td>\n",
       "      <td>1137</td>\n",
       "    </tr>\n",
       "    <tr>\n",
       "      <th>1</th>\n",
       "      <td>57</td>\n",
       "      <td>453</td>\n",
       "      <td>201</td>\n",
       "    </tr>\n",
       "  </tbody>\n",
       "</table>\n",
       "</div>"
      ],
      "text/plain": [
       "Department  Human Resources  Research & Development  Sales\n",
       "Attrition                                                 \n",
       "0                       132                    2430   1137\n",
       "1                        57                     453    201"
      ]
     },
     "execution_count": 56,
     "metadata": {},
     "output_type": "execute_result"
    }
   ],
   "source": [
    "crosstable = pd.crosstab(dt.Attrition,dt.Department)\n",
    "crosstable"
   ]
  },
  {
   "cell_type": "code",
   "execution_count": 57,
   "metadata": {},
   "outputs": [
    {
     "name": "stdout",
     "output_type": "stream",
     "text": [
      "The Value of p in chi2_contingency test is: 4.820888218170406e-07\n",
      "The variables are dependent\n"
     ]
    }
   ],
   "source": [
    "stats, p, dof, expected = chi2_contingency(crosstable)\n",
    "print(f'The Value of p in chi2_contingency test is: {p}')\n",
    "if p < 0.05:\n",
    "    print('The variables are dependent')\n",
    "else:\n",
    "    print('The variables are not dependent')"
   ]
  }
 ],
 "metadata": {
  "kernelspec": {
   "display_name": "Python 3",
   "language": "python",
   "name": "python3"
  },
  "language_info": {
   "codemirror_mode": {
    "name": "ipython",
    "version": 3
   },
   "file_extension": ".py",
   "mimetype": "text/x-python",
   "name": "python",
   "nbconvert_exporter": "python",
   "pygments_lexer": "ipython3",
   "version": "3.7.0"
  }
 },
 "nbformat": 4,
 "nbformat_minor": 4
}
