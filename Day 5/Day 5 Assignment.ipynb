{
 "cells": [
  {
   "cell_type": "markdown",
   "metadata": {},
   "source": [
    "## 1. Write a Python program to find the first 20 non-even prime natural numbers."
   ]
  },
  {
   "cell_type": "code",
   "execution_count": 1,
   "metadata": {},
   "outputs": [],
   "source": [
    "lst = []\n",
    "flag = 0\n",
    "\n",
    "for i in range(3,100):\n",
    "    if len(lst) < 20:\n",
    "        for j in range(2,i):\n",
    "            if i % j != 0:\n",
    "                flag = 0\n",
    "            elif i % j == 0 and i == j:\n",
    "                flag = 0\n",
    "            else: \n",
    "                flag = 1\n",
    "                break\n",
    "        if flag == 0:\n",
    "            lst.append(i)\n",
    "        else:\n",
    "            continue\n"
   ]
  },
  {
   "cell_type": "code",
   "execution_count": 2,
   "metadata": {},
   "outputs": [
    {
     "name": "stdout",
     "output_type": "stream",
     "text": [
      "20\n"
     ]
    }
   ],
   "source": [
    "print(len(lst))"
   ]
  },
  {
   "cell_type": "code",
   "execution_count": 3,
   "metadata": {},
   "outputs": [
    {
     "name": "stdout",
     "output_type": "stream",
     "text": [
      "The first 20 non even prime numbers are: \n",
      " [3, 5, 7, 11, 13, 17, 19, 23, 29, 31, 37, 41, 43, 47, 53, 59, 61, 67, 71, 73]\n"
     ]
    }
   ],
   "source": [
    "print(\"The first 20 non even prime numbers are: \\n\",lst)\n"
   ]
  },
  {
   "cell_type": "markdown",
   "metadata": {},
   "source": [
    "## 2. Write a Python program to implement 15 functions of string"
   ]
  },
  {
   "cell_type": "code",
   "execution_count": 4,
   "metadata": {},
   "outputs": [
    {
     "data": {
      "text/plain": [
       "'Hello letsupgrade team'"
      ]
     },
     "execution_count": 4,
     "metadata": {},
     "output_type": "execute_result"
    }
   ],
   "source": [
    "# capitalize()\tConverts the first character to upper case\n",
    "\n",
    "string = \"hello LetsUpgrade team\"\n",
    "string.capitalize()"
   ]
  },
  {
   "cell_type": "code",
   "execution_count": 5,
   "metadata": {},
   "outputs": [
    {
     "data": {
      "text/plain": [
       "4"
      ]
     },
     "execution_count": 5,
     "metadata": {},
     "output_type": "execute_result"
    }
   ],
   "source": [
    "# count()\tReturns the number of times a specified value occurs in a string\n",
    "\n",
    "string.count('e')"
   ]
  },
  {
   "cell_type": "code",
   "execution_count": 6,
   "metadata": {},
   "outputs": [
    {
     "data": {
      "text/plain": [
       "2"
      ]
     },
     "execution_count": 6,
     "metadata": {},
     "output_type": "execute_result"
    }
   ],
   "source": [
    "# find() \tSearches the string for a specified value and returns the position of where it was found\n",
    "\n",
    "string.find('l')"
   ]
  },
  {
   "cell_type": "code",
   "execution_count": 7,
   "metadata": {},
   "outputs": [
    {
     "data": {
      "text/plain": [
       "False"
      ]
     },
     "execution_count": 7,
     "metadata": {},
     "output_type": "execute_result"
    }
   ],
   "source": [
    "# islower()\tReturns True if all characters in the string are lower case\n",
    "\n",
    "string.islower()"
   ]
  },
  {
   "cell_type": "code",
   "execution_count": 8,
   "metadata": {},
   "outputs": [
    {
     "data": {
      "text/plain": [
       "False"
      ]
     },
     "execution_count": 8,
     "metadata": {},
     "output_type": "execute_result"
    }
   ],
   "source": [
    "# istitle()\tReturns True if the string follows the rules of a title\n",
    "\n",
    "string.istitle()"
   ]
  },
  {
   "cell_type": "code",
   "execution_count": 9,
   "metadata": {},
   "outputs": [
    {
     "data": {
      "text/plain": [
       "'!hello LetsUpgrade team!'"
      ]
     },
     "execution_count": 9,
     "metadata": {},
     "output_type": "execute_result"
    }
   ],
   "source": [
    "# join()\tJoins the elements of an iterable to the end of the string\n",
    "\n",
    "a = '!!'\n",
    "string.join(a)"
   ]
  },
  {
   "cell_type": "code",
   "execution_count": 10,
   "metadata": {},
   "outputs": [
    {
     "data": {
      "text/plain": [
       "False"
      ]
     },
     "execution_count": 10,
     "metadata": {},
     "output_type": "execute_result"
    }
   ],
   "source": [
    "# isupper()\tReturns True if all characters in the string are upper case\n",
    "\n",
    "string.isupper()"
   ]
  },
  {
   "cell_type": "code",
   "execution_count": 11,
   "metadata": {},
   "outputs": [
    {
     "data": {
      "text/plain": [
       "'hello letsupgrade team'"
      ]
     },
     "execution_count": 11,
     "metadata": {},
     "output_type": "execute_result"
    }
   ],
   "source": [
    "# lower()\tConverts a string into lower case\n",
    "\n",
    "string.lower()"
   ]
  },
  {
   "cell_type": "code",
   "execution_count": 12,
   "metadata": {},
   "outputs": [
    {
     "data": {
      "text/plain": [
       "'hello!LetsUpgrade!team'"
      ]
     },
     "execution_count": 12,
     "metadata": {},
     "output_type": "execute_result"
    }
   ],
   "source": [
    "# replace()\tReturns a string where a specified value is replaced with a specified value\n",
    "\n",
    "string.replace(\" \",\"!\")"
   ]
  },
  {
   "cell_type": "code",
   "execution_count": 13,
   "metadata": {},
   "outputs": [
    {
     "data": {
      "text/plain": [
       "['hello', 'LetsUpgrade', 'team']"
      ]
     },
     "execution_count": 13,
     "metadata": {},
     "output_type": "execute_result"
    }
   ],
   "source": [
    "# split()\tSplits the string at the specified separator, and returns a list\n",
    "\n",
    "string.split(\" \")"
   ]
  },
  {
   "cell_type": "code",
   "execution_count": 14,
   "metadata": {},
   "outputs": [
    {
     "data": {
      "text/plain": [
       "'HELLO lETSuPGRADE TEAM'"
      ]
     },
     "execution_count": 14,
     "metadata": {},
     "output_type": "execute_result"
    }
   ],
   "source": [
    "# swapcase()\tSwaps cases, lower case becomes upper case and vice versa\n",
    "\n",
    "string.swapcase()"
   ]
  },
  {
   "cell_type": "code",
   "execution_count": 15,
   "metadata": {},
   "outputs": [
    {
     "data": {
      "text/plain": [
       "'HELLO LETSUPGRADE TEAM'"
      ]
     },
     "execution_count": 15,
     "metadata": {},
     "output_type": "execute_result"
    }
   ],
   "source": [
    "# upper()\tConverts a string into upper case\n",
    "\n",
    "string.upper()"
   ]
  },
  {
   "cell_type": "code",
   "execution_count": 16,
   "metadata": {},
   "outputs": [
    {
     "data": {
      "text/plain": [
       "'helo letsupgrade'"
      ]
     },
     "execution_count": 16,
     "metadata": {},
     "output_type": "execute_result"
    }
   ],
   "source": [
    "# strip()\tReturns a trimmed version of the string\n",
    "strn = \"       helo letsupgrade      \"\n",
    "strn.strip()"
   ]
  },
  {
   "cell_type": "code",
   "execution_count": 17,
   "metadata": {},
   "outputs": [
    {
     "data": {
      "text/plain": [
       "True"
      ]
     },
     "execution_count": 17,
     "metadata": {},
     "output_type": "execute_result"
    }
   ],
   "source": [
    "# isalpha()\tReturns True if all characters in the string are in the alphabet\n",
    "strn = \"abcd\"\n",
    "strn.isalpha()"
   ]
  },
  {
   "cell_type": "code",
   "execution_count": 18,
   "metadata": {},
   "outputs": [
    {
     "data": {
      "text/plain": [
       "True"
      ]
     },
     "execution_count": 18,
     "metadata": {},
     "output_type": "execute_result"
    }
   ],
   "source": [
    "# isalnum()\tReturns True if all characters in the string are alphanumeric\n",
    "\n",
    "strn = \"hi123\"\n",
    "strn.isalnum()"
   ]
  },
  {
   "cell_type": "markdown",
   "metadata": {},
   "source": [
    "## 3. Write a Python program to check if the given string is a Palindrome or Anagram or None of them. Display the message accordingly to the user"
   ]
  },
  {
   "cell_type": "code",
   "execution_count": 19,
   "metadata": {},
   "outputs": [
    {
     "name": "stdout",
     "output_type": "stream",
     "text": [
      "Enter the first string: client\n",
      "Enter the second string: ramar\n",
      "The given string is a palindrome\n"
     ]
    }
   ],
   "source": [
    "string1 = input(\"Enter the first string: \")\n",
    "string2 = input(\"Enter the second string: \")\n",
    "\n",
    "string1 = string1.lower()\n",
    "string2 = string2.lower()\n",
    "\n",
    "str1_sorted = sorted(string1)\n",
    "str2_sorted = sorted(string2)\n",
    "\n",
    "rev_str1 = string1[::-1]\n",
    "rev_str2 = string2[::-1]\n",
    "\n",
    "# checking whether it is a palindrome and anagram\n",
    "if string1 == rev_str1 or string2 == rev_str2 and str1_sorted == str2_sorted:\n",
    "    print(\"The given strings are Palindrome and Anagram\")\n",
    "\n",
    "# Checking whether given strings are palindrome\n",
    "elif string1 == rev_str1 or string2 == rev_str2:\n",
    "    print(\"The given string is a palindrome\")\n",
    "    \n",
    "#Checking whether given strings are anagram\n",
    "elif str1_sorted == str2_sorted:\n",
    "    print(\"The given strings are anagram\")\n",
    "    \n",
    "else:\n",
    "    print(\"The given strings are neither a palindrome nor an anagram\")\n"
   ]
  },
  {
   "cell_type": "markdown",
   "metadata": {},
   "source": [
    "## 4. Write a Python's user defined function that removes all the additional characters from the string and converts it finally to lower case using built-in lower()."
   ]
  },
  {
   "cell_type": "code",
   "execution_count": 20,
   "metadata": {},
   "outputs": [
    {
     "name": "stdout",
     "output_type": "stream",
     "text": [
      "Enter the string: Dr. Darshan Ingle @AI-ML Trainer\n",
      "drdarshaningleaimltrainer\n"
     ]
    }
   ],
   "source": [
    "strp = input(\"Enter the string: \")\n",
    "lst = \"\"\n",
    "for char in strp:\n",
    "    if char.isalnum():\n",
    "        lst += char\n",
    "        \n",
    "lst = lst.lower()\n",
    "print(lst)"
   ]
  }
 ],
 "metadata": {
  "kernelspec": {
   "display_name": "Python 3",
   "language": "python",
   "name": "python3"
  },
  "language_info": {
   "codemirror_mode": {
    "name": "ipython",
    "version": 3
   },
   "file_extension": ".py",
   "mimetype": "text/x-python",
   "name": "python",
   "nbconvert_exporter": "python",
   "pygments_lexer": "ipython3",
   "version": "3.7.0"
  }
 },
 "nbformat": 4,
 "nbformat_minor": 2
}
