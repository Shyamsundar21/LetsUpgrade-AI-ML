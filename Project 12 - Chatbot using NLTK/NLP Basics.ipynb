{
 "cells": [
  {
   "cell_type": "code",
   "execution_count": 2,
   "metadata": {},
   "outputs": [],
   "source": [
    "import nltk"
   ]
  },
  {
   "cell_type": "code",
   "execution_count": 4,
   "metadata": {},
   "outputs": [
    {
     "name": "stderr",
     "output_type": "stream",
     "text": [
      "[nltk_data] Downloading package punkt to\n",
      "[nltk_data]     C:\\Users\\Tinesh\\AppData\\Roaming\\nltk_data...\n",
      "[nltk_data]   Unzipping tokenizers\\punkt.zip.\n"
     ]
    },
    {
     "data": {
      "text/plain": [
       "True"
      ]
     },
     "execution_count": 4,
     "metadata": {},
     "output_type": "execute_result"
    }
   ],
   "source": [
    "nltk.download('punkt')"
   ]
  },
  {
   "cell_type": "code",
   "execution_count": 14,
   "metadata": {},
   "outputs": [
    {
     "name": "stdout",
     "output_type": "stream",
     "text": [
      "['Hello, Mr.John hope you are doing good.', 'By the way I have planned to visit you next week']\n"
     ]
    }
   ],
   "source": [
    "from nltk.tokenize import sent_tokenize\n",
    "text = \"Hello, Mr.John hope you are doing good. By the way I have planned to visit you next week\"\n",
    "\n",
    "token_sent = sent_tokenize(text)\n",
    "print(token_sent)"
   ]
  },
  {
   "cell_type": "markdown",
   "metadata": {},
   "source": [
    "## Word token"
   ]
  },
  {
   "cell_type": "code",
   "execution_count": 15,
   "metadata": {},
   "outputs": [
    {
     "data": {
      "text/plain": [
       "['Hello',\n",
       " ',',\n",
       " 'Mr.John',\n",
       " 'hope',\n",
       " 'you',\n",
       " 'are',\n",
       " 'doing',\n",
       " 'good',\n",
       " '.',\n",
       " 'By',\n",
       " 'the',\n",
       " 'way',\n",
       " 'I',\n",
       " 'have',\n",
       " 'planned',\n",
       " 'to',\n",
       " 'visit',\n",
       " 'you',\n",
       " 'next',\n",
       " 'week']"
      ]
     },
     "execution_count": 15,
     "metadata": {},
     "output_type": "execute_result"
    }
   ],
   "source": [
    "from nltk.tokenize import word_tokenize\n",
    "\n",
    "token_word = word_tokenize(text)\n",
    "token_word"
   ]
  },
  {
   "cell_type": "markdown",
   "metadata": {},
   "source": [
    "## Frequency Dist"
   ]
  },
  {
   "cell_type": "code",
   "execution_count": 16,
   "metadata": {},
   "outputs": [
    {
     "name": "stdout",
     "output_type": "stream",
     "text": [
      "<FreqDist with 19 samples and 20 outcomes>\n"
     ]
    }
   ],
   "source": [
    "from nltk.probability import FreqDist\n",
    "freq_dist = FreqDist(token_word)\n",
    "print(freq_dist)"
   ]
  },
  {
   "cell_type": "code",
   "execution_count": 17,
   "metadata": {},
   "outputs": [
    {
     "data": {
      "text/plain": [
       "<bound method Counter.most_common of FreqDist({'you': 2, 'Hello': 1, ',': 1, 'Mr.John': 1, 'hope': 1, 'are': 1, 'doing': 1, 'good': 1, '.': 1, 'By': 1, ...})>"
      ]
     },
     "execution_count": 17,
     "metadata": {},
     "output_type": "execute_result"
    }
   ],
   "source": [
    "freq_dist.most_common"
   ]
  },
  {
   "cell_type": "code",
   "execution_count": 18,
   "metadata": {},
   "outputs": [
    {
     "data": {
      "image/png": "[encoded data removed]",
      "text/plain": [
       "<Figure size 432x288 with 1 Axes>"
      ]
     },
     "metadata": {
      "needs_background": "light"
     },
     "output_type": "display_data"
    }
   ],
   "source": [
    "import matplotlib.pyplot as plt\n",
    "\n",
    "freq_dist.plot(27, cumulative = False)\n",
    "plt.show()"
   ]
  },
  {
   "cell_type": "markdown",
   "metadata": {},
   "source": [
    "## Stopwords"
   ]
  },
  {
   "cell_type": "code",
   "execution_count": 21,
   "metadata": {},
   "outputs": [
    {
     "name": "stdout",
     "output_type": "stream",
     "text": [
      "{'than', 'such', 'been', 'about', \"haven't\", 'just', 'out', 'couldn', 'shan', 'them', 'all', 'her', 'are', 'it', 'has', 'any', 'll', 's', 'herself', 'yourself', 'ours', 'when', 'because', 'until', 'by', \"mightn't\", 'as', 'doesn', 'but', 'on', 'own', 'should', 'i', 'theirs', 'above', 'for', 'more', 'wasn', \"you've\", 'if', \"couldn't\", 'only', 'from', 'below', 'to', 'where', 'now', 'won', 'o', 'weren', 'his', 'off', 'be', 'here', 'am', 'whom', 'mustn', \"it's\", \"wasn't\", 'ma', 'hers', 'with', 'wouldn', 'was', 'didn', 'which', 'don', 'an', 'this', 'further', 'will', 'our', 'd', 'and', 'y', 'your', \"you'd\", 'he', 'aren', 'yours', \"that'll\", 'that', \"won't\", 'up', 'through', 'against', 'same', 'being', 'yourselves', 'over', 'or', \"wouldn't\", 'needn', 'myself', 'you', 'then', \"she's\", \"shouldn't\", 'very', 'm', 'can', 'before', 'its', 'these', \"mustn't\", 'why', 'at', \"you'll\", 'those', \"doesn't\", 'do', 'their', 'hadn', 'haven', 'me', 'of', 'each', 'isn', \"needn't\", 'hasn', 't', 'not', 'under', 'so', 'few', 'is', 're', \"don't\", \"weren't\", \"you're\", \"isn't\", 'does', 'himself', 'both', 'what', 'no', 'they', 'between', 'after', 'were', 'have', 'we', 'ain', 'most', 'while', 'too', 'during', 'the', 'had', 'ourselves', 'again', \"hasn't\", \"hadn't\", 'nor', 'down', 'my', 'into', 'him', \"didn't\", 'did', 'mightn', \"shan't\", 'who', 'there', 'shouldn', 'some', 'other', 'itself', 'she', 'themselves', 'once', \"aren't\", 'a', 'in', 'having', 've', \"should've\", 'how', 'doing'}\n"
     ]
    }
   ],
   "source": [
    "from nltk.corpus import stopwords\n",
    "\n",
    "stop_words = set(stopwords.words('english'))\n",
    "print(stop_words)"
   ]
  },
  {
   "cell_type": "code",
   "execution_count": 23,
   "metadata": {},
   "outputs": [
    {
     "name": "stdout",
     "output_type": "stream",
     "text": [
      "Token sent\n",
      "\n",
      " ['Hello', ',', 'Mr.John', 'hope', 'you', 'are', 'doing', 'good', '.', 'By', 'the', 'way', 'I', 'have', 'planned', 'to', 'visit', 'you', 'next', 'week']\n",
      "After removing stop words\n",
      " ['Hello', ',', 'Mr.John', 'hope', 'good', '.', 'By', 'way', 'I', 'planned', 'visit', 'next', 'week']\n"
     ]
    }
   ],
   "source": [
    "filtered_sent = []\n",
    "for w in token_word:\n",
    "    if w not in stop_words:\n",
    "        filtered_sent.append(w)\n",
    "print(\"Token sent\\n\\n\",token_word)\n",
    "print(\"After removing stop words\\n\",filtered_sent)"
   ]
  },
  {
   "cell_type": "markdown",
   "metadata": {},
   "source": [
    "## Stemming"
   ]
  },
  {
   "cell_type": "code",
   "execution_count": 24,
   "metadata": {},
   "outputs": [
    {
     "name": "stdout",
     "output_type": "stream",
     "text": [
      "Filtered sentence ['Hello', ',', 'Mr.John', 'hope', 'good', '.', 'By', 'way', 'I', 'planned', 'visit', 'next', 'week']\n",
      "Stemmed words ['hello', ',', 'mr.john', 'hope', 'good', '.', 'By', 'way', 'I', 'plan', 'visit', 'next', 'week']\n"
     ]
    }
   ],
   "source": [
    "from nltk.stem import PorterStemmer\n",
    "ps = PorterStemmer()\n",
    "stemmed_words = []\n",
    "for w in filtered_sent:\n",
    "    stemmed_words.append(ps.stem(w))\n",
    "print(\"Filtered sentence\",filtered_sent)\n",
    "print(\"Stemmed words\",stemmed_words)"
   ]
  },
  {
   "cell_type": "code",
   "execution_count": 25,
   "metadata": {},
   "outputs": [
    {
     "name": "stderr",
     "output_type": "stream",
     "text": [
      "[nltk_data] Downloading package wordnet to\n",
      "[nltk_data]     C:\\Users\\Tinesh\\AppData\\Roaming\\nltk_data...\n",
      "[nltk_data]   Unzipping corpora\\wordnet.zip.\n"
     ]
    },
    {
     "data": {
      "text/plain": [
       "True"
      ]
     },
     "execution_count": 25,
     "metadata": {},
     "output_type": "execute_result"
    }
   ],
   "source": [
    "nltk.download('wordnet')"
   ]
  },
  {
   "cell_type": "markdown",
   "metadata": {},
   "source": [
    "## Lemmatization"
   ]
  },
  {
   "cell_type": "code",
   "execution_count": 26,
   "metadata": {},
   "outputs": [
    {
     "name": "stdout",
     "output_type": "stream",
     "text": [
      "LEmatized word fly\n",
      "stemmed word fli\n"
     ]
    }
   ],
   "source": [
    "from nltk.stem import WordNetLemmatizer\n",
    "lem = WordNetLemmatizer()\n",
    "stem = PorterStemmer()\n",
    "word = 'flying'\n",
    "print(\"LEmatized word\",lem.lemmatize(word,'v'))\n",
    "print(\"stemmed word\",stem.stem(word))"
   ]
  }
 ],
 "metadata": {
  "kernelspec": {
   "display_name": "Python 3",
   "language": "python",
   "name": "python3"
  },
  "language_info": {
   "codemirror_mode": {
    "name": "ipython",
    "version": 3
   },
   "file_extension": ".py",
   "mimetype": "text/x-python",
   "name": "python",
   "nbconvert_exporter": "python",
   "pygments_lexer": "ipython3",
   "version": "3.8.5"
  },
  "toc": {
   "base_numbering": 1,
   "nav_menu": {},
   "number_sections": true,
   "sideBar": true,
   "skip_h1_title": false,
   "title_cell": "Table of Contents",
   "title_sidebar": "Contents",
   "toc_cell": false,
   "toc_position": {},
   "toc_section_display": true,
   "toc_window_display": false
  }
 },
 "nbformat": 4,
 "nbformat_minor": 4
}
