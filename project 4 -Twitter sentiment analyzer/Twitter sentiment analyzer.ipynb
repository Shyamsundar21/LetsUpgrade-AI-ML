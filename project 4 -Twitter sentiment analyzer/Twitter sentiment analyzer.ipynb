{
 "cells": [
  {
   "cell_type": "markdown",
   "metadata": {},
   "source": [
    "# Getting the Data\n",
    "\n",
    "- To retrieve the tweets in the twitter we have to first open an account in the twitter and then login with the same account in the `developers.twitter.com`.\n",
    "\n",
    "- After that create a new app and get the consumer API key and secret also the Access token and secret.\n"
   ]
  },
  {
   "cell_type": "code",
   "execution_count": 2,
   "metadata": {},
   "outputs": [],
   "source": [
    "# ! pip install tweepy"
   ]
  },
  {
   "cell_type": "code",
   "execution_count": 3,
   "metadata": {},
   "outputs": [],
   "source": [
    "import pandas as pd \n",
    "import tweepy\n",
    "import json\n",
    "from tweepy import OAuthHandler"
   ]
  },
  {
   "cell_type": "code",
   "execution_count": 4,
   "metadata": {},
   "outputs": [],
   "source": [
    "# We got this consumer and access, keys and tokens in the developer.twitter.com by creating a new app in that.\n",
    "\n",
    "consumer_key = \"KfrreskF0adWeYag3whgQRtq5\"\n",
    "consumer_secret = \"CbtwJhmZX7W7T4R1j0g9BVeDXdwMhINfu9tuA33jnHpaKdl9cU\"\n",
    "\n",
    "access_token = \"1069493766493396992-m53lv11lu6D7Ow5CbUzkbBHjwe3Lcz\"\n",
    "access_token_secret = \"73EBN0GnkZ7sg1xZNIsnv85zmxTZPIRepfITKL17jp8vF\""
   ]
  },
  {
   "cell_type": "code",
   "execution_count": 6,
   "metadata": {},
   "outputs": [],
   "source": [
    "# Creating OAuthHandler object with the consumer key and secret\n",
    "auth = tweepy.OAuthHandler(consumer_key,consumer_secret)\n",
    "\n",
    "#Creating the access by setting the access token and secret  \n",
    "auth.set_access_token(access_token,access_token_secret) \n",
    "\n",
    "#Creating and api object for the auth handler\n",
    "api = tweepy.API(auth_handler=auth)"
   ]
  },
  {
   "cell_type": "markdown",
   "metadata": {},
   "source": [
    "# Sample retrieval of tweets"
   ]
  },
  {
   "cell_type": "code",
   "execution_count": 13,
   "metadata": {},
   "outputs": [],
   "source": [
    "query = \"ipl 2020\""
   ]
  },
  {
   "cell_type": "code",
   "execution_count": 14,
   "metadata": {},
   "outputs": [
    {
     "name": "stdout",
     "output_type": "stream",
     "text": [
      "Status(_api=<tweepy.api.API object at 0x05ED1790>, _json={'created_at': 'Thu Nov 05 07:41:46 +0000 2020', 'id': 1324255570153463808, 'id_str': '1324255570153463808', 'full_text': 'IPL #Eliminator: #Momentum with #SRH, but #RCB has the fire power https://t.co/P4WaISIt5P', 'truncated': False, 'display_text_range': [0, 89], 'entities': {'hashtags': [{'text': 'Eliminator', 'indices': [4, 15]}, {'text': 'Momentum', 'indices': [17, 26]}, {'text': 'SRH', 'indices': [32, 36]}, {'text': 'RCB', 'indices': [42, 46]}], 'symbols': [], 'user_mentions': [], 'urls': [{'url': 'https://t.co/P4WaISIt5P', 'expanded_url': 'https://www.10net.in/2020/11/05/ipl-eliminator-momentum-with-srh-but-rcb-has-the-fire-power/', 'display_url': '10net.in/2020/11/05/ipl…', 'indices': [66, 89]}]}, 'metadata': {'iso_language_code': 'en', 'result_type': 'recent'}, 'source': '<a href=\"https://mobile.twitter.com\" rel=\"nofollow\">Twitter Web App</a>', 'in_reply_to_status_id': None, 'in_reply_to_status_id_str': None, 'in_reply_to_user_id': None, 'in_reply_to_user_id_str': None, 'in_reply_to_screen_name': None, 'user': {'id': 3790602745, 'id_str': '3790602745', 'name': 'The Earth News', 'screen_name': 'TheEarthNews1', 'location': 'Jammu And Kashmir', 'description': 'Official Twitter Account of The Earth News', 'url': 'https://t.co/4wwzGLYIBD', 'entities': {'url': {'urls': [{'url': 'https://t.co/4wwzGLYIBD', 'expanded_url': 'http://www.earthnews.co.in', 'display_url': 'earthnews.co.in', 'indices': [0, 23]}]}, 'description': {'urls': []}}, 'protected': False, 'followers_count': 302, 'friends_count': 412, 'listed_count': 4, 'created_at': 'Mon Oct 05 09:10:52 +0000 2015', 'favourites_count': 240, 'utc_offset': None, 'time_zone': None, 'geo_enabled': False, 'verified': False, 'statuses_count': 25087, 'lang': None, 'contributors_enabled': False, 'is_translator': False, 'is_translation_enabled': False, 'profile_background_color': '000000', 'profile_background_image_url': 'http://abs.twimg.com/images/themes/theme1/bg.png', 'profile_background_image_url_https': 'https://abs.twimg.com/images/themes/theme1/bg.png', 'profile_background_tile': False, 'profile_image_url': 'http://pbs.twimg.com/profile_images/1015552057581953024/wONQUCl4_normal.jpg', 'profile_image_url_https': 'https://pbs.twimg.com/profile_images/1015552057581953024/wONQUCl4_normal.jpg', 'profile_banner_url': 'https://pbs.twimg.com/profile_banners/3790602745/1530961423', 'profile_link_color': 'FF691F', 'profile_sidebar_border_color': '000000', 'profile_sidebar_fill_color': '000000', 'profile_text_color': '000000', 'profile_use_background_image': False, 'has_extended_profile': False, 'default_profile': False, 'default_profile_image': False, 'following': False, 'follow_request_sent': False, 'notifications': False, 'translator_type': 'none'}, 'geo': None, 'coordinates': None, 'place': None, 'contributors': None, 'is_quote_status': False, 'retweet_count': 0, 'favorite_count': 0, 'favorited': False, 'retweeted': False, 'possibly_sensitive': False, 'lang': 'en'}, created_at=datetime.datetime(2020, 11, 5, 7, 41, 46), id=1324255570153463808, id_str='1324255570153463808', full_text='IPL #Eliminator: #Momentum with #SRH, but #RCB has the fire power https://t.co/P4WaISIt5P', truncated=False, display_text_range=[0, 89], entities={'hashtags': [{'text': 'Eliminator', 'indices': [4, 15]}, {'text': 'Momentum', 'indices': [17, 26]}, {'text': 'SRH', 'indices': [32, 36]}, {'text': 'RCB', 'indices': [42, 46]}], 'symbols': [], 'user_mentions': [], 'urls': [{'url': 'https://t.co/P4WaISIt5P', 'expanded_url': 'https://www.10net.in/2020/11/05/ipl-eliminator-momentum-with-srh-but-rcb-has-the-fire-power/', 'display_url': '10net.in/2020/11/05/ipl…', 'indices': [66, 89]}]}, metadata={'iso_language_code': 'en', 'result_type': 'recent'}, source='Twitter Web App', source_url='https://mobile.twitter.com', in_reply_to_status_id=None, in_reply_to_status_id_str=None, in_reply_to_user_id=None, in_reply_to_user_id_str=None, in_reply_to_screen_name=None, author=User(_api=<tweepy.api.API object at 0x05ED1790>, _json={'id': 3790602745, 'id_str': '3790602745', 'name': 'The Earth News', 'screen_name': 'TheEarthNews1', 'location': 'Jammu And Kashmir', 'description': 'Official Twitter Account of The Earth News', 'url': 'https://t.co/4wwzGLYIBD', 'entities': {'url': {'urls': [{'url': 'https://t.co/4wwzGLYIBD', 'expanded_url': 'http://www.earthnews.co.in', 'display_url': 'earthnews.co.in', 'indices': [0, 23]}]}, 'description': {'urls': []}}, 'protected': False, 'followers_count': 302, 'friends_count': 412, 'listed_count': 4, 'created_at': 'Mon Oct 05 09:10:52 +0000 2015', 'favourites_count': 240, 'utc_offset': None, 'time_zone': None, 'geo_enabled': False, 'verified': False, 'statuses_count': 25087, 'lang': None, 'contributors_enabled': False, 'is_translator': False, 'is_translation_enabled': False, 'profile_background_color': '000000', 'profile_background_image_url': 'http://abs.twimg.com/images/themes/theme1/bg.png', 'profile_background_image_url_https': 'https://abs.twimg.com/images/themes/theme1/bg.png', 'profile_background_tile': False, 'profile_image_url': 'http://pbs.twimg.com/profile_images/1015552057581953024/wONQUCl4_normal.jpg', 'profile_image_url_https': 'https://pbs.twimg.com/profile_images/1015552057581953024/wONQUCl4_normal.jpg', 'profile_banner_url': 'https://pbs.twimg.com/profile_banners/3790602745/1530961423', 'profile_link_color': 'FF691F', 'profile_sidebar_border_color': '000000', 'profile_sidebar_fill_color': '000000', 'profile_text_color': '000000', 'profile_use_background_image': False, 'has_extended_profile': False, 'default_profile': False, 'default_profile_image': False, 'following': False, 'follow_request_sent': False, 'notifications': False, 'translator_type': 'none'}, id=3790602745, id_str='3790602745', name='The Earth News', screen_name='TheEarthNews1', location='Jammu And Kashmir', description='Official Twitter Account of The Earth News', url='https://t.co/4wwzGLYIBD', entities={'url': {'urls': [{'url': 'https://t.co/4wwzGLYIBD', 'expanded_url': 'http://www.earthnews.co.in', 'display_url': 'earthnews.co.in', 'indices': [0, 23]}]}, 'description': {'urls': []}}, protected=False, followers_count=302, friends_count=412, listed_count=4, created_at=datetime.datetime(2015, 10, 5, 9, 10, 52), favourites_count=240, utc_offset=None, time_zone=None, geo_enabled=False, verified=False, statuses_count=25087, lang=None, contributors_enabled=False, is_translator=False, is_translation_enabled=False, profile_background_color='000000', profile_background_image_url='http://abs.twimg.com/images/themes/theme1/bg.png', profile_background_image_url_https='https://abs.twimg.com/images/themes/theme1/bg.png', profile_background_tile=False, profile_image_url='http://pbs.twimg.com/profile_images/1015552057581953024/wONQUCl4_normal.jpg', profile_image_url_https='https://pbs.twimg.com/profile_images/1015552057581953024/wONQUCl4_normal.jpg', profile_banner_url='https://pbs.twimg.com/profile_banners/3790602745/1530961423', profile_link_color='FF691F', profile_sidebar_border_color='000000', profile_sidebar_fill_color='000000', profile_text_color='000000', profile_use_background_image=False, has_extended_profile=False, default_profile=False, default_profile_image=False, following=False, follow_request_sent=False, notifications=False, translator_type='none'), user=User(_api=<tweepy.api.API object at 0x05ED1790>, _json={'id': 3790602745, 'id_str': '3790602745', 'name': 'The Earth News', 'screen_name': 'TheEarthNews1', 'location': 'Jammu And Kashmir', 'description': 'Official Twitter Account of The Earth News', 'url': 'https://t.co/4wwzGLYIBD', 'entities': {'url': {'urls': [{'url': 'https://t.co/4wwzGLYIBD', 'expanded_url': 'http://www.earthnews.co.in', 'display_url': 'earthnews.co.in', 'indices': [0, 23]}]}, 'description': {'urls': []}}, 'protected': False, 'followers_count': 302, 'friends_count': 412, 'listed_count': 4, 'created_at': 'Mon Oct 05 09:10:52 +0000 2015', 'favourites_count': 240, 'utc_offset': None, 'time_zone': None, 'geo_enabled': False, 'verified': False, 'statuses_count': 25087, 'lang': None, 'contributors_enabled': False, 'is_translator': False, 'is_translation_enabled': False, 'profile_background_color': '000000', 'profile_background_image_url': 'http://abs.twimg.com/images/themes/theme1/bg.png', 'profile_background_image_url_https': 'https://abs.twimg.com/images/themes/theme1/bg.png', 'profile_background_tile': False, 'profile_image_url': 'http://pbs.twimg.com/profile_images/1015552057581953024/wONQUCl4_normal.jpg', 'profile_image_url_https': 'https://pbs.twimg.com/profile_images/1015552057581953024/wONQUCl4_normal.jpg', 'profile_banner_url': 'https://pbs.twimg.com/profile_banners/3790602745/1530961423', 'profile_link_color': 'FF691F', 'profile_sidebar_border_color': '000000', 'profile_sidebar_fill_color': '000000', 'profile_text_color': '000000', 'profile_use_background_image': False, 'has_extended_profile': False, 'default_profile': False, 'default_profile_image': False, 'following': False, 'follow_request_sent': False, 'notifications': False, 'translator_type': 'none'}, id=3790602745, id_str='3790602745', name='The Earth News', screen_name='TheEarthNews1', location='Jammu And Kashmir', description='Official Twitter Account of The Earth News', url='https://t.co/4wwzGLYIBD', entities={'url': {'urls': [{'url': 'https://t.co/4wwzGLYIBD', 'expanded_url': 'http://www.earthnews.co.in', 'display_url': 'earthnews.co.in', 'indices': [0, 23]}]}, 'description': {'urls': []}}, protected=False, followers_count=302, friends_count=412, listed_count=4, created_at=datetime.datetime(2015, 10, 5, 9, 10, 52), favourites_count=240, utc_offset=None, time_zone=None, geo_enabled=False, verified=False, statuses_count=25087, lang=None, contributors_enabled=False, is_translator=False, is_translation_enabled=False, profile_background_color='000000', profile_background_image_url='http://abs.twimg.com/images/themes/theme1/bg.png', profile_background_image_url_https='https://abs.twimg.com/images/themes/theme1/bg.png', profile_background_tile=False, profile_image_url='http://pbs.twimg.com/profile_images/1015552057581953024/wONQUCl4_normal.jpg', profile_image_url_https='https://pbs.twimg.com/profile_images/1015552057581953024/wONQUCl4_normal.jpg', profile_banner_url='https://pbs.twimg.com/profile_banners/3790602745/1530961423', profile_link_color='FF691F', profile_sidebar_border_color='000000', profile_sidebar_fill_color='000000', profile_text_color='000000', profile_use_background_image=False, has_extended_profile=False, default_profile=False, default_profile_image=False, following=False, follow_request_sent=False, notifications=False, translator_type='none'), geo=None, coordinates=None, place=None, contributors=None, is_quote_status=False, retweet_count=0, favorite_count=0, favorited=False, retweeted=False, possibly_sensitive=False, lang='en') \n",
      "\n",
      "........................................\n",
      "\n",
      "Status(_api=<tweepy.api.API object at 0x05ED1790>, _json={'created_at': 'Thu Nov 05 07:40:59 +0000 2020', 'id': 1324255374149521408, 'id_str': '1324255374149521408', 'full_text': 'Happ Birthday @imVkohli \\nHave a great day.\\nI wish you get more and more blessings this year and you win ipl 2020 cup.\\n#HappyBirthdayViratKohli @AnushkaSharma @ViratGang https://t.co/xDKdpSexQs', 'truncated': False, 'display_text_range': [0, 168], 'entities': {'hashtags': [{'text': 'HappyBirthdayViratKohli', 'indices': [118, 142]}], 'symbols': [], 'user_mentions': [{'screen_name': 'imVkohli', 'name': 'Virat Kohli', 'id': 71201743, 'id_str': '71201743', 'indices': [14, 23]}, {'screen_name': 'AnushkaSharma', 'name': 'Anushka Sharma', 'id': 54829997, 'id_str': '54829997', 'indices': [143, 157]}, {'screen_name': 'ViratGang', 'name': 'ViratGang®', 'id': 922564729, 'id_str': '922564729', 'indices': [158, 168]}], 'urls': [], 'media': [{'id': 1324255370810851335, 'id_str': '1324255370810851335', 'indices': [169, 192], 'media_url': 'http://pbs.twimg.com/media/EmCzPlkVgAccKHn.jpg', 'media_url_https': 'https://pbs.twimg.com/media/EmCzPlkVgAccKHn.jpg', 'url': 'https://t.co/xDKdpSexQs', 'display_url': 'pic.twitter.com/xDKdpSexQs', 'expanded_url': 'https://twitter.com/ModiHir/status/1324255374149521408/photo/1', 'type': 'photo', 'sizes': {'thumb': {'w': 150, 'h': 150, 'resize': 'crop'}, 'small': {'w': 322, 'h': 680, 'resize': 'fit'}, 'large': {'w': 493, 'h': 1040, 'resize': 'fit'}, 'medium': {'w': 493, 'h': 1040, 'resize': 'fit'}}}]}, 'extended_entities': {'media': [{'id': 1324255370810851335, 'id_str': '1324255370810851335', 'indices': [169, 192], 'media_url': 'http://pbs.twimg.com/media/EmCzPlkVgAccKHn.jpg', 'media_url_https': 'https://pbs.twimg.com/media/EmCzPlkVgAccKHn.jpg', 'url': 'https://t.co/xDKdpSexQs', 'display_url': 'pic.twitter.com/xDKdpSexQs', 'expanded_url': 'https://twitter.com/ModiHir/status/1324255374149521408/photo/1', 'type': 'photo', 'sizes': {'thumb': {'w': 150, 'h': 150, 'resize': 'crop'}, 'small': {'w': 322, 'h': 680, 'resize': 'fit'}, 'large': {'w': 493, 'h': 1040, 'resize': 'fit'}, 'medium': {'w': 493, 'h': 1040, 'resize': 'fit'}}}]}, 'metadata': {'iso_language_code': 'en', 'result_type': 'recent'}, 'source': '<a href=\"http://twitter.com/download/android\" rel=\"nofollow\">Twitter for Android</a>', 'in_reply_to_status_id': None, 'in_reply_to_status_id_str': None, 'in_reply_to_user_id': None, 'in_reply_to_user_id_str': None, 'in_reply_to_screen_name': None, 'user': {'id': 1272187553580412929, 'id_str': '1272187553580412929', 'name': 'Hir Modi', 'screen_name': 'ModiHir', 'location': 'Gujarat, India', 'description': '#Indian\\n#Rajkot\\n#Gujarat\\n#pharma\\nHello I am Hir Modi from Rajkot,Gujarat.', 'url': None, 'entities': {'description': {'urls': []}}, 'protected': False, 'followers_count': 29, 'friends_count': 89, 'listed_count': 0, 'created_at': 'Sun Jun 14 15:22:56 +0000 2020', 'favourites_count': 3096, 'utc_offset': None, 'time_zone': None, 'geo_enabled': False, 'verified': False, 'statuses_count': 288, 'lang': None, 'contributors_enabled': False, 'is_translator': False, 'is_translation_enabled': False, 'profile_background_color': 'F5F8FA', 'profile_background_image_url': None, 'profile_background_image_url_https': None, 'profile_background_tile': False, 'profile_image_url': 'http://pbs.twimg.com/profile_images/1279500708715192320/vPGY5Jxz_normal.jpg', 'profile_image_url_https': 'https://pbs.twimg.com/profile_images/1279500708715192320/vPGY5Jxz_normal.jpg', 'profile_banner_url': 'https://pbs.twimg.com/profile_banners/1272187553580412929/1594236908', 'profile_link_color': '1DA1F2', 'profile_sidebar_border_color': 'C0DEED', 'profile_sidebar_fill_color': 'DDEEF6', 'profile_text_color': '333333', 'profile_use_background_image': True, 'has_extended_profile': True, 'default_profile': True, 'default_profile_image': False, 'following': False, 'follow_request_sent': False, 'notifications': False, 'translator_type': 'none'}, 'geo': None, 'coordinates': None, 'place': None, 'contributors': None, 'is_quote_status': False, 'retweet_count': 0, 'favorite_count': 1, 'favorited': False, 'retweeted': False, 'possibly_sensitive': False, 'lang': 'en'}, created_at=datetime.datetime(2020, 11, 5, 7, 40, 59), id=1324255374149521408, id_str='1324255374149521408', full_text='Happ Birthday @imVkohli \\nHave a great day.\\nI wish you get more and more blessings this year and you win ipl 2020 cup.\\n#HappyBirthdayViratKohli @AnushkaSharma @ViratGang https://t.co/xDKdpSexQs', truncated=False, display_text_range=[0, 168], entities={'hashtags': [{'text': 'HappyBirthdayViratKohli', 'indices': [118, 142]}], 'symbols': [], 'user_mentions': [{'screen_name': 'imVkohli', 'name': 'Virat Kohli', 'id': 71201743, 'id_str': '71201743', 'indices': [14, 23]}, {'screen_name': 'AnushkaSharma', 'name': 'Anushka Sharma', 'id': 54829997, 'id_str': '54829997', 'indices': [143, 157]}, {'screen_name': 'ViratGang', 'name': 'ViratGang®', 'id': 922564729, 'id_str': '922564729', 'indices': [158, 168]}], 'urls': [], 'media': [{'id': 1324255370810851335, 'id_str': '1324255370810851335', 'indices': [169, 192], 'media_url': 'http://pbs.twimg.com/media/EmCzPlkVgAccKHn.jpg', 'media_url_https': 'https://pbs.twimg.com/media/EmCzPlkVgAccKHn.jpg', 'url': 'https://t.co/xDKdpSexQs', 'display_url': 'pic.twitter.com/xDKdpSexQs', 'expanded_url': 'https://twitter.com/ModiHir/status/1324255374149521408/photo/1', 'type': 'photo', 'sizes': {'thumb': {'w': 150, 'h': 150, 'resize': 'crop'}, 'small': {'w': 322, 'h': 680, 'resize': 'fit'}, 'large': {'w': 493, 'h': 1040, 'resize': 'fit'}, 'medium': {'w': 493, 'h': 1040, 'resize': 'fit'}}}]}, extended_entities={'media': [{'id': 1324255370810851335, 'id_str': '1324255370810851335', 'indices': [169, 192], 'media_url': 'http://pbs.twimg.com/media/EmCzPlkVgAccKHn.jpg', 'media_url_https': 'https://pbs.twimg.com/media/EmCzPlkVgAccKHn.jpg', 'url': 'https://t.co/xDKdpSexQs', 'display_url': 'pic.twitter.com/xDKdpSexQs', 'expanded_url': 'https://twitter.com/ModiHir/status/1324255374149521408/photo/1', 'type': 'photo', 'sizes': {'thumb': {'w': 150, 'h': 150, 'resize': 'crop'}, 'small': {'w': 322, 'h': 680, 'resize': 'fit'}, 'large': {'w': 493, 'h': 1040, 'resize': 'fit'}, 'medium': {'w': 493, 'h': 1040, 'resize': 'fit'}}}]}, metadata={'iso_language_code': 'en', 'result_type': 'recent'}, source='Twitter for Android', source_url='http://twitter.com/download/android', in_reply_to_status_id=None, in_reply_to_status_id_str=None, in_reply_to_user_id=None, in_reply_to_user_id_str=None, in_reply_to_screen_name=None, author=User(_api=<tweepy.api.API object at 0x05ED1790>, _json={'id': 1272187553580412929, 'id_str': '1272187553580412929', 'name': 'Hir Modi', 'screen_name': 'ModiHir', 'location': 'Gujarat, India', 'description': '#Indian\\n#Rajkot\\n#Gujarat\\n#pharma\\nHello I am Hir Modi from Rajkot,Gujarat.', 'url': None, 'entities': {'description': {'urls': []}}, 'protected': False, 'followers_count': 29, 'friends_count': 89, 'listed_count': 0, 'created_at': 'Sun Jun 14 15:22:56 +0000 2020', 'favourites_count': 3096, 'utc_offset': None, 'time_zone': None, 'geo_enabled': False, 'verified': False, 'statuses_count': 288, 'lang': None, 'contributors_enabled': False, 'is_translator': False, 'is_translation_enabled': False, 'profile_background_color': 'F5F8FA', 'profile_background_image_url': None, 'profile_background_image_url_https': None, 'profile_background_tile': False, 'profile_image_url': 'http://pbs.twimg.com/profile_images/1279500708715192320/vPGY5Jxz_normal.jpg', 'profile_image_url_https': 'https://pbs.twimg.com/profile_images/1279500708715192320/vPGY5Jxz_normal.jpg', 'profile_banner_url': 'https://pbs.twimg.com/profile_banners/1272187553580412929/1594236908', 'profile_link_color': '1DA1F2', 'profile_sidebar_border_color': 'C0DEED', 'profile_sidebar_fill_color': 'DDEEF6', 'profile_text_color': '333333', 'profile_use_background_image': True, 'has_extended_profile': True, 'default_profile': True, 'default_profile_image': False, 'following': False, 'follow_request_sent': False, 'notifications': False, 'translator_type': 'none'}, id=1272187553580412929, id_str='1272187553580412929', name='Hir Modi', screen_name='ModiHir', location='Gujarat, India', description='#Indian\\n#Rajkot\\n#Gujarat\\n#pharma\\nHello I am Hir Modi from Rajkot,Gujarat.', url=None, entities={'description': {'urls': []}}, protected=False, followers_count=29, friends_count=89, listed_count=0, created_at=datetime.datetime(2020, 6, 14, 15, 22, 56), favourites_count=3096, utc_offset=None, time_zone=None, geo_enabled=False, verified=False, statuses_count=288, lang=None, contributors_enabled=False, is_translator=False, is_translation_enabled=False, profile_background_color='F5F8FA', profile_background_image_url=None, profile_background_image_url_https=None, profile_background_tile=False, profile_image_url='http://pbs.twimg.com/profile_images/1279500708715192320/vPGY5Jxz_normal.jpg', profile_image_url_https='https://pbs.twimg.com/profile_images/1279500708715192320/vPGY5Jxz_normal.jpg', profile_banner_url='https://pbs.twimg.com/profile_banners/1272187553580412929/1594236908', profile_link_color='1DA1F2', profile_sidebar_border_color='C0DEED', profile_sidebar_fill_color='DDEEF6', profile_text_color='333333', profile_use_background_image=True, has_extended_profile=True, default_profile=True, default_profile_image=False, following=False, follow_request_sent=False, notifications=False, translator_type='none'), user=User(_api=<tweepy.api.API object at 0x05ED1790>, _json={'id': 1272187553580412929, 'id_str': '1272187553580412929', 'name': 'Hir Modi', 'screen_name': 'ModiHir', 'location': 'Gujarat, India', 'description': '#Indian\\n#Rajkot\\n#Gujarat\\n#pharma\\nHello I am Hir Modi from Rajkot,Gujarat.', 'url': None, 'entities': {'description': {'urls': []}}, 'protected': False, 'followers_count': 29, 'friends_count': 89, 'listed_count': 0, 'created_at': 'Sun Jun 14 15:22:56 +0000 2020', 'favourites_count': 3096, 'utc_offset': None, 'time_zone': None, 'geo_enabled': False, 'verified': False, 'statuses_count': 288, 'lang': None, 'contributors_enabled': False, 'is_translator': False, 'is_translation_enabled': False, 'profile_background_color': 'F5F8FA', 'profile_background_image_url': None, 'profile_background_image_url_https': None, 'profile_background_tile': False, 'profile_image_url': 'http://pbs.twimg.com/profile_images/1279500708715192320/vPGY5Jxz_normal.jpg', 'profile_image_url_https': 'https://pbs.twimg.com/profile_images/1279500708715192320/vPGY5Jxz_normal.jpg', 'profile_banner_url': 'https://pbs.twimg.com/profile_banners/1272187553580412929/1594236908', 'profile_link_color': '1DA1F2', 'profile_sidebar_border_color': 'C0DEED', 'profile_sidebar_fill_color': 'DDEEF6', 'profile_text_color': '333333', 'profile_use_background_image': True, 'has_extended_profile': True, 'default_profile': True, 'default_profile_image': False, 'following': False, 'follow_request_sent': False, 'notifications': False, 'translator_type': 'none'}, id=1272187553580412929, id_str='1272187553580412929', name='Hir Modi', screen_name='ModiHir', location='Gujarat, India', description='#Indian\\n#Rajkot\\n#Gujarat\\n#pharma\\nHello I am Hir Modi from Rajkot,Gujarat.', url=None, entities={'description': {'urls': []}}, protected=False, followers_count=29, friends_count=89, listed_count=0, created_at=datetime.datetime(2020, 6, 14, 15, 22, 56), favourites_count=3096, utc_offset=None, time_zone=None, geo_enabled=False, verified=False, statuses_count=288, lang=None, contributors_enabled=False, is_translator=False, is_translation_enabled=False, profile_background_color='F5F8FA', profile_background_image_url=None, profile_background_image_url_https=None, profile_background_tile=False, profile_image_url='http://pbs.twimg.com/profile_images/1279500708715192320/vPGY5Jxz_normal.jpg', profile_image_url_https='https://pbs.twimg.com/profile_images/1279500708715192320/vPGY5Jxz_normal.jpg', profile_banner_url='https://pbs.twimg.com/profile_banners/1272187553580412929/1594236908', profile_link_color='1DA1F2', profile_sidebar_border_color='C0DEED', profile_sidebar_fill_color='DDEEF6', profile_text_color='333333', profile_use_background_image=True, has_extended_profile=True, default_profile=True, default_profile_image=False, following=False, follow_request_sent=False, notifications=False, translator_type='none'), geo=None, coordinates=None, place=None, contributors=None, is_quote_status=False, retweet_count=0, favorite_count=1, favorited=False, retweeted=False, possibly_sensitive=False, lang='en') \n",
      "\n",
      "........................................\n",
      "\n",
      "Status(_api=<tweepy.api.API object at 0x05ED1790>, _json={'created_at': 'Thu Nov 05 07:40:03 +0000 2020', 'id': 1324255138220036096, 'id_str': '1324255138220036096', 'full_text': '#IPL2020: #MIVsDC, #RCBVsSRH - Top 4 Teams Battle It Out In The Playoffs\\n\\n#MatchPreview \\n\\nhttps://t.co/r2BEdNmUAY', 'truncated': False, 'display_text_range': [0, 113], 'entities': {'hashtags': [{'text': 'IPL2020', 'indices': [0, 8]}, {'text': 'MIVsDC', 'indices': [10, 17]}, {'text': 'RCBVsSRH', 'indices': [19, 28]}, {'text': 'MatchPreview', 'indices': [74, 87]}], 'symbols': [], 'user_mentions': [], 'urls': [{'url': 'https://t.co/r2BEdNmUAY', 'expanded_url': 'https://www.mid-day.com/articles/ipl-2020-mi-vs-dc-rcb-vs-srh-top-4-teams-battle-it-out-in-the-playoffs/23078204', 'display_url': 'mid-day.com/articles/ipl-2…', 'indices': [90, 113]}]}, 'metadata': {'iso_language_code': 'en', 'result_type': 'recent'}, 'source': '<a href=\"https://www.hootsuite.com\" rel=\"nofollow\">Hootsuite Inc.</a>', 'in_reply_to_status_id': None, 'in_reply_to_status_id_str': None, 'in_reply_to_user_id': None, 'in_reply_to_user_id_str': None, 'in_reply_to_screen_name': None, 'user': {'id': 31632905, 'id_str': '31632905', 'name': 'Mid Day', 'screen_name': 'mid_day', 'location': 'Mumbai, India', 'description': 'All things #MadeinMumbai \\nNews | Entertainment | Sports and much more\\nSubscribe to #MiddayDigitalTabloid\\n\\nhttps://t.co/CPq2qe1guK', 'url': 'https://t.co/MNVrLYSrnx', 'entities': {'url': {'urls': [{'url': 'https://t.co/MNVrLYSrnx', 'expanded_url': 'http://www.mid-day.com', 'display_url': 'mid-day.com', 'indices': [0, 23]}]}, 'description': {'urls': [{'url': 'https://t.co/CPq2qe1guK', 'expanded_url': 'http://epaper.mid-day.com/', 'display_url': 'epaper.mid-day.com', 'indices': [106, 129]}]}}, 'protected': False, 'followers_count': 668480, 'friends_count': 129, 'listed_count': 1049, 'created_at': 'Thu Apr 16 03:48:36 +0000 2009', 'favourites_count': 1818, 'utc_offset': None, 'time_zone': None, 'geo_enabled': True, 'verified': True, 'statuses_count': 137473, 'lang': None, 'contributors_enabled': False, 'is_translator': False, 'is_translation_enabled': False, 'profile_background_color': '339999', 'profile_background_image_url': 'http://abs.twimg.com/images/themes/theme1/bg.png', 'profile_background_image_url_https': 'https://abs.twimg.com/images/themes/theme1/bg.png', 'profile_background_tile': False, 'profile_image_url': 'http://pbs.twimg.com/profile_images/803546826456502272/_y6eQCZD_normal.jpg', 'profile_image_url_https': 'https://pbs.twimg.com/profile_images/803546826456502272/_y6eQCZD_normal.jpg', 'profile_banner_url': 'https://pbs.twimg.com/profile_banners/31632905/1600837156', 'profile_link_color': '212020', 'profile_sidebar_border_color': '0837D1', 'profile_sidebar_fill_color': 'F07878', 'profile_text_color': '080000', 'profile_use_background_image': True, 'has_extended_profile': False, 'default_profile': False, 'default_profile_image': False, 'following': False, 'follow_request_sent': False, 'notifications': False, 'translator_type': 'none'}, 'geo': None, 'coordinates': None, 'place': None, 'contributors': None, 'is_quote_status': False, 'retweet_count': 0, 'favorite_count': 1, 'favorited': False, 'retweeted': False, 'possibly_sensitive': False, 'lang': 'en'}, created_at=datetime.datetime(2020, 11, 5, 7, 40, 3), id=1324255138220036096, id_str='1324255138220036096', full_text='#IPL2020: #MIVsDC, #RCBVsSRH - Top 4 Teams Battle It Out In The Playoffs\\n\\n#MatchPreview \\n\\nhttps://t.co/r2BEdNmUAY', truncated=False, display_text_range=[0, 113], entities={'hashtags': [{'text': 'IPL2020', 'indices': [0, 8]}, {'text': 'MIVsDC', 'indices': [10, 17]}, {'text': 'RCBVsSRH', 'indices': [19, 28]}, {'text': 'MatchPreview', 'indices': [74, 87]}], 'symbols': [], 'user_mentions': [], 'urls': [{'url': 'https://t.co/r2BEdNmUAY', 'expanded_url': 'https://www.mid-day.com/articles/ipl-2020-mi-vs-dc-rcb-vs-srh-top-4-teams-battle-it-out-in-the-playoffs/23078204', 'display_url': 'mid-day.com/articles/ipl-2…', 'indices': [90, 113]}]}, metadata={'iso_language_code': 'en', 'result_type': 'recent'}, source='Hootsuite Inc.', source_url='https://www.hootsuite.com', in_reply_to_status_id=None, in_reply_to_status_id_str=None, in_reply_to_user_id=None, in_reply_to_user_id_str=None, in_reply_to_screen_name=None, author=User(_api=<tweepy.api.API object at 0x05ED1790>, _json={'id': 31632905, 'id_str': '31632905', 'name': 'Mid Day', 'screen_name': 'mid_day', 'location': 'Mumbai, India', 'description': 'All things #MadeinMumbai \\nNews | Entertainment | Sports and much more\\nSubscribe to #MiddayDigitalTabloid\\n\\nhttps://t.co/CPq2qe1guK', 'url': 'https://t.co/MNVrLYSrnx', 'entities': {'url': {'urls': [{'url': 'https://t.co/MNVrLYSrnx', 'expanded_url': 'http://www.mid-day.com', 'display_url': 'mid-day.com', 'indices': [0, 23]}]}, 'description': {'urls': [{'url': 'https://t.co/CPq2qe1guK', 'expanded_url': 'http://epaper.mid-day.com/', 'display_url': 'epaper.mid-day.com', 'indices': [106, 129]}]}}, 'protected': False, 'followers_count': 668480, 'friends_count': 129, 'listed_count': 1049, 'created_at': 'Thu Apr 16 03:48:36 +0000 2009', 'favourites_count': 1818, 'utc_offset': None, 'time_zone': None, 'geo_enabled': True, 'verified': True, 'statuses_count': 137473, 'lang': None, 'contributors_enabled': False, 'is_translator': False, 'is_translation_enabled': False, 'profile_background_color': '339999', 'profile_background_image_url': 'http://abs.twimg.com/images/themes/theme1/bg.png', 'profile_background_image_url_https': 'https://abs.twimg.com/images/themes/theme1/bg.png', 'profile_background_tile': False, 'profile_image_url': 'http://pbs.twimg.com/profile_images/803546826456502272/_y6eQCZD_normal.jpg', 'profile_image_url_https': 'https://pbs.twimg.com/profile_images/803546826456502272/_y6eQCZD_normal.jpg', 'profile_banner_url': 'https://pbs.twimg.com/profile_banners/31632905/1600837156', 'profile_link_color': '212020', 'profile_sidebar_border_color': '0837D1', 'profile_sidebar_fill_color': 'F07878', 'profile_text_color': '080000', 'profile_use_background_image': True, 'has_extended_profile': False, 'default_profile': False, 'default_profile_image': False, 'following': False, 'follow_request_sent': False, 'notifications': False, 'translator_type': 'none'}, id=31632905, id_str='31632905', name='Mid Day', screen_name='mid_day', location='Mumbai, India', description='All things #MadeinMumbai \\nNews | Entertainment | Sports and much more\\nSubscribe to #MiddayDigitalTabloid\\n\\nhttps://t.co/CPq2qe1guK', url='https://t.co/MNVrLYSrnx', entities={'url': {'urls': [{'url': 'https://t.co/MNVrLYSrnx', 'expanded_url': 'http://www.mid-day.com', 'display_url': 'mid-day.com', 'indices': [0, 23]}]}, 'description': {'urls': [{'url': 'https://t.co/CPq2qe1guK', 'expanded_url': 'http://epaper.mid-day.com/', 'display_url': 'epaper.mid-day.com', 'indices': [106, 129]}]}}, protected=False, followers_count=668480, friends_count=129, listed_count=1049, created_at=datetime.datetime(2009, 4, 16, 3, 48, 36), favourites_count=1818, utc_offset=None, time_zone=None, geo_enabled=True, verified=True, statuses_count=137473, lang=None, contributors_enabled=False, is_translator=False, is_translation_enabled=False, profile_background_color='339999', profile_background_image_url='http://abs.twimg.com/images/themes/theme1/bg.png', profile_background_image_url_https='https://abs.twimg.com/images/themes/theme1/bg.png', profile_background_tile=False, profile_image_url='http://pbs.twimg.com/profile_images/803546826456502272/_y6eQCZD_normal.jpg', profile_image_url_https='https://pbs.twimg.com/profile_images/803546826456502272/_y6eQCZD_normal.jpg', profile_banner_url='https://pbs.twimg.com/profile_banners/31632905/1600837156', profile_link_color='212020', profile_sidebar_border_color='0837D1', profile_sidebar_fill_color='F07878', profile_text_color='080000', profile_use_background_image=True, has_extended_profile=False, default_profile=False, default_profile_image=False, following=False, follow_request_sent=False, notifications=False, translator_type='none'), user=User(_api=<tweepy.api.API object at 0x05ED1790>, _json={'id': 31632905, 'id_str': '31632905', 'name': 'Mid Day', 'screen_name': 'mid_day', 'location': 'Mumbai, India', 'description': 'All things #MadeinMumbai \\nNews | Entertainment | Sports and much more\\nSubscribe to #MiddayDigitalTabloid\\n\\nhttps://t.co/CPq2qe1guK', 'url': 'https://t.co/MNVrLYSrnx', 'entities': {'url': {'urls': [{'url': 'https://t.co/MNVrLYSrnx', 'expanded_url': 'http://www.mid-day.com', 'display_url': 'mid-day.com', 'indices': [0, 23]}]}, 'description': {'urls': [{'url': 'https://t.co/CPq2qe1guK', 'expanded_url': 'http://epaper.mid-day.com/', 'display_url': 'epaper.mid-day.com', 'indices': [106, 129]}]}}, 'protected': False, 'followers_count': 668480, 'friends_count': 129, 'listed_count': 1049, 'created_at': 'Thu Apr 16 03:48:36 +0000 2009', 'favourites_count': 1818, 'utc_offset': None, 'time_zone': None, 'geo_enabled': True, 'verified': True, 'statuses_count': 137473, 'lang': None, 'contributors_enabled': False, 'is_translator': False, 'is_translation_enabled': False, 'profile_background_color': '339999', 'profile_background_image_url': 'http://abs.twimg.com/images/themes/theme1/bg.png', 'profile_background_image_url_https': 'https://abs.twimg.com/images/themes/theme1/bg.png', 'profile_background_tile': False, 'profile_image_url': 'http://pbs.twimg.com/profile_images/803546826456502272/_y6eQCZD_normal.jpg', 'profile_image_url_https': 'https://pbs.twimg.com/profile_images/803546826456502272/_y6eQCZD_normal.jpg', 'profile_banner_url': 'https://pbs.twimg.com/profile_banners/31632905/1600837156', 'profile_link_color': '212020', 'profile_sidebar_border_color': '0837D1', 'profile_sidebar_fill_color': 'F07878', 'profile_text_color': '080000', 'profile_use_background_image': True, 'has_extended_profile': False, 'default_profile': False, 'default_profile_image': False, 'following': False, 'follow_request_sent': False, 'notifications': False, 'translator_type': 'none'}, id=31632905, id_str='31632905', name='Mid Day', screen_name='mid_day', location='Mumbai, India', description='All things #MadeinMumbai \\nNews | Entertainment | Sports and much more\\nSubscribe to #MiddayDigitalTabloid\\n\\nhttps://t.co/CPq2qe1guK', url='https://t.co/MNVrLYSrnx', entities={'url': {'urls': [{'url': 'https://t.co/MNVrLYSrnx', 'expanded_url': 'http://www.mid-day.com', 'display_url': 'mid-day.com', 'indices': [0, 23]}]}, 'description': {'urls': [{'url': 'https://t.co/CPq2qe1guK', 'expanded_url': 'http://epaper.mid-day.com/', 'display_url': 'epaper.mid-day.com', 'indices': [106, 129]}]}}, protected=False, followers_count=668480, friends_count=129, listed_count=1049, created_at=datetime.datetime(2009, 4, 16, 3, 48, 36), favourites_count=1818, utc_offset=None, time_zone=None, geo_enabled=True, verified=True, statuses_count=137473, lang=None, contributors_enabled=False, is_translator=False, is_translation_enabled=False, profile_background_color='339999', profile_background_image_url='http://abs.twimg.com/images/themes/theme1/bg.png', profile_background_image_url_https='https://abs.twimg.com/images/themes/theme1/bg.png', profile_background_tile=False, profile_image_url='http://pbs.twimg.com/profile_images/803546826456502272/_y6eQCZD_normal.jpg', profile_image_url_https='https://pbs.twimg.com/profile_images/803546826456502272/_y6eQCZD_normal.jpg', profile_banner_url='https://pbs.twimg.com/profile_banners/31632905/1600837156', profile_link_color='212020', profile_sidebar_border_color='0837D1', profile_sidebar_fill_color='F07878', profile_text_color='080000', profile_use_background_image=True, has_extended_profile=False, default_profile=False, default_profile_image=False, following=False, follow_request_sent=False, notifications=False, translator_type='none'), geo=None, coordinates=None, place=None, contributors=None, is_quote_status=False, retweet_count=0, favorite_count=1, favorited=False, retweeted=False, possibly_sensitive=False, lang='en') \n",
      "\n",
      "........................................\n",
      "\n",
      "Status(_api=<tweepy.api.API object at 0x05ED1790>, _json={'created_at': 'Thu Nov 05 07:37:14 +0000 2020', 'id': 1324254429361528834, 'id_str': '1324254429361528834', 'full_text': '#IPL2020 #RR season review \\n\\nhttps://t.co/TDp4HjYoNA', 'truncated': False, 'display_text_range': [0, 52], 'entities': {'hashtags': [{'text': 'IPL2020', 'indices': [0, 8]}, {'text': 'RR', 'indices': [9, 12]}], 'symbols': [], 'user_mentions': [], 'urls': [{'url': 'https://t.co/TDp4HjYoNA', 'expanded_url': 'https://voiceofindiansports.com/ipl-2020-rr-season-review/', 'display_url': 'voiceofindiansports.com/ipl-2020-rr-se…', 'indices': [29, 52]}]}, 'metadata': {'iso_language_code': 'en', 'result_type': 'recent'}, 'source': '<a href=\"http://twitter.com/download/android\" rel=\"nofollow\">Twitter for Android</a>', 'in_reply_to_status_id': None, 'in_reply_to_status_id_str': None, 'in_reply_to_user_id': None, 'in_reply_to_user_id_str': None, 'in_reply_to_screen_name': None, 'user': {'id': 1123522808225492992, 'id_str': '1123522808225492992', 'name': 'Voice of Indian Sports', 'screen_name': 'VO_IndianSports', 'location': 'India', 'description': 'For the Fans of Indian sports from the fans of Indian sports.', 'url': 'https://t.co/vY98kHfXUi', 'entities': {'url': {'urls': [{'url': 'https://t.co/vY98kHfXUi', 'expanded_url': 'https://www.facebook.com/IndianSportsFanClub/', 'display_url': 'facebook.com/IndianSportsFa…', 'indices': [0, 23]}]}, 'description': {'urls': []}}, 'protected': False, 'followers_count': 81, 'friends_count': 21, 'listed_count': 1, 'created_at': 'Wed May 01 09:41:26 +0000 2019', 'favourites_count': 348, 'utc_offset': None, 'time_zone': None, 'geo_enabled': False, 'verified': False, 'statuses_count': 680, 'lang': None, 'contributors_enabled': False, 'is_translator': False, 'is_translation_enabled': False, 'profile_background_color': '000000', 'profile_background_image_url': 'http://abs.twimg.com/images/themes/theme1/bg.png', 'profile_background_image_url_https': 'https://abs.twimg.com/images/themes/theme1/bg.png', 'profile_background_tile': False, 'profile_image_url': 'http://pbs.twimg.com/profile_images/1205382201673543681/vqxjLp9T_normal.jpg', 'profile_image_url_https': 'https://pbs.twimg.com/profile_images/1205382201673543681/vqxjLp9T_normal.jpg', 'profile_banner_url': 'https://pbs.twimg.com/profile_banners/1123522808225492992/1556704671', 'profile_link_color': '1B95E0', 'profile_sidebar_border_color': '000000', 'profile_sidebar_fill_color': '000000', 'profile_text_color': '000000', 'profile_use_background_image': False, 'has_extended_profile': False, 'default_profile': False, 'default_profile_image': False, 'following': False, 'follow_request_sent': False, 'notifications': False, 'translator_type': 'none'}, 'geo': None, 'coordinates': None, 'place': None, 'contributors': None, 'is_quote_status': False, 'retweet_count': 1, 'favorite_count': 2, 'favorited': False, 'retweeted': False, 'possibly_sensitive': False, 'lang': 'en'}, created_at=datetime.datetime(2020, 11, 5, 7, 37, 14), id=1324254429361528834, id_str='1324254429361528834', full_text='#IPL2020 #RR season review \\n\\nhttps://t.co/TDp4HjYoNA', truncated=False, display_text_range=[0, 52], entities={'hashtags': [{'text': 'IPL2020', 'indices': [0, 8]}, {'text': 'RR', 'indices': [9, 12]}], 'symbols': [], 'user_mentions': [], 'urls': [{'url': 'https://t.co/TDp4HjYoNA', 'expanded_url': 'https://voiceofindiansports.com/ipl-2020-rr-season-review/', 'display_url': 'voiceofindiansports.com/ipl-2020-rr-se…', 'indices': [29, 52]}]}, metadata={'iso_language_code': 'en', 'result_type': 'recent'}, source='Twitter for Android', source_url='http://twitter.com/download/android', in_reply_to_status_id=None, in_reply_to_status_id_str=None, in_reply_to_user_id=None, in_reply_to_user_id_str=None, in_reply_to_screen_name=None, author=User(_api=<tweepy.api.API object at 0x05ED1790>, _json={'id': 1123522808225492992, 'id_str': '1123522808225492992', 'name': 'Voice of Indian Sports', 'screen_name': 'VO_IndianSports', 'location': 'India', 'description': 'For the Fans of Indian sports from the fans of Indian sports.', 'url': 'https://t.co/vY98kHfXUi', 'entities': {'url': {'urls': [{'url': 'https://t.co/vY98kHfXUi', 'expanded_url': 'https://www.facebook.com/IndianSportsFanClub/', 'display_url': 'facebook.com/IndianSportsFa…', 'indices': [0, 23]}]}, 'description': {'urls': []}}, 'protected': False, 'followers_count': 81, 'friends_count': 21, 'listed_count': 1, 'created_at': 'Wed May 01 09:41:26 +0000 2019', 'favourites_count': 348, 'utc_offset': None, 'time_zone': None, 'geo_enabled': False, 'verified': False, 'statuses_count': 680, 'lang': None, 'contributors_enabled': False, 'is_translator': False, 'is_translation_enabled': False, 'profile_background_color': '000000', 'profile_background_image_url': 'http://abs.twimg.com/images/themes/theme1/bg.png', 'profile_background_image_url_https': 'https://abs.twimg.com/images/themes/theme1/bg.png', 'profile_background_tile': False, 'profile_image_url': 'http://pbs.twimg.com/profile_images/1205382201673543681/vqxjLp9T_normal.jpg', 'profile_image_url_https': 'https://pbs.twimg.com/profile_images/1205382201673543681/vqxjLp9T_normal.jpg', 'profile_banner_url': 'https://pbs.twimg.com/profile_banners/1123522808225492992/1556704671', 'profile_link_color': '1B95E0', 'profile_sidebar_border_color': '000000', 'profile_sidebar_fill_color': '000000', 'profile_text_color': '000000', 'profile_use_background_image': False, 'has_extended_profile': False, 'default_profile': False, 'default_profile_image': False, 'following': False, 'follow_request_sent': False, 'notifications': False, 'translator_type': 'none'}, id=1123522808225492992, id_str='1123522808225492992', name='Voice of Indian Sports', screen_name='VO_IndianSports', location='India', description='For the Fans of Indian sports from the fans of Indian sports.', url='https://t.co/vY98kHfXUi', entities={'url': {'urls': [{'url': 'https://t.co/vY98kHfXUi', 'expanded_url': 'https://www.facebook.com/IndianSportsFanClub/', 'display_url': 'facebook.com/IndianSportsFa…', 'indices': [0, 23]}]}, 'description': {'urls': []}}, protected=False, followers_count=81, friends_count=21, listed_count=1, created_at=datetime.datetime(2019, 5, 1, 9, 41, 26), favourites_count=348, utc_offset=None, time_zone=None, geo_enabled=False, verified=False, statuses_count=680, lang=None, contributors_enabled=False, is_translator=False, is_translation_enabled=False, profile_background_color='000000', profile_background_image_url='http://abs.twimg.com/images/themes/theme1/bg.png', profile_background_image_url_https='https://abs.twimg.com/images/themes/theme1/bg.png', profile_background_tile=False, profile_image_url='http://pbs.twimg.com/profile_images/1205382201673543681/vqxjLp9T_normal.jpg', profile_image_url_https='https://pbs.twimg.com/profile_images/1205382201673543681/vqxjLp9T_normal.jpg', profile_banner_url='https://pbs.twimg.com/profile_banners/1123522808225492992/1556704671', profile_link_color='1B95E0', profile_sidebar_border_color='000000', profile_sidebar_fill_color='000000', profile_text_color='000000', profile_use_background_image=False, has_extended_profile=False, default_profile=False, default_profile_image=False, following=False, follow_request_sent=False, notifications=False, translator_type='none'), user=User(_api=<tweepy.api.API object at 0x05ED1790>, _json={'id': 1123522808225492992, 'id_str': '1123522808225492992', 'name': 'Voice of Indian Sports', 'screen_name': 'VO_IndianSports', 'location': 'India', 'description': 'For the Fans of Indian sports from the fans of Indian sports.', 'url': 'https://t.co/vY98kHfXUi', 'entities': {'url': {'urls': [{'url': 'https://t.co/vY98kHfXUi', 'expanded_url': 'https://www.facebook.com/IndianSportsFanClub/', 'display_url': 'facebook.com/IndianSportsFa…', 'indices': [0, 23]}]}, 'description': {'urls': []}}, 'protected': False, 'followers_count': 81, 'friends_count': 21, 'listed_count': 1, 'created_at': 'Wed May 01 09:41:26 +0000 2019', 'favourites_count': 348, 'utc_offset': None, 'time_zone': None, 'geo_enabled': False, 'verified': False, 'statuses_count': 680, 'lang': None, 'contributors_enabled': False, 'is_translator': False, 'is_translation_enabled': False, 'profile_background_color': '000000', 'profile_background_image_url': 'http://abs.twimg.com/images/themes/theme1/bg.png', 'profile_background_image_url_https': 'https://abs.twimg.com/images/themes/theme1/bg.png', 'profile_background_tile': False, 'profile_image_url': 'http://pbs.twimg.com/profile_images/1205382201673543681/vqxjLp9T_normal.jpg', 'profile_image_url_https': 'https://pbs.twimg.com/profile_images/1205382201673543681/vqxjLp9T_normal.jpg', 'profile_banner_url': 'https://pbs.twimg.com/profile_banners/1123522808225492992/1556704671', 'profile_link_color': '1B95E0', 'profile_sidebar_border_color': '000000', 'profile_sidebar_fill_color': '000000', 'profile_text_color': '000000', 'profile_use_background_image': False, 'has_extended_profile': False, 'default_profile': False, 'default_profile_image': False, 'following': False, 'follow_request_sent': False, 'notifications': False, 'translator_type': 'none'}, id=1123522808225492992, id_str='1123522808225492992', name='Voice of Indian Sports', screen_name='VO_IndianSports', location='India', description='For the Fans of Indian sports from the fans of Indian sports.', url='https://t.co/vY98kHfXUi', entities={'url': {'urls': [{'url': 'https://t.co/vY98kHfXUi', 'expanded_url': 'https://www.facebook.com/IndianSportsFanClub/', 'display_url': 'facebook.com/IndianSportsFa…', 'indices': [0, 23]}]}, 'description': {'urls': []}}, protected=False, followers_count=81, friends_count=21, listed_count=1, created_at=datetime.datetime(2019, 5, 1, 9, 41, 26), favourites_count=348, utc_offset=None, time_zone=None, geo_enabled=False, verified=False, statuses_count=680, lang=None, contributors_enabled=False, is_translator=False, is_translation_enabled=False, profile_background_color='000000', profile_background_image_url='http://abs.twimg.com/images/themes/theme1/bg.png', profile_background_image_url_https='https://abs.twimg.com/images/themes/theme1/bg.png', profile_background_tile=False, profile_image_url='http://pbs.twimg.com/profile_images/1205382201673543681/vqxjLp9T_normal.jpg', profile_image_url_https='https://pbs.twimg.com/profile_images/1205382201673543681/vqxjLp9T_normal.jpg', profile_banner_url='https://pbs.twimg.com/profile_banners/1123522808225492992/1556704671', profile_link_color='1B95E0', profile_sidebar_border_color='000000', profile_sidebar_fill_color='000000', profile_text_color='000000', profile_use_background_image=False, has_extended_profile=False, default_profile=False, default_profile_image=False, following=False, follow_request_sent=False, notifications=False, translator_type='none'), geo=None, coordinates=None, place=None, contributors=None, is_quote_status=False, retweet_count=1, favorite_count=2, favorited=False, retweeted=False, possibly_sensitive=False, lang='en') \n",
      "\n",
      "........................................\n",
      "\n",
      "Status(_api=<tweepy.api.API object at 0x05ED1790>, _json={'created_at': 'Thu Nov 05 07:36:34 +0000 2020', 'id': 1324254263346819072, 'id_str': '1324254263346819072', 'full_text': 'IPL 2020 Eliminator: Momentum with SRH, but RCB has the fire power https://t.co/zPy64xx4dN', 'truncated': False, 'display_text_range': [0, 90], 'entities': {'hashtags': [], 'symbols': [], 'user_mentions': [], 'urls': [{'url': 'https://t.co/zPy64xx4dN', 'expanded_url': 'http://toi.in/gGQrkb', 'display_url': 'toi.in/gGQrkb', 'indices': [67, 90]}]}, 'metadata': {'iso_language_code': 'en', 'result_type': 'recent'}, 'source': '<a href=\"http://www.toi.in\" rel=\"nofollow\">cmssocialservice</a>', 'in_reply_to_status_id': None, 'in_reply_to_status_id_str': None, 'in_reply_to_user_id': None, 'in_reply_to_user_id_str': None, 'in_reply_to_screen_name': None, 'user': {'id': 29960177, 'id_str': '29960177', 'name': 'TOI Cricket', 'screen_name': 'TOICricket', 'location': '', 'description': '', 'url': 'http://t.co/VSKi1mCAsZ', 'entities': {'url': {'urls': [{'url': 'http://t.co/VSKi1mCAsZ', 'expanded_url': 'http://timesofindia.com', 'display_url': 'timesofindia.com', 'indices': [0, 22]}]}, 'description': {'urls': []}}, 'protected': False, 'followers_count': 459, 'friends_count': 0, 'listed_count': 28, 'created_at': 'Thu Apr 09 10:48:56 +0000 2009', 'favourites_count': 0, 'utc_offset': None, 'time_zone': None, 'geo_enabled': False, 'verified': False, 'statuses_count': 55067, 'lang': None, 'contributors_enabled': False, 'is_translator': False, 'is_translation_enabled': False, 'profile_background_color': 'C0DEED', 'profile_background_image_url': 'http://abs.twimg.com/images/themes/theme1/bg.png', 'profile_background_image_url_https': 'https://abs.twimg.com/images/themes/theme1/bg.png', 'profile_background_tile': False, 'profile_image_url': 'http://pbs.twimg.com/profile_images/1282409388/icon_512_normal.png', 'profile_image_url_https': 'https://pbs.twimg.com/profile_images/1282409388/icon_512_normal.png', 'profile_banner_url': 'https://pbs.twimg.com/profile_banners/29960177/1480588872', 'profile_link_color': '1DA1F2', 'profile_sidebar_border_color': 'C0DEED', 'profile_sidebar_fill_color': 'DDEEF6', 'profile_text_color': '333333', 'profile_use_background_image': True, 'has_extended_profile': False, 'default_profile': True, 'default_profile_image': False, 'following': False, 'follow_request_sent': False, 'notifications': False, 'translator_type': 'none'}, 'geo': None, 'coordinates': None, 'place': None, 'contributors': None, 'is_quote_status': False, 'retweet_count': 0, 'favorite_count': 0, 'favorited': False, 'retweeted': False, 'possibly_sensitive': False, 'lang': 'en'}, created_at=datetime.datetime(2020, 11, 5, 7, 36, 34), id=1324254263346819072, id_str='1324254263346819072', full_text='IPL 2020 Eliminator: Momentum with SRH, but RCB has the fire power https://t.co/zPy64xx4dN', truncated=False, display_text_range=[0, 90], entities={'hashtags': [], 'symbols': [], 'user_mentions': [], 'urls': [{'url': 'https://t.co/zPy64xx4dN', 'expanded_url': 'http://toi.in/gGQrkb', 'display_url': 'toi.in/gGQrkb', 'indices': [67, 90]}]}, metadata={'iso_language_code': 'en', 'result_type': 'recent'}, source='cmssocialservice', source_url='http://www.toi.in', in_reply_to_status_id=None, in_reply_to_status_id_str=None, in_reply_to_user_id=None, in_reply_to_user_id_str=None, in_reply_to_screen_name=None, author=User(_api=<tweepy.api.API object at 0x05ED1790>, _json={'id': 29960177, 'id_str': '29960177', 'name': 'TOI Cricket', 'screen_name': 'TOICricket', 'location': '', 'description': '', 'url': 'http://t.co/VSKi1mCAsZ', 'entities': {'url': {'urls': [{'url': 'http://t.co/VSKi1mCAsZ', 'expanded_url': 'http://timesofindia.com', 'display_url': 'timesofindia.com', 'indices': [0, 22]}]}, 'description': {'urls': []}}, 'protected': False, 'followers_count': 459, 'friends_count': 0, 'listed_count': 28, 'created_at': 'Thu Apr 09 10:48:56 +0000 2009', 'favourites_count': 0, 'utc_offset': None, 'time_zone': None, 'geo_enabled': False, 'verified': False, 'statuses_count': 55067, 'lang': None, 'contributors_enabled': False, 'is_translator': False, 'is_translation_enabled': False, 'profile_background_color': 'C0DEED', 'profile_background_image_url': 'http://abs.twimg.com/images/themes/theme1/bg.png', 'profile_background_image_url_https': 'https://abs.twimg.com/images/themes/theme1/bg.png', 'profile_background_tile': False, 'profile_image_url': 'http://pbs.twimg.com/profile_images/1282409388/icon_512_normal.png', 'profile_image_url_https': 'https://pbs.twimg.com/profile_images/1282409388/icon_512_normal.png', 'profile_banner_url': 'https://pbs.twimg.com/profile_banners/29960177/1480588872', 'profile_link_color': '1DA1F2', 'profile_sidebar_border_color': 'C0DEED', 'profile_sidebar_fill_color': 'DDEEF6', 'profile_text_color': '333333', 'profile_use_background_image': True, 'has_extended_profile': False, 'default_profile': True, 'default_profile_image': False, 'following': False, 'follow_request_sent': False, 'notifications': False, 'translator_type': 'none'}, id=29960177, id_str='29960177', name='TOI Cricket', screen_name='TOICricket', location='', description='', url='http://t.co/VSKi1mCAsZ', entities={'url': {'urls': [{'url': 'http://t.co/VSKi1mCAsZ', 'expanded_url': 'http://timesofindia.com', 'display_url': 'timesofindia.com', 'indices': [0, 22]}]}, 'description': {'urls': []}}, protected=False, followers_count=459, friends_count=0, listed_count=28, created_at=datetime.datetime(2009, 4, 9, 10, 48, 56), favourites_count=0, utc_offset=None, time_zone=None, geo_enabled=False, verified=False, statuses_count=55067, lang=None, contributors_enabled=False, is_translator=False, is_translation_enabled=False, profile_background_color='C0DEED', profile_background_image_url='http://abs.twimg.com/images/themes/theme1/bg.png', profile_background_image_url_https='https://abs.twimg.com/images/themes/theme1/bg.png', profile_background_tile=False, profile_image_url='http://pbs.twimg.com/profile_images/1282409388/icon_512_normal.png', profile_image_url_https='https://pbs.twimg.com/profile_images/1282409388/icon_512_normal.png', profile_banner_url='https://pbs.twimg.com/profile_banners/29960177/1480588872', profile_link_color='1DA1F2', profile_sidebar_border_color='C0DEED', profile_sidebar_fill_color='DDEEF6', profile_text_color='333333', profile_use_background_image=True, has_extended_profile=False, default_profile=True, default_profile_image=False, following=False, follow_request_sent=False, notifications=False, translator_type='none'), user=User(_api=<tweepy.api.API object at 0x05ED1790>, _json={'id': 29960177, 'id_str': '29960177', 'name': 'TOI Cricket', 'screen_name': 'TOICricket', 'location': '', 'description': '', 'url': 'http://t.co/VSKi1mCAsZ', 'entities': {'url': {'urls': [{'url': 'http://t.co/VSKi1mCAsZ', 'expanded_url': 'http://timesofindia.com', 'display_url': 'timesofindia.com', 'indices': [0, 22]}]}, 'description': {'urls': []}}, 'protected': False, 'followers_count': 459, 'friends_count': 0, 'listed_count': 28, 'created_at': 'Thu Apr 09 10:48:56 +0000 2009', 'favourites_count': 0, 'utc_offset': None, 'time_zone': None, 'geo_enabled': False, 'verified': False, 'statuses_count': 55067, 'lang': None, 'contributors_enabled': False, 'is_translator': False, 'is_translation_enabled': False, 'profile_background_color': 'C0DEED', 'profile_background_image_url': 'http://abs.twimg.com/images/themes/theme1/bg.png', 'profile_background_image_url_https': 'https://abs.twimg.com/images/themes/theme1/bg.png', 'profile_background_tile': False, 'profile_image_url': 'http://pbs.twimg.com/profile_images/1282409388/icon_512_normal.png', 'profile_image_url_https': 'https://pbs.twimg.com/profile_images/1282409388/icon_512_normal.png', 'profile_banner_url': 'https://pbs.twimg.com/profile_banners/29960177/1480588872', 'profile_link_color': '1DA1F2', 'profile_sidebar_border_color': 'C0DEED', 'profile_sidebar_fill_color': 'DDEEF6', 'profile_text_color': '333333', 'profile_use_background_image': True, 'has_extended_profile': False, 'default_profile': True, 'default_profile_image': False, 'following': False, 'follow_request_sent': False, 'notifications': False, 'translator_type': 'none'}, id=29960177, id_str='29960177', name='TOI Cricket', screen_name='TOICricket', location='', description='', url='http://t.co/VSKi1mCAsZ', entities={'url': {'urls': [{'url': 'http://t.co/VSKi1mCAsZ', 'expanded_url': 'http://timesofindia.com', 'display_url': 'timesofindia.com', 'indices': [0, 22]}]}, 'description': {'urls': []}}, protected=False, followers_count=459, friends_count=0, listed_count=28, created_at=datetime.datetime(2009, 4, 9, 10, 48, 56), favourites_count=0, utc_offset=None, time_zone=None, geo_enabled=False, verified=False, statuses_count=55067, lang=None, contributors_enabled=False, is_translator=False, is_translation_enabled=False, profile_background_color='C0DEED', profile_background_image_url='http://abs.twimg.com/images/themes/theme1/bg.png', profile_background_image_url_https='https://abs.twimg.com/images/themes/theme1/bg.png', profile_background_tile=False, profile_image_url='http://pbs.twimg.com/profile_images/1282409388/icon_512_normal.png', profile_image_url_https='https://pbs.twimg.com/profile_images/1282409388/icon_512_normal.png', profile_banner_url='https://pbs.twimg.com/profile_banners/29960177/1480588872', profile_link_color='1DA1F2', profile_sidebar_border_color='C0DEED', profile_sidebar_fill_color='DDEEF6', profile_text_color='333333', profile_use_background_image=True, has_extended_profile=False, default_profile=True, default_profile_image=False, following=False, follow_request_sent=False, notifications=False, translator_type='none'), geo=None, coordinates=None, place=None, contributors=None, is_quote_status=False, retweet_count=0, favorite_count=0, favorited=False, retweeted=False, possibly_sensitive=False, lang='en') \n",
      "\n",
      "........................................\n",
      "\n",
      "Status(_api=<tweepy.api.API object at 0x05ED1790>, _json={'created_at': 'Thu Nov 05 07:35:46 +0000 2020', 'id': 1324254062380896256, 'id_str': '1324254062380896256', 'full_text': 'IPL 2020 Eliminator: Momentum with SRH, but RCB has the fire power https://t.co/MNA1PLsNB8', 'truncated': False, 'display_text_range': [0, 90], 'entities': {'hashtags': [], 'symbols': [], 'user_mentions': [], 'urls': [{'url': 'https://t.co/MNA1PLsNB8', 'expanded_url': 'http://toi.in/bogz1Y', 'display_url': 'toi.in/bogz1Y', 'indices': [67, 90]}]}, 'metadata': {'iso_language_code': 'en', 'result_type': 'recent'}, 'source': '<a href=\"http://www.toi.in\" rel=\"nofollow\">cmssocialservice</a>', 'in_reply_to_status_id': None, 'in_reply_to_status_id_str': None, 'in_reply_to_user_id': None, 'in_reply_to_user_id_str': None, 'in_reply_to_screen_name': None, 'user': {'id': 30848360, 'id_str': '30848360', 'name': 'TOI Sports News', 'screen_name': 'TOISportsNews', 'location': 'Noida, India', 'description': 'For more follow @toisports', 'url': 'https://t.co/W9M0IsnI7a', 'entities': {'url': {'urls': [{'url': 'https://t.co/W9M0IsnI7a', 'expanded_url': 'http://timesofindia.com/sports', 'display_url': 'timesofindia.com/sports', 'indices': [0, 23]}]}, 'description': {'urls': []}}, 'protected': False, 'followers_count': 98324, 'friends_count': 339, 'listed_count': 474, 'created_at': 'Mon Apr 13 11:30:13 +0000 2009', 'favourites_count': 14, 'utc_offset': None, 'time_zone': None, 'geo_enabled': True, 'verified': True, 'statuses_count': 187362, 'lang': None, 'contributors_enabled': False, 'is_translator': False, 'is_translation_enabled': False, 'profile_background_color': 'C0DEED', 'profile_background_image_url': 'http://abs.twimg.com/images/themes/theme1/bg.png', 'profile_background_image_url_https': 'https://abs.twimg.com/images/themes/theme1/bg.png', 'profile_background_tile': False, 'profile_image_url': 'http://pbs.twimg.com/profile_images/750914161136181248/ndCiQWrx_normal.jpg', 'profile_image_url_https': 'https://pbs.twimg.com/profile_images/750914161136181248/ndCiQWrx_normal.jpg', 'profile_banner_url': 'https://pbs.twimg.com/profile_banners/30848360/1504256585', 'profile_link_color': '0084B4', 'profile_sidebar_border_color': 'C0DEED', 'profile_sidebar_fill_color': 'DDEEF6', 'profile_text_color': '333333', 'profile_use_background_image': True, 'has_extended_profile': False, 'default_profile': False, 'default_profile_image': False, 'following': False, 'follow_request_sent': False, 'notifications': False, 'translator_type': 'none'}, 'geo': None, 'coordinates': None, 'place': None, 'contributors': None, 'is_quote_status': False, 'retweet_count': 0, 'favorite_count': 4, 'favorited': False, 'retweeted': False, 'possibly_sensitive': False, 'lang': 'en'}, created_at=datetime.datetime(2020, 11, 5, 7, 35, 46), id=1324254062380896256, id_str='1324254062380896256', full_text='IPL 2020 Eliminator: Momentum with SRH, but RCB has the fire power https://t.co/MNA1PLsNB8', truncated=False, display_text_range=[0, 90], entities={'hashtags': [], 'symbols': [], 'user_mentions': [], 'urls': [{'url': 'https://t.co/MNA1PLsNB8', 'expanded_url': 'http://toi.in/bogz1Y', 'display_url': 'toi.in/bogz1Y', 'indices': [67, 90]}]}, metadata={'iso_language_code': 'en', 'result_type': 'recent'}, source='cmssocialservice', source_url='http://www.toi.in', in_reply_to_status_id=None, in_reply_to_status_id_str=None, in_reply_to_user_id=None, in_reply_to_user_id_str=None, in_reply_to_screen_name=None, author=User(_api=<tweepy.api.API object at 0x05ED1790>, _json={'id': 30848360, 'id_str': '30848360', 'name': 'TOI Sports News', 'screen_name': 'TOISportsNews', 'location': 'Noida, India', 'description': 'For more follow @toisports', 'url': 'https://t.co/W9M0IsnI7a', 'entities': {'url': {'urls': [{'url': 'https://t.co/W9M0IsnI7a', 'expanded_url': 'http://timesofindia.com/sports', 'display_url': 'timesofindia.com/sports', 'indices': [0, 23]}]}, 'description': {'urls': []}}, 'protected': False, 'followers_count': 98324, 'friends_count': 339, 'listed_count': 474, 'created_at': 'Mon Apr 13 11:30:13 +0000 2009', 'favourites_count': 14, 'utc_offset': None, 'time_zone': None, 'geo_enabled': True, 'verified': True, 'statuses_count': 187362, 'lang': None, 'contributors_enabled': False, 'is_translator': False, 'is_translation_enabled': False, 'profile_background_color': 'C0DEED', 'profile_background_image_url': 'http://abs.twimg.com/images/themes/theme1/bg.png', 'profile_background_image_url_https': 'https://abs.twimg.com/images/themes/theme1/bg.png', 'profile_background_tile': False, 'profile_image_url': 'http://pbs.twimg.com/profile_images/750914161136181248/ndCiQWrx_normal.jpg', 'profile_image_url_https': 'https://pbs.twimg.com/profile_images/750914161136181248/ndCiQWrx_normal.jpg', 'profile_banner_url': 'https://pbs.twimg.com/profile_banners/30848360/1504256585', 'profile_link_color': '0084B4', 'profile_sidebar_border_color': 'C0DEED', 'profile_sidebar_fill_color': 'DDEEF6', 'profile_text_color': '333333', 'profile_use_background_image': True, 'has_extended_profile': False, 'default_profile': False, 'default_profile_image': False, 'following': False, 'follow_request_sent': False, 'notifications': False, 'translator_type': 'none'}, id=30848360, id_str='30848360', name='TOI Sports News', screen_name='TOISportsNews', location='Noida, India', description='For more follow @toisports', url='https://t.co/W9M0IsnI7a', entities={'url': {'urls': [{'url': 'https://t.co/W9M0IsnI7a', 'expanded_url': 'http://timesofindia.com/sports', 'display_url': 'timesofindia.com/sports', 'indices': [0, 23]}]}, 'description': {'urls': []}}, protected=False, followers_count=98324, friends_count=339, listed_count=474, created_at=datetime.datetime(2009, 4, 13, 11, 30, 13), favourites_count=14, utc_offset=None, time_zone=None, geo_enabled=True, verified=True, statuses_count=187362, lang=None, contributors_enabled=False, is_translator=False, is_translation_enabled=False, profile_background_color='C0DEED', profile_background_image_url='http://abs.twimg.com/images/themes/theme1/bg.png', profile_background_image_url_https='https://abs.twimg.com/images/themes/theme1/bg.png', profile_background_tile=False, profile_image_url='http://pbs.twimg.com/profile_images/750914161136181248/ndCiQWrx_normal.jpg', profile_image_url_https='https://pbs.twimg.com/profile_images/750914161136181248/ndCiQWrx_normal.jpg', profile_banner_url='https://pbs.twimg.com/profile_banners/30848360/1504256585', profile_link_color='0084B4', profile_sidebar_border_color='C0DEED', profile_sidebar_fill_color='DDEEF6', profile_text_color='333333', profile_use_background_image=True, has_extended_profile=False, default_profile=False, default_profile_image=False, following=False, follow_request_sent=False, notifications=False, translator_type='none'), user=User(_api=<tweepy.api.API object at 0x05ED1790>, _json={'id': 30848360, 'id_str': '30848360', 'name': 'TOI Sports News', 'screen_name': 'TOISportsNews', 'location': 'Noida, India', 'description': 'For more follow @toisports', 'url': 'https://t.co/W9M0IsnI7a', 'entities': {'url': {'urls': [{'url': 'https://t.co/W9M0IsnI7a', 'expanded_url': 'http://timesofindia.com/sports', 'display_url': 'timesofindia.com/sports', 'indices': [0, 23]}]}, 'description': {'urls': []}}, 'protected': False, 'followers_count': 98324, 'friends_count': 339, 'listed_count': 474, 'created_at': 'Mon Apr 13 11:30:13 +0000 2009', 'favourites_count': 14, 'utc_offset': None, 'time_zone': None, 'geo_enabled': True, 'verified': True, 'statuses_count': 187362, 'lang': None, 'contributors_enabled': False, 'is_translator': False, 'is_translation_enabled': False, 'profile_background_color': 'C0DEED', 'profile_background_image_url': 'http://abs.twimg.com/images/themes/theme1/bg.png', 'profile_background_image_url_https': 'https://abs.twimg.com/images/themes/theme1/bg.png', 'profile_background_tile': False, 'profile_image_url': 'http://pbs.twimg.com/profile_images/750914161136181248/ndCiQWrx_normal.jpg', 'profile_image_url_https': 'https://pbs.twimg.com/profile_images/750914161136181248/ndCiQWrx_normal.jpg', 'profile_banner_url': 'https://pbs.twimg.com/profile_banners/30848360/1504256585', 'profile_link_color': '0084B4', 'profile_sidebar_border_color': 'C0DEED', 'profile_sidebar_fill_color': 'DDEEF6', 'profile_text_color': '333333', 'profile_use_background_image': True, 'has_extended_profile': False, 'default_profile': False, 'default_profile_image': False, 'following': False, 'follow_request_sent': False, 'notifications': False, 'translator_type': 'none'}, id=30848360, id_str='30848360', name='TOI Sports News', screen_name='TOISportsNews', location='Noida, India', description='For more follow @toisports', url='https://t.co/W9M0IsnI7a', entities={'url': {'urls': [{'url': 'https://t.co/W9M0IsnI7a', 'expanded_url': 'http://timesofindia.com/sports', 'display_url': 'timesofindia.com/sports', 'indices': [0, 23]}]}, 'description': {'urls': []}}, protected=False, followers_count=98324, friends_count=339, listed_count=474, created_at=datetime.datetime(2009, 4, 13, 11, 30, 13), favourites_count=14, utc_offset=None, time_zone=None, geo_enabled=True, verified=True, statuses_count=187362, lang=None, contributors_enabled=False, is_translator=False, is_translation_enabled=False, profile_background_color='C0DEED', profile_background_image_url='http://abs.twimg.com/images/themes/theme1/bg.png', profile_background_image_url_https='https://abs.twimg.com/images/themes/theme1/bg.png', profile_background_tile=False, profile_image_url='http://pbs.twimg.com/profile_images/750914161136181248/ndCiQWrx_normal.jpg', profile_image_url_https='https://pbs.twimg.com/profile_images/750914161136181248/ndCiQWrx_normal.jpg', profile_banner_url='https://pbs.twimg.com/profile_banners/30848360/1504256585', profile_link_color='0084B4', profile_sidebar_border_color='C0DEED', profile_sidebar_fill_color='DDEEF6', profile_text_color='333333', profile_use_background_image=True, has_extended_profile=False, default_profile=False, default_profile_image=False, following=False, follow_request_sent=False, notifications=False, translator_type='none'), geo=None, coordinates=None, place=None, contributors=None, is_quote_status=False, retweet_count=0, favorite_count=4, favorited=False, retweeted=False, possibly_sensitive=False, lang='en') \n",
      "\n",
      "........................................\n",
      "\n",
      "Status(_api=<tweepy.api.API object at 0x05ED1790>, _json={'created_at': 'Thu Nov 05 07:35:43 +0000 2020', 'id': 1324254047461920768, 'id_str': '1324254047461920768', 'full_text': '#IPL2020 Eliminator #SunrisersHyderabad vs #RoyalChallengersBangalore – Head-to-head and past encounters\\n\\n#IPLinUAE #IPL #iplseason13 #SRHvsRCB #SRH #RCBvsSRH #IPLT20 \\n\\nhttps://t.co/ncVDRx90E6', 'truncated': False, 'display_text_range': [0, 192], 'entities': {'hashtags': [{'text': 'IPL2020', 'indices': [0, 8]}, {'text': 'SunrisersHyderabad', 'indices': [20, 39]}, {'text': 'RoyalChallengersBangalore', 'indices': [43, 69]}, {'text': 'IPLinUAE', 'indices': [106, 115]}, {'text': 'IPL', 'indices': [116, 120]}, {'text': 'iplseason13', 'indices': [121, 133]}, {'text': 'SRHvsRCB', 'indices': [134, 143]}, {'text': 'SRH', 'indices': [144, 148]}, {'text': 'RCBvsSRH', 'indices': [149, 158]}, {'text': 'IPLT20', 'indices': [159, 166]}], 'symbols': [], 'user_mentions': [], 'urls': [{'url': 'https://t.co/ncVDRx90E6', 'expanded_url': 'https://www.dnaindia.com/ipl/report-dream-11-ipl-2020-eliminator-sunrisers-hyderabad-vs-royal-challengers-bangalore-head-to-head-and-past-encounters-2854534', 'display_url': 'dnaindia.com/ipl/report-dre…', 'indices': [169, 192]}]}, 'metadata': {'iso_language_code': 'en', 'result_type': 'recent'}, 'source': '<a href=\"https://mobile.twitter.com\" rel=\"nofollow\">Twitter Web App</a>', 'in_reply_to_status_id': None, 'in_reply_to_status_id_str': None, 'in_reply_to_user_id': None, 'in_reply_to_user_id_str': None, 'in_reply_to_screen_name': None, 'user': {'id': 17710740, 'id_str': '17710740', 'name': 'DNA', 'screen_name': 'dna', 'location': 'India', 'description': 'Follow us for news, photos, videos and the latest trends from India and around the world. http://t.co/IZXefx3rSt', 'url': None, 'entities': {'description': {'urls': [{'url': 'http://t.co/IZXefx3rSt', 'expanded_url': 'http://www.dnaindia.com', 'display_url': 'dnaindia.com', 'indices': [90, 112]}]}}, 'protected': False, 'followers_count': 2201467, 'friends_count': 368, 'listed_count': 3417, 'created_at': 'Fri Nov 28 15:39:38 +0000 2008', 'favourites_count': 90, 'utc_offset': None, 'time_zone': None, 'geo_enabled': False, 'verified': True, 'statuses_count': 594343, 'lang': None, 'contributors_enabled': False, 'is_translator': False, 'is_translation_enabled': False, 'profile_background_color': 'FFFFFF', 'profile_background_image_url': 'http://abs.twimg.com/images/themes/theme15/bg.png', 'profile_background_image_url_https': 'https://abs.twimg.com/images/themes/theme15/bg.png', 'profile_background_tile': False, 'profile_image_url': 'http://pbs.twimg.com/profile_images/864432203370905601/yWa-6Q9O_normal.jpg', 'profile_image_url_https': 'https://pbs.twimg.com/profile_images/864432203370905601/yWa-6Q9O_normal.jpg', 'profile_banner_url': 'https://pbs.twimg.com/profile_banners/17710740/1575423803', 'profile_link_color': '1B95E0', 'profile_sidebar_border_color': '000000', 'profile_sidebar_fill_color': '542437', 'profile_text_color': 'C02942', 'profile_use_background_image': True, 'has_extended_profile': False, 'default_profile': False, 'default_profile_image': False, 'following': False, 'follow_request_sent': False, 'notifications': False, 'translator_type': 'regular'}, 'geo': None, 'coordinates': None, 'place': None, 'contributors': None, 'is_quote_status': False, 'retweet_count': 0, 'favorite_count': 6, 'favorited': False, 'retweeted': False, 'possibly_sensitive': False, 'lang': 'en'}, created_at=datetime.datetime(2020, 11, 5, 7, 35, 43), id=1324254047461920768, id_str='1324254047461920768', full_text='#IPL2020 Eliminator #SunrisersHyderabad vs #RoyalChallengersBangalore – Head-to-head and past encounters\\n\\n#IPLinUAE #IPL #iplseason13 #SRHvsRCB #SRH #RCBvsSRH #IPLT20 \\n\\nhttps://t.co/ncVDRx90E6', truncated=False, display_text_range=[0, 192], entities={'hashtags': [{'text': 'IPL2020', 'indices': [0, 8]}, {'text': 'SunrisersHyderabad', 'indices': [20, 39]}, {'text': 'RoyalChallengersBangalore', 'indices': [43, 69]}, {'text': 'IPLinUAE', 'indices': [106, 115]}, {'text': 'IPL', 'indices': [116, 120]}, {'text': 'iplseason13', 'indices': [121, 133]}, {'text': 'SRHvsRCB', 'indices': [134, 143]}, {'text': 'SRH', 'indices': [144, 148]}, {'text': 'RCBvsSRH', 'indices': [149, 158]}, {'text': 'IPLT20', 'indices': [159, 166]}], 'symbols': [], 'user_mentions': [], 'urls': [{'url': 'https://t.co/ncVDRx90E6', 'expanded_url': 'https://www.dnaindia.com/ipl/report-dream-11-ipl-2020-eliminator-sunrisers-hyderabad-vs-royal-challengers-bangalore-head-to-head-and-past-encounters-2854534', 'display_url': 'dnaindia.com/ipl/report-dre…', 'indices': [169, 192]}]}, metadata={'iso_language_code': 'en', 'result_type': 'recent'}, source='Twitter Web App', source_url='https://mobile.twitter.com', in_reply_to_status_id=None, in_reply_to_status_id_str=None, in_reply_to_user_id=None, in_reply_to_user_id_str=None, in_reply_to_screen_name=None, author=User(_api=<tweepy.api.API object at 0x05ED1790>, _json={'id': 17710740, 'id_str': '17710740', 'name': 'DNA', 'screen_name': 'dna', 'location': 'India', 'description': 'Follow us for news, photos, videos and the latest trends from India and around the world. http://t.co/IZXefx3rSt', 'url': None, 'entities': {'description': {'urls': [{'url': 'http://t.co/IZXefx3rSt', 'expanded_url': 'http://www.dnaindia.com', 'display_url': 'dnaindia.com', 'indices': [90, 112]}]}}, 'protected': False, 'followers_count': 2201467, 'friends_count': 368, 'listed_count': 3417, 'created_at': 'Fri Nov 28 15:39:38 +0000 2008', 'favourites_count': 90, 'utc_offset': None, 'time_zone': None, 'geo_enabled': False, 'verified': True, 'statuses_count': 594343, 'lang': None, 'contributors_enabled': False, 'is_translator': False, 'is_translation_enabled': False, 'profile_background_color': 'FFFFFF', 'profile_background_image_url': 'http://abs.twimg.com/images/themes/theme15/bg.png', 'profile_background_image_url_https': 'https://abs.twimg.com/images/themes/theme15/bg.png', 'profile_background_tile': False, 'profile_image_url': 'http://pbs.twimg.com/profile_images/864432203370905601/yWa-6Q9O_normal.jpg', 'profile_image_url_https': 'https://pbs.twimg.com/profile_images/864432203370905601/yWa-6Q9O_normal.jpg', 'profile_banner_url': 'https://pbs.twimg.com/profile_banners/17710740/1575423803', 'profile_link_color': '1B95E0', 'profile_sidebar_border_color': '000000', 'profile_sidebar_fill_color': '542437', 'profile_text_color': 'C02942', 'profile_use_background_image': True, 'has_extended_profile': False, 'default_profile': False, 'default_profile_image': False, 'following': False, 'follow_request_sent': False, 'notifications': False, 'translator_type': 'regular'}, id=17710740, id_str='17710740', name='DNA', screen_name='dna', location='India', description='Follow us for news, photos, videos and the latest trends from India and around the world. http://t.co/IZXefx3rSt', url=None, entities={'description': {'urls': [{'url': 'http://t.co/IZXefx3rSt', 'expanded_url': 'http://www.dnaindia.com', 'display_url': 'dnaindia.com', 'indices': [90, 112]}]}}, protected=False, followers_count=2201467, friends_count=368, listed_count=3417, created_at=datetime.datetime(2008, 11, 28, 15, 39, 38), favourites_count=90, utc_offset=None, time_zone=None, geo_enabled=False, verified=True, statuses_count=594343, lang=None, contributors_enabled=False, is_translator=False, is_translation_enabled=False, profile_background_color='FFFFFF', profile_background_image_url='http://abs.twimg.com/images/themes/theme15/bg.png', profile_background_image_url_https='https://abs.twimg.com/images/themes/theme15/bg.png', profile_background_tile=False, profile_image_url='http://pbs.twimg.com/profile_images/864432203370905601/yWa-6Q9O_normal.jpg', profile_image_url_https='https://pbs.twimg.com/profile_images/864432203370905601/yWa-6Q9O_normal.jpg', profile_banner_url='https://pbs.twimg.com/profile_banners/17710740/1575423803', profile_link_color='1B95E0', profile_sidebar_border_color='000000', profile_sidebar_fill_color='542437', profile_text_color='C02942', profile_use_background_image=True, has_extended_profile=False, default_profile=False, default_profile_image=False, following=False, follow_request_sent=False, notifications=False, translator_type='regular'), user=User(_api=<tweepy.api.API object at 0x05ED1790>, _json={'id': 17710740, 'id_str': '17710740', 'name': 'DNA', 'screen_name': 'dna', 'location': 'India', 'description': 'Follow us for news, photos, videos and the latest trends from India and around the world. http://t.co/IZXefx3rSt', 'url': None, 'entities': {'description': {'urls': [{'url': 'http://t.co/IZXefx3rSt', 'expanded_url': 'http://www.dnaindia.com', 'display_url': 'dnaindia.com', 'indices': [90, 112]}]}}, 'protected': False, 'followers_count': 2201467, 'friends_count': 368, 'listed_count': 3417, 'created_at': 'Fri Nov 28 15:39:38 +0000 2008', 'favourites_count': 90, 'utc_offset': None, 'time_zone': None, 'geo_enabled': False, 'verified': True, 'statuses_count': 594343, 'lang': None, 'contributors_enabled': False, 'is_translator': False, 'is_translation_enabled': False, 'profile_background_color': 'FFFFFF', 'profile_background_image_url': 'http://abs.twimg.com/images/themes/theme15/bg.png', 'profile_background_image_url_https': 'https://abs.twimg.com/images/themes/theme15/bg.png', 'profile_background_tile': False, 'profile_image_url': 'http://pbs.twimg.com/profile_images/864432203370905601/yWa-6Q9O_normal.jpg', 'profile_image_url_https': 'https://pbs.twimg.com/profile_images/864432203370905601/yWa-6Q9O_normal.jpg', 'profile_banner_url': 'https://pbs.twimg.com/profile_banners/17710740/1575423803', 'profile_link_color': '1B95E0', 'profile_sidebar_border_color': '000000', 'profile_sidebar_fill_color': '542437', 'profile_text_color': 'C02942', 'profile_use_background_image': True, 'has_extended_profile': False, 'default_profile': False, 'default_profile_image': False, 'following': False, 'follow_request_sent': False, 'notifications': False, 'translator_type': 'regular'}, id=17710740, id_str='17710740', name='DNA', screen_name='dna', location='India', description='Follow us for news, photos, videos and the latest trends from India and around the world. http://t.co/IZXefx3rSt', url=None, entities={'description': {'urls': [{'url': 'http://t.co/IZXefx3rSt', 'expanded_url': 'http://www.dnaindia.com', 'display_url': 'dnaindia.com', 'indices': [90, 112]}]}}, protected=False, followers_count=2201467, friends_count=368, listed_count=3417, created_at=datetime.datetime(2008, 11, 28, 15, 39, 38), favourites_count=90, utc_offset=None, time_zone=None, geo_enabled=False, verified=True, statuses_count=594343, lang=None, contributors_enabled=False, is_translator=False, is_translation_enabled=False, profile_background_color='FFFFFF', profile_background_image_url='http://abs.twimg.com/images/themes/theme15/bg.png', profile_background_image_url_https='https://abs.twimg.com/images/themes/theme15/bg.png', profile_background_tile=False, profile_image_url='http://pbs.twimg.com/profile_images/864432203370905601/yWa-6Q9O_normal.jpg', profile_image_url_https='https://pbs.twimg.com/profile_images/864432203370905601/yWa-6Q9O_normal.jpg', profile_banner_url='https://pbs.twimg.com/profile_banners/17710740/1575423803', profile_link_color='1B95E0', profile_sidebar_border_color='000000', profile_sidebar_fill_color='542437', profile_text_color='C02942', profile_use_background_image=True, has_extended_profile=False, default_profile=False, default_profile_image=False, following=False, follow_request_sent=False, notifications=False, translator_type='regular'), geo=None, coordinates=None, place=None, contributors=None, is_quote_status=False, retweet_count=0, favorite_count=6, favorited=False, retweeted=False, possibly_sensitive=False, lang='en') \n",
      "\n",
      "........................................\n",
      "\n",
      "Status(_api=<tweepy.api.API object at 0x05ED1790>, _json={'created_at': 'Thu Nov 05 07:33:59 +0000 2020', 'id': 1324253613921718272, 'id_str': '1324253613921718272', 'full_text': 'Who will win this Ipl 2020 (Old Question)  ???? https://t.co/lTI8S8NFpZ', 'truncated': False, 'display_text_range': [0, 47], 'entities': {'hashtags': [], 'symbols': [], 'user_mentions': [], 'urls': [{'url': 'https://t.co/lTI8S8NFpZ', 'expanded_url': 'https://twitter.com/R3Mitul/status/1324236461382668288', 'display_url': 'twitter.com/R3Mitul/status…', 'indices': [48, 71]}]}, 'metadata': {'iso_language_code': 'en', 'result_type': 'recent'}, 'source': '<a href=\"http://twitter.com/download/android\" rel=\"nofollow\">Twitter for Android</a>', 'in_reply_to_status_id': None, 'in_reply_to_status_id_str': None, 'in_reply_to_user_id': None, 'in_reply_to_user_id_str': None, 'in_reply_to_screen_name': None, 'user': {'id': 2909279882, 'id_str': '2909279882', 'name': 'Pr@v€£n', 'screen_name': 'Praveen20Selva', 'location': 'Bangalore', 'description': '#Thala #Thalaivar #Dhoni #Raina #CSK\\n#ARR #Yuvan #Cricket #Movies', 'url': None, 'entities': {'description': {'urls': []}}, 'protected': False, 'followers_count': 215, 'friends_count': 500, 'listed_count': 7, 'created_at': 'Mon Nov 24 16:58:53 +0000 2014', 'favourites_count': 75306, 'utc_offset': None, 'time_zone': None, 'geo_enabled': False, 'verified': False, 'statuses_count': 25374, 'lang': None, 'contributors_enabled': False, 'is_translator': False, 'is_translation_enabled': False, 'profile_background_color': 'C0DEED', 'profile_background_image_url': 'http://abs.twimg.com/images/themes/theme1/bg.png', 'profile_background_image_url_https': 'https://abs.twimg.com/images/themes/theme1/bg.png', 'profile_background_tile': False, 'profile_image_url': 'http://pbs.twimg.com/profile_images/1300120954333360129/HYglXnjR_normal.jpg', 'profile_image_url_https': 'https://pbs.twimg.com/profile_images/1300120954333360129/HYglXnjR_normal.jpg', 'profile_banner_url': 'https://pbs.twimg.com/profile_banners/2909279882/1555022646', 'profile_link_color': '1DA1F2', 'profile_sidebar_border_color': 'C0DEED', 'profile_sidebar_fill_color': 'DDEEF6', 'profile_text_color': '333333', 'profile_use_background_image': True, 'has_extended_profile': True, 'default_profile': True, 'default_profile_image': False, 'following': False, 'follow_request_sent': False, 'notifications': False, 'translator_type': 'none'}, 'geo': None, 'coordinates': None, 'place': None, 'contributors': None, 'is_quote_status': True, 'quoted_status_id': 1324236461382668288, 'quoted_status_id_str': '1324236461382668288', 'quoted_status': {'created_at': 'Thu Nov 05 06:25:50 +0000 2020', 'id': 1324236461382668288, 'id_str': '1324236461382668288', 'full_text': 'My name is Mitul and I am NOT AN ASTROLOGER', 'truncated': False, 'display_text_range': [0, 43], 'entities': {'hashtags': [], 'symbols': [], 'user_mentions': [], 'urls': []}, 'metadata': {'iso_language_code': 'en', 'result_type': 'recent'}, 'source': '<a href=\"https://mobile.twitter.com\" rel=\"nofollow\">Twitter Web App</a>', 'in_reply_to_status_id': None, 'in_reply_to_status_id_str': None, 'in_reply_to_user_id': None, 'in_reply_to_user_id_str': None, 'in_reply_to_screen_name': None, 'user': {'id': 227267032, 'id_str': '227267032', 'name': 'Mitul', 'screen_name': 'R3Mitul', 'location': 'Ahmadabad City, India', 'description': 'Not an Astrologer, Just a Random Cricket Fan who wrote what he felt right on 27th July!!', 'url': 'https://t.co/Om920KUWuq', 'entities': {'url': {'urls': [{'url': 'https://t.co/Om920KUWuq', 'expanded_url': 'https://www.instagram.com/eme2ul/', 'display_url': 'instagram.com/eme2ul/', 'indices': [0, 23]}]}, 'description': {'urls': []}}, 'protected': False, 'followers_count': 13184, 'friends_count': 514, 'listed_count': 20, 'created_at': 'Thu Dec 16 11:11:28 +0000 2010', 'favourites_count': 25924, 'utc_offset': None, 'time_zone': None, 'geo_enabled': False, 'verified': False, 'statuses_count': 79562, 'lang': None, 'contributors_enabled': False, 'is_translator': False, 'is_translation_enabled': False, 'profile_background_color': '000000', 'profile_background_image_url': 'http://abs.twimg.com/images/themes/theme1/bg.png', 'profile_background_image_url_https': 'https://abs.twimg.com/images/themes/theme1/bg.png', 'profile_background_tile': False, 'profile_image_url': 'http://pbs.twimg.com/profile_images/1316055346885070848/do-cp9_b_normal.jpg', 'profile_image_url_https': 'https://pbs.twimg.com/profile_images/1316055346885070848/do-cp9_b_normal.jpg', 'profile_banner_url': 'https://pbs.twimg.com/profile_banners/227267032/1603023638', 'profile_link_color': 'E81C4F', 'profile_sidebar_border_color': '000000', 'profile_sidebar_fill_color': '000000', 'profile_text_color': '000000', 'profile_use_background_image': False, 'has_extended_profile': True, 'default_profile': False, 'default_profile_image': False, 'following': False, 'follow_request_sent': False, 'notifications': False, 'translator_type': 'none'}, 'geo': None, 'coordinates': None, 'place': None, 'contributors': None, 'is_quote_status': False, 'retweet_count': 6, 'favorite_count': 246, 'favorited': False, 'retweeted': False, 'lang': 'en'}, 'retweet_count': 0, 'favorite_count': 0, 'favorited': False, 'retweeted': False, 'possibly_sensitive': False, 'lang': 'en'}, created_at=datetime.datetime(2020, 11, 5, 7, 33, 59), id=1324253613921718272, id_str='1324253613921718272', full_text='Who will win this Ipl 2020 (Old Question)  ???? https://t.co/lTI8S8NFpZ', truncated=False, display_text_range=[0, 47], entities={'hashtags': [], 'symbols': [], 'user_mentions': [], 'urls': [{'url': 'https://t.co/lTI8S8NFpZ', 'expanded_url': 'https://twitter.com/R3Mitul/status/1324236461382668288', 'display_url': 'twitter.com/R3Mitul/status…', 'indices': [48, 71]}]}, metadata={'iso_language_code': 'en', 'result_type': 'recent'}, source='Twitter for Android', source_url='http://twitter.com/download/android', in_reply_to_status_id=None, in_reply_to_status_id_str=None, in_reply_to_user_id=None, in_reply_to_user_id_str=None, in_reply_to_screen_name=None, author=User(_api=<tweepy.api.API object at 0x05ED1790>, _json={'id': 2909279882, 'id_str': '2909279882', 'name': 'Pr@v€£n', 'screen_name': 'Praveen20Selva', 'location': 'Bangalore', 'description': '#Thala #Thalaivar #Dhoni #Raina #CSK\\n#ARR #Yuvan #Cricket #Movies', 'url': None, 'entities': {'description': {'urls': []}}, 'protected': False, 'followers_count': 215, 'friends_count': 500, 'listed_count': 7, 'created_at': 'Mon Nov 24 16:58:53 +0000 2014', 'favourites_count': 75306, 'utc_offset': None, 'time_zone': None, 'geo_enabled': False, 'verified': False, 'statuses_count': 25374, 'lang': None, 'contributors_enabled': False, 'is_translator': False, 'is_translation_enabled': False, 'profile_background_color': 'C0DEED', 'profile_background_image_url': 'http://abs.twimg.com/images/themes/theme1/bg.png', 'profile_background_image_url_https': 'https://abs.twimg.com/images/themes/theme1/bg.png', 'profile_background_tile': False, 'profile_image_url': 'http://pbs.twimg.com/profile_images/1300120954333360129/HYglXnjR_normal.jpg', 'profile_image_url_https': 'https://pbs.twimg.com/profile_images/1300120954333360129/HYglXnjR_normal.jpg', 'profile_banner_url': 'https://pbs.twimg.com/profile_banners/2909279882/1555022646', 'profile_link_color': '1DA1F2', 'profile_sidebar_border_color': 'C0DEED', 'profile_sidebar_fill_color': 'DDEEF6', 'profile_text_color': '333333', 'profile_use_background_image': True, 'has_extended_profile': True, 'default_profile': True, 'default_profile_image': False, 'following': False, 'follow_request_sent': False, 'notifications': False, 'translator_type': 'none'}, id=2909279882, id_str='2909279882', name='Pr@v€£n', screen_name='Praveen20Selva', location='Bangalore', description='#Thala #Thalaivar #Dhoni #Raina #CSK\\n#ARR #Yuvan #Cricket #Movies', url=None, entities={'description': {'urls': []}}, protected=False, followers_count=215, friends_count=500, listed_count=7, created_at=datetime.datetime(2014, 11, 24, 16, 58, 53), favourites_count=75306, utc_offset=None, time_zone=None, geo_enabled=False, verified=False, statuses_count=25374, lang=None, contributors_enabled=False, is_translator=False, is_translation_enabled=False, profile_background_color='C0DEED', profile_background_image_url='http://abs.twimg.com/images/themes/theme1/bg.png', profile_background_image_url_https='https://abs.twimg.com/images/themes/theme1/bg.png', profile_background_tile=False, profile_image_url='http://pbs.twimg.com/profile_images/1300120954333360129/HYglXnjR_normal.jpg', profile_image_url_https='https://pbs.twimg.com/profile_images/1300120954333360129/HYglXnjR_normal.jpg', profile_banner_url='https://pbs.twimg.com/profile_banners/2909279882/1555022646', profile_link_color='1DA1F2', profile_sidebar_border_color='C0DEED', profile_sidebar_fill_color='DDEEF6', profile_text_color='333333', profile_use_background_image=True, has_extended_profile=True, default_profile=True, default_profile_image=False, following=False, follow_request_sent=False, notifications=False, translator_type='none'), user=User(_api=<tweepy.api.API object at 0x05ED1790>, _json={'id': 2909279882, 'id_str': '2909279882', 'name': 'Pr@v€£n', 'screen_name': 'Praveen20Selva', 'location': 'Bangalore', 'description': '#Thala #Thalaivar #Dhoni #Raina #CSK\\n#ARR #Yuvan #Cricket #Movies', 'url': None, 'entities': {'description': {'urls': []}}, 'protected': False, 'followers_count': 215, 'friends_count': 500, 'listed_count': 7, 'created_at': 'Mon Nov 24 16:58:53 +0000 2014', 'favourites_count': 75306, 'utc_offset': None, 'time_zone': None, 'geo_enabled': False, 'verified': False, 'statuses_count': 25374, 'lang': None, 'contributors_enabled': False, 'is_translator': False, 'is_translation_enabled': False, 'profile_background_color': 'C0DEED', 'profile_background_image_url': 'http://abs.twimg.com/images/themes/theme1/bg.png', 'profile_background_image_url_https': 'https://abs.twimg.com/images/themes/theme1/bg.png', 'profile_background_tile': False, 'profile_image_url': 'http://pbs.twimg.com/profile_images/1300120954333360129/HYglXnjR_normal.jpg', 'profile_image_url_https': 'https://pbs.twimg.com/profile_images/1300120954333360129/HYglXnjR_normal.jpg', 'profile_banner_url': 'https://pbs.twimg.com/profile_banners/2909279882/1555022646', 'profile_link_color': '1DA1F2', 'profile_sidebar_border_color': 'C0DEED', 'profile_sidebar_fill_color': 'DDEEF6', 'profile_text_color': '333333', 'profile_use_background_image': True, 'has_extended_profile': True, 'default_profile': True, 'default_profile_image': False, 'following': False, 'follow_request_sent': False, 'notifications': False, 'translator_type': 'none'}, id=2909279882, id_str='2909279882', name='Pr@v€£n', screen_name='Praveen20Selva', location='Bangalore', description='#Thala #Thalaivar #Dhoni #Raina #CSK\\n#ARR #Yuvan #Cricket #Movies', url=None, entities={'description': {'urls': []}}, protected=False, followers_count=215, friends_count=500, listed_count=7, created_at=datetime.datetime(2014, 11, 24, 16, 58, 53), favourites_count=75306, utc_offset=None, time_zone=None, geo_enabled=False, verified=False, statuses_count=25374, lang=None, contributors_enabled=False, is_translator=False, is_translation_enabled=False, profile_background_color='C0DEED', profile_background_image_url='http://abs.twimg.com/images/themes/theme1/bg.png', profile_background_image_url_https='https://abs.twimg.com/images/themes/theme1/bg.png', profile_background_tile=False, profile_image_url='http://pbs.twimg.com/profile_images/1300120954333360129/HYglXnjR_normal.jpg', profile_image_url_https='https://pbs.twimg.com/profile_images/1300120954333360129/HYglXnjR_normal.jpg', profile_banner_url='https://pbs.twimg.com/profile_banners/2909279882/1555022646', profile_link_color='1DA1F2', profile_sidebar_border_color='C0DEED', profile_sidebar_fill_color='DDEEF6', profile_text_color='333333', profile_use_background_image=True, has_extended_profile=True, default_profile=True, default_profile_image=False, following=False, follow_request_sent=False, notifications=False, translator_type='none'), geo=None, coordinates=None, place=None, contributors=None, is_quote_status=True, quoted_status_id=1324236461382668288, quoted_status_id_str='1324236461382668288', quoted_status=Status(_api=<tweepy.api.API object at 0x05ED1790>, _json={'created_at': 'Thu Nov 05 06:25:50 +0000 2020', 'id': 1324236461382668288, 'id_str': '1324236461382668288', 'full_text': 'My name is Mitul and I am NOT AN ASTROLOGER', 'truncated': False, 'display_text_range': [0, 43], 'entities': {'hashtags': [], 'symbols': [], 'user_mentions': [], 'urls': []}, 'metadata': {'iso_language_code': 'en', 'result_type': 'recent'}, 'source': '<a href=\"https://mobile.twitter.com\" rel=\"nofollow\">Twitter Web App</a>', 'in_reply_to_status_id': None, 'in_reply_to_status_id_str': None, 'in_reply_to_user_id': None, 'in_reply_to_user_id_str': None, 'in_reply_to_screen_name': None, 'user': {'id': 227267032, 'id_str': '227267032', 'name': 'Mitul', 'screen_name': 'R3Mitul', 'location': 'Ahmadabad City, India', 'description': 'Not an Astrologer, Just a Random Cricket Fan who wrote what he felt right on 27th July!!', 'url': 'https://t.co/Om920KUWuq', 'entities': {'url': {'urls': [{'url': 'https://t.co/Om920KUWuq', 'expanded_url': 'https://www.instagram.com/eme2ul/', 'display_url': 'instagram.com/eme2ul/', 'indices': [0, 23]}]}, 'description': {'urls': []}}, 'protected': False, 'followers_count': 13184, 'friends_count': 514, 'listed_count': 20, 'created_at': 'Thu Dec 16 11:11:28 +0000 2010', 'favourites_count': 25924, 'utc_offset': None, 'time_zone': None, 'geo_enabled': False, 'verified': False, 'statuses_count': 79562, 'lang': None, 'contributors_enabled': False, 'is_translator': False, 'is_translation_enabled': False, 'profile_background_color': '000000', 'profile_background_image_url': 'http://abs.twimg.com/images/themes/theme1/bg.png', 'profile_background_image_url_https': 'https://abs.twimg.com/images/themes/theme1/bg.png', 'profile_background_tile': False, 'profile_image_url': 'http://pbs.twimg.com/profile_images/1316055346885070848/do-cp9_b_normal.jpg', 'profile_image_url_https': 'https://pbs.twimg.com/profile_images/1316055346885070848/do-cp9_b_normal.jpg', 'profile_banner_url': 'https://pbs.twimg.com/profile_banners/227267032/1603023638', 'profile_link_color': 'E81C4F', 'profile_sidebar_border_color': '000000', 'profile_sidebar_fill_color': '000000', 'profile_text_color': '000000', 'profile_use_background_image': False, 'has_extended_profile': True, 'default_profile': False, 'default_profile_image': False, 'following': False, 'follow_request_sent': False, 'notifications': False, 'translator_type': 'none'}, 'geo': None, 'coordinates': None, 'place': None, 'contributors': None, 'is_quote_status': False, 'retweet_count': 6, 'favorite_count': 246, 'favorited': False, 'retweeted': False, 'lang': 'en'}, created_at=datetime.datetime(2020, 11, 5, 6, 25, 50), id=1324236461382668288, id_str='1324236461382668288', full_text='My name is Mitul and I am NOT AN ASTROLOGER', truncated=False, display_text_range=[0, 43], entities={'hashtags': [], 'symbols': [], 'user_mentions': [], 'urls': []}, metadata={'iso_language_code': 'en', 'result_type': 'recent'}, source='Twitter Web App', source_url='https://mobile.twitter.com', in_reply_to_status_id=None, in_reply_to_status_id_str=None, in_reply_to_user_id=None, in_reply_to_user_id_str=None, in_reply_to_screen_name=None, author=User(_api=<tweepy.api.API object at 0x05ED1790>, _json={'id': 227267032, 'id_str': '227267032', 'name': 'Mitul', 'screen_name': 'R3Mitul', 'location': 'Ahmadabad City, India', 'description': 'Not an Astrologer, Just a Random Cricket Fan who wrote what he felt right on 27th July!!', 'url': 'https://t.co/Om920KUWuq', 'entities': {'url': {'urls': [{'url': 'https://t.co/Om920KUWuq', 'expanded_url': 'https://www.instagram.com/eme2ul/', 'display_url': 'instagram.com/eme2ul/', 'indices': [0, 23]}]}, 'description': {'urls': []}}, 'protected': False, 'followers_count': 13184, 'friends_count': 514, 'listed_count': 20, 'created_at': 'Thu Dec 16 11:11:28 +0000 2010', 'favourites_count': 25924, 'utc_offset': None, 'time_zone': None, 'geo_enabled': False, 'verified': False, 'statuses_count': 79562, 'lang': None, 'contributors_enabled': False, 'is_translator': False, 'is_translation_enabled': False, 'profile_background_color': '000000', 'profile_background_image_url': 'http://abs.twimg.com/images/themes/theme1/bg.png', 'profile_background_image_url_https': 'https://abs.twimg.com/images/themes/theme1/bg.png', 'profile_background_tile': False, 'profile_image_url': 'http://pbs.twimg.com/profile_images/1316055346885070848/do-cp9_b_normal.jpg', 'profile_image_url_https': 'https://pbs.twimg.com/profile_images/1316055346885070848/do-cp9_b_normal.jpg', 'profile_banner_url': 'https://pbs.twimg.com/profile_banners/227267032/1603023638', 'profile_link_color': 'E81C4F', 'profile_sidebar_border_color': '000000', 'profile_sidebar_fill_color': '000000', 'profile_text_color': '000000', 'profile_use_background_image': False, 'has_extended_profile': True, 'default_profile': False, 'default_profile_image': False, 'following': False, 'follow_request_sent': False, 'notifications': False, 'translator_type': 'none'}, id=227267032, id_str='227267032', name='Mitul', screen_name='R3Mitul', location='Ahmadabad City, India', description='Not an Astrologer, Just a Random Cricket Fan who wrote what he felt right on 27th July!!', url='https://t.co/Om920KUWuq', entities={'url': {'urls': [{'url': 'https://t.co/Om920KUWuq', 'expanded_url': 'https://www.instagram.com/eme2ul/', 'display_url': 'instagram.com/eme2ul/', 'indices': [0, 23]}]}, 'description': {'urls': []}}, protected=False, followers_count=13184, friends_count=514, listed_count=20, created_at=datetime.datetime(2010, 12, 16, 11, 11, 28), favourites_count=25924, utc_offset=None, time_zone=None, geo_enabled=False, verified=False, statuses_count=79562, lang=None, contributors_enabled=False, is_translator=False, is_translation_enabled=False, profile_background_color='000000', profile_background_image_url='http://abs.twimg.com/images/themes/theme1/bg.png', profile_background_image_url_https='https://abs.twimg.com/images/themes/theme1/bg.png', profile_background_tile=False, profile_image_url='http://pbs.twimg.com/profile_images/1316055346885070848/do-cp9_b_normal.jpg', profile_image_url_https='https://pbs.twimg.com/profile_images/1316055346885070848/do-cp9_b_normal.jpg', profile_banner_url='https://pbs.twimg.com/profile_banners/227267032/1603023638', profile_link_color='E81C4F', profile_sidebar_border_color='000000', profile_sidebar_fill_color='000000', profile_text_color='000000', profile_use_background_image=False, has_extended_profile=True, default_profile=False, default_profile_image=False, following=False, follow_request_sent=False, notifications=False, translator_type='none'), user=User(_api=<tweepy.api.API object at 0x05ED1790>, _json={'id': 227267032, 'id_str': '227267032', 'name': 'Mitul', 'screen_name': 'R3Mitul', 'location': 'Ahmadabad City, India', 'description': 'Not an Astrologer, Just a Random Cricket Fan who wrote what he felt right on 27th July!!', 'url': 'https://t.co/Om920KUWuq', 'entities': {'url': {'urls': [{'url': 'https://t.co/Om920KUWuq', 'expanded_url': 'https://www.instagram.com/eme2ul/', 'display_url': 'instagram.com/eme2ul/', 'indices': [0, 23]}]}, 'description': {'urls': []}}, 'protected': False, 'followers_count': 13184, 'friends_count': 514, 'listed_count': 20, 'created_at': 'Thu Dec 16 11:11:28 +0000 2010', 'favourites_count': 25924, 'utc_offset': None, 'time_zone': None, 'geo_enabled': False, 'verified': False, 'statuses_count': 79562, 'lang': None, 'contributors_enabled': False, 'is_translator': False, 'is_translation_enabled': False, 'profile_background_color': '000000', 'profile_background_image_url': 'http://abs.twimg.com/images/themes/theme1/bg.png', 'profile_background_image_url_https': 'https://abs.twimg.com/images/themes/theme1/bg.png', 'profile_background_tile': False, 'profile_image_url': 'http://pbs.twimg.com/profile_images/1316055346885070848/do-cp9_b_normal.jpg', 'profile_image_url_https': 'https://pbs.twimg.com/profile_images/1316055346885070848/do-cp9_b_normal.jpg', 'profile_banner_url': 'https://pbs.twimg.com/profile_banners/227267032/1603023638', 'profile_link_color': 'E81C4F', 'profile_sidebar_border_color': '000000', 'profile_sidebar_fill_color': '000000', 'profile_text_color': '000000', 'profile_use_background_image': False, 'has_extended_profile': True, 'default_profile': False, 'default_profile_image': False, 'following': False, 'follow_request_sent': False, 'notifications': False, 'translator_type': 'none'}, id=227267032, id_str='227267032', name='Mitul', screen_name='R3Mitul', location='Ahmadabad City, India', description='Not an Astrologer, Just a Random Cricket Fan who wrote what he felt right on 27th July!!', url='https://t.co/Om920KUWuq', entities={'url': {'urls': [{'url': 'https://t.co/Om920KUWuq', 'expanded_url': 'https://www.instagram.com/eme2ul/', 'display_url': 'instagram.com/eme2ul/', 'indices': [0, 23]}]}, 'description': {'urls': []}}, protected=False, followers_count=13184, friends_count=514, listed_count=20, created_at=datetime.datetime(2010, 12, 16, 11, 11, 28), favourites_count=25924, utc_offset=None, time_zone=None, geo_enabled=False, verified=False, statuses_count=79562, lang=None, contributors_enabled=False, is_translator=False, is_translation_enabled=False, profile_background_color='000000', profile_background_image_url='http://abs.twimg.com/images/themes/theme1/bg.png', profile_background_image_url_https='https://abs.twimg.com/images/themes/theme1/bg.png', profile_background_tile=False, profile_image_url='http://pbs.twimg.com/profile_images/1316055346885070848/do-cp9_b_normal.jpg', profile_image_url_https='https://pbs.twimg.com/profile_images/1316055346885070848/do-cp9_b_normal.jpg', profile_banner_url='https://pbs.twimg.com/profile_banners/227267032/1603023638', profile_link_color='E81C4F', profile_sidebar_border_color='000000', profile_sidebar_fill_color='000000', profile_text_color='000000', profile_use_background_image=False, has_extended_profile=True, default_profile=False, default_profile_image=False, following=False, follow_request_sent=False, notifications=False, translator_type='none'), geo=None, coordinates=None, place=None, contributors=None, is_quote_status=False, retweet_count=6, favorite_count=246, favorited=False, retweeted=False, lang='en'), retweet_count=0, favorite_count=0, favorited=False, retweeted=False, possibly_sensitive=False, lang='en') \n",
      "\n",
      "........................................\n",
      "\n",
      "Status(_api=<tweepy.api.API object at 0x05ED1790>, _json={'created_at': 'Thu Nov 05 07:33:37 +0000 2020', 'id': 1324253521080799236, 'id_str': '1324253521080799236', 'full_text': 'IPL 2020:  Qualifier 1 - MI vs DC Preview on Battleground T20 https://t.co/27HB0iW55T', 'truncated': False, 'display_text_range': [0, 85], 'entities': {'hashtags': [], 'symbols': [], 'user_mentions': [], 'urls': [{'url': 'https://t.co/27HB0iW55T', 'expanded_url': 'https://www.pscp.tv/w/cnJQ0TEwODY4MTE0fDF5cEtkd3FNck92eFfqHwmmesMvo9jN4etW50Ka2xpB2xFZNrVlOxUAA739iA==', 'display_url': 'pscp.tv/w/cnJQ0TEwODY4…', 'indices': [62, 85]}]}, 'metadata': {'iso_language_code': 'en', 'result_type': 'recent'}, 'source': '<a href=\"https://periscope.tv\" rel=\"nofollow\">Periscope</a>', 'in_reply_to_status_id': None, 'in_reply_to_status_id_str': None, 'in_reply_to_user_id': None, 'in_reply_to_user_id_str': None, 'in_reply_to_screen_name': None, 'user': {'id': 36327407, 'id_str': '36327407', 'name': 'Hindustan Times', 'screen_name': 'htTweets', 'location': 'India', 'description': \"One of India's largest media companies. Latest news from around the world. Retweets are not endorsements\", 'url': 'https://t.co/yEyv2GeRpS', 'entities': {'url': {'urls': [{'url': 'https://t.co/yEyv2GeRpS', 'expanded_url': 'http://www.hindustantimes.com', 'display_url': 'hindustantimes.com', 'indices': [0, 23]}]}, 'description': {'urls': []}}, 'protected': False, 'followers_count': 7803440, 'friends_count': 125, 'listed_count': 7068, 'created_at': 'Wed Apr 29 10:11:34 +0000 2009', 'favourites_count': 2949, 'utc_offset': None, 'time_zone': None, 'geo_enabled': True, 'verified': True, 'statuses_count': 797720, 'lang': None, 'contributors_enabled': False, 'is_translator': False, 'is_translation_enabled': False, 'profile_background_color': '1A1B1F', 'profile_background_image_url': 'http://abs.twimg.com/images/themes/theme9/bg.gif', 'profile_background_image_url_https': 'https://abs.twimg.com/images/themes/theme9/bg.gif', 'profile_background_tile': False, 'profile_image_url': 'http://pbs.twimg.com/profile_images/1300145337617661952/Z6rMaX5R_normal.jpg', 'profile_image_url_https': 'https://pbs.twimg.com/profile_images/1300145337617661952/Z6rMaX5R_normal.jpg', 'profile_banner_url': 'https://pbs.twimg.com/profile_banners/36327407/1603844108', 'profile_link_color': '1D8BA1', 'profile_sidebar_border_color': 'FFFFFF', 'profile_sidebar_fill_color': 'BACAD4', 'profile_text_color': '1D1B1B', 'profile_use_background_image': True, 'has_extended_profile': False, 'default_profile': False, 'default_profile_image': False, 'following': True, 'follow_request_sent': False, 'notifications': False, 'translator_type': 'none'}, 'geo': None, 'coordinates': None, 'place': None, 'contributors': None, 'is_quote_status': False, 'retweet_count': 3, 'favorite_count': 9, 'favorited': False, 'retweeted': False, 'possibly_sensitive': False, 'lang': 'en'}, created_at=datetime.datetime(2020, 11, 5, 7, 33, 37), id=1324253521080799236, id_str='1324253521080799236', full_text='IPL 2020:  Qualifier 1 - MI vs DC Preview on Battleground T20 https://t.co/27HB0iW55T', truncated=False, display_text_range=[0, 85], entities={'hashtags': [], 'symbols': [], 'user_mentions': [], 'urls': [{'url': 'https://t.co/27HB0iW55T', 'expanded_url': 'https://www.pscp.tv/w/cnJQ0TEwODY4MTE0fDF5cEtkd3FNck92eFfqHwmmesMvo9jN4etW50Ka2xpB2xFZNrVlOxUAA739iA==', 'display_url': 'pscp.tv/w/cnJQ0TEwODY4…', 'indices': [62, 85]}]}, metadata={'iso_language_code': 'en', 'result_type': 'recent'}, source='Periscope', source_url='https://periscope.tv', in_reply_to_status_id=None, in_reply_to_status_id_str=None, in_reply_to_user_id=None, in_reply_to_user_id_str=None, in_reply_to_screen_name=None, author=User(_api=<tweepy.api.API object at 0x05ED1790>, _json={'id': 36327407, 'id_str': '36327407', 'name': 'Hindustan Times', 'screen_name': 'htTweets', 'location': 'India', 'description': \"One of India's largest media companies. Latest news from around the world. Retweets are not endorsements\", 'url': 'https://t.co/yEyv2GeRpS', 'entities': {'url': {'urls': [{'url': 'https://t.co/yEyv2GeRpS', 'expanded_url': 'http://www.hindustantimes.com', 'display_url': 'hindustantimes.com', 'indices': [0, 23]}]}, 'description': {'urls': []}}, 'protected': False, 'followers_count': 7803440, 'friends_count': 125, 'listed_count': 7068, 'created_at': 'Wed Apr 29 10:11:34 +0000 2009', 'favourites_count': 2949, 'utc_offset': None, 'time_zone': None, 'geo_enabled': True, 'verified': True, 'statuses_count': 797720, 'lang': None, 'contributors_enabled': False, 'is_translator': False, 'is_translation_enabled': False, 'profile_background_color': '1A1B1F', 'profile_background_image_url': 'http://abs.twimg.com/images/themes/theme9/bg.gif', 'profile_background_image_url_https': 'https://abs.twimg.com/images/themes/theme9/bg.gif', 'profile_background_tile': False, 'profile_image_url': 'http://pbs.twimg.com/profile_images/1300145337617661952/Z6rMaX5R_normal.jpg', 'profile_image_url_https': 'https://pbs.twimg.com/profile_images/1300145337617661952/Z6rMaX5R_normal.jpg', 'profile_banner_url': 'https://pbs.twimg.com/profile_banners/36327407/1603844108', 'profile_link_color': '1D8BA1', 'profile_sidebar_border_color': 'FFFFFF', 'profile_sidebar_fill_color': 'BACAD4', 'profile_text_color': '1D1B1B', 'profile_use_background_image': True, 'has_extended_profile': False, 'default_profile': False, 'default_profile_image': False, 'following': True, 'follow_request_sent': False, 'notifications': False, 'translator_type': 'none'}, id=36327407, id_str='36327407', name='Hindustan Times', screen_name='htTweets', location='India', description=\"One of India's largest media companies. Latest news from around the world. Retweets are not endorsements\", url='https://t.co/yEyv2GeRpS', entities={'url': {'urls': [{'url': 'https://t.co/yEyv2GeRpS', 'expanded_url': 'http://www.hindustantimes.com', 'display_url': 'hindustantimes.com', 'indices': [0, 23]}]}, 'description': {'urls': []}}, protected=False, followers_count=7803440, friends_count=125, listed_count=7068, created_at=datetime.datetime(2009, 4, 29, 10, 11, 34), favourites_count=2949, utc_offset=None, time_zone=None, geo_enabled=True, verified=True, statuses_count=797720, lang=None, contributors_enabled=False, is_translator=False, is_translation_enabled=False, profile_background_color='1A1B1F', profile_background_image_url='http://abs.twimg.com/images/themes/theme9/bg.gif', profile_background_image_url_https='https://abs.twimg.com/images/themes/theme9/bg.gif', profile_background_tile=False, profile_image_url='http://pbs.twimg.com/profile_images/1300145337617661952/Z6rMaX5R_normal.jpg', profile_image_url_https='https://pbs.twimg.com/profile_images/1300145337617661952/Z6rMaX5R_normal.jpg', profile_banner_url='https://pbs.twimg.com/profile_banners/36327407/1603844108', profile_link_color='1D8BA1', profile_sidebar_border_color='FFFFFF', profile_sidebar_fill_color='BACAD4', profile_text_color='1D1B1B', profile_use_background_image=True, has_extended_profile=False, default_profile=False, default_profile_image=False, following=True, follow_request_sent=False, notifications=False, translator_type='none'), user=User(_api=<tweepy.api.API object at 0x05ED1790>, _json={'id': 36327407, 'id_str': '36327407', 'name': 'Hindustan Times', 'screen_name': 'htTweets', 'location': 'India', 'description': \"One of India's largest media companies. Latest news from around the world. Retweets are not endorsements\", 'url': 'https://t.co/yEyv2GeRpS', 'entities': {'url': {'urls': [{'url': 'https://t.co/yEyv2GeRpS', 'expanded_url': 'http://www.hindustantimes.com', 'display_url': 'hindustantimes.com', 'indices': [0, 23]}]}, 'description': {'urls': []}}, 'protected': False, 'followers_count': 7803440, 'friends_count': 125, 'listed_count': 7068, 'created_at': 'Wed Apr 29 10:11:34 +0000 2009', 'favourites_count': 2949, 'utc_offset': None, 'time_zone': None, 'geo_enabled': True, 'verified': True, 'statuses_count': 797720, 'lang': None, 'contributors_enabled': False, 'is_translator': False, 'is_translation_enabled': False, 'profile_background_color': '1A1B1F', 'profile_background_image_url': 'http://abs.twimg.com/images/themes/theme9/bg.gif', 'profile_background_image_url_https': 'https://abs.twimg.com/images/themes/theme9/bg.gif', 'profile_background_tile': False, 'profile_image_url': 'http://pbs.twimg.com/profile_images/1300145337617661952/Z6rMaX5R_normal.jpg', 'profile_image_url_https': 'https://pbs.twimg.com/profile_images/1300145337617661952/Z6rMaX5R_normal.jpg', 'profile_banner_url': 'https://pbs.twimg.com/profile_banners/36327407/1603844108', 'profile_link_color': '1D8BA1', 'profile_sidebar_border_color': 'FFFFFF', 'profile_sidebar_fill_color': 'BACAD4', 'profile_text_color': '1D1B1B', 'profile_use_background_image': True, 'has_extended_profile': False, 'default_profile': False, 'default_profile_image': False, 'following': True, 'follow_request_sent': False, 'notifications': False, 'translator_type': 'none'}, id=36327407, id_str='36327407', name='Hindustan Times', screen_name='htTweets', location='India', description=\"One of India's largest media companies. Latest news from around the world. Retweets are not endorsements\", url='https://t.co/yEyv2GeRpS', entities={'url': {'urls': [{'url': 'https://t.co/yEyv2GeRpS', 'expanded_url': 'http://www.hindustantimes.com', 'display_url': 'hindustantimes.com', 'indices': [0, 23]}]}, 'description': {'urls': []}}, protected=False, followers_count=7803440, friends_count=125, listed_count=7068, created_at=datetime.datetime(2009, 4, 29, 10, 11, 34), favourites_count=2949, utc_offset=None, time_zone=None, geo_enabled=True, verified=True, statuses_count=797720, lang=None, contributors_enabled=False, is_translator=False, is_translation_enabled=False, profile_background_color='1A1B1F', profile_background_image_url='http://abs.twimg.com/images/themes/theme9/bg.gif', profile_background_image_url_https='https://abs.twimg.com/images/themes/theme9/bg.gif', profile_background_tile=False, profile_image_url='http://pbs.twimg.com/profile_images/1300145337617661952/Z6rMaX5R_normal.jpg', profile_image_url_https='https://pbs.twimg.com/profile_images/1300145337617661952/Z6rMaX5R_normal.jpg', profile_banner_url='https://pbs.twimg.com/profile_banners/36327407/1603844108', profile_link_color='1D8BA1', profile_sidebar_border_color='FFFFFF', profile_sidebar_fill_color='BACAD4', profile_text_color='1D1B1B', profile_use_background_image=True, has_extended_profile=False, default_profile=False, default_profile_image=False, following=True, follow_request_sent=False, notifications=False, translator_type='none'), geo=None, coordinates=None, place=None, contributors=None, is_quote_status=False, retweet_count=3, favorite_count=9, favorited=False, retweeted=False, possibly_sensitive=False, lang='en') \n",
      "\n",
      "........................................\n",
      "\n"
     ]
    }
   ],
   "source": [
    "tweets = api.search(query,count=10,lang='en',exclude='retweets',tweet_mode='extended')\n",
    "\n",
    "# Printing the tweets one by one\n",
    "for tweet in tweets:\n",
    "    print(tweet,'\\n')\n",
    "    print('........................................\\n')"
   ]
  },
  {
   "cell_type": "markdown",
   "metadata": {},
   "source": [
    "**NOTE**:\n",
    "- In the above cell we retrieved the 10 tweets regarding the `query` of \"ipl 2020\"\n",
    "- We can see that the tweets retrieved are in the `json` format\n",
    "- It contains numerous informations in it like the friends count , followers count , user informations , date and time of the tweet etc..,\n"
   ]
  },
  {
   "cell_type": "markdown",
   "metadata": {},
   "source": [
    "## Getting the tweets and storing in the dataframe\n",
    "\n",
    "- Getting the tweets and some other attributes from the retrieved json format and storng it in the excel file"
   ]
  },
  {
   "cell_type": "code",
   "execution_count": 15,
   "metadata": {},
   "outputs": [
    {
     "data": {
      "text/html": [
       "<div>\n",
       "<style scoped>\n",
       "    .dataframe tbody tr th:only-of-type {\n",
       "        vertical-align: middle;\n",
       "    }\n",
       "\n",
       "    .dataframe tbody tr th {\n",
       "        vertical-align: top;\n",
       "    }\n",
       "\n",
       "    .dataframe thead th {\n",
       "        text-align: right;\n",
       "    }\n",
       "</style>\n",
       "<table border=\"1\" class=\"dataframe\">\n",
       "  <thead>\n",
       "    <tr style=\"text-align: right;\">\n",
       "      <th></th>\n",
       "      <th>Tweets</th>\n",
       "      <th>User</th>\n",
       "      <th>User_statuses_count</th>\n",
       "      <th>user_followers</th>\n",
       "      <th>User_location</th>\n",
       "      <th>User_verified</th>\n",
       "      <th>fav_count</th>\n",
       "      <th>rt_count</th>\n",
       "      <th>tweet_date</th>\n",
       "    </tr>\n",
       "  </thead>\n",
       "  <tbody>\n",
       "  </tbody>\n",
       "</table>\n",
       "</div>"
      ],
      "text/plain": [
       "Empty DataFrame\n",
       "Columns: [Tweets, User, User_statuses_count, user_followers, User_location, User_verified, fav_count, rt_count, tweet_date]\n",
       "Index: []"
      ]
     },
     "execution_count": 15,
     "metadata": {},
     "output_type": "execute_result"
    }
   ],
   "source": [
    "df = pd.DataFrame(columns= ['Tweets' , 'User' , 'User_statuses_count' , \n",
    "                            'user_followers' , 'User_location' , 'User_verified' ,\n",
    "                            'fav_count' , 'rt_count' , 'tweet_date'] )\n",
    "df.head()"
   ]
  },
  {
   "cell_type": "markdown",
   "metadata": {},
   "source": [
    "The above function will retrieve maximum of 1000 tweets regarding the query which is mentioned."
   ]
  },
  {
   "cell_type": "code",
   "execution_count": 56,
   "metadata": {},
   "outputs": [],
   "source": [
    "def stream(data,filename):\n",
    "    '''\n",
    "    This function will take the following parameters\n",
    "    data = which is the query to search for  \n",
    "    filename = the name of the excel to be stored\n",
    "    \n",
    "    Attributes - data , filename\n",
    "    '''\n",
    "    i = 0\n",
    "    for tweet in tweepy.Cursor(api.search, q=data, count=100, lang='en',exclude = 'retweets').items():\n",
    "        print(i, end='\\r')\n",
    "        df.loc[i, 'Tweets'] = tweet.text\n",
    "        df.loc[i, 'User'] = tweet.user.name\n",
    "        df.loc[i, 'User_statuses_count'] = tweet.user.statuses_count\n",
    "        df.loc[i, 'user_followers'] = tweet.user.followers_count\n",
    "        df.loc[i, 'User_location'] = tweet.user.location\n",
    "        df.loc[i, 'User_verified'] = tweet.user.verified\n",
    "        df.loc[i, 'fav_count'] = tweet.favorite_count\n",
    "        df.loc[i, 'rt_count'] = tweet.retweet_count\n",
    "        df.loc[i, 'tweet_date'] = tweet.created_at\n",
    "        \n",
    "        i = i+1\n",
    "        \n",
    "        if i == 1000:\n",
    "            df.to_excel(f'{filename}.xlsx')\n",
    "            break\n",
    "        else:\n",
    "            pass"
   ]
  },
  {
   "cell_type": "code",
   "execution_count": 57,
   "metadata": {},
   "outputs": [
    {
     "name": "stdout",
     "output_type": "stream",
     "text": [
      "999\r"
     ]
    }
   ],
   "source": [
    "stream(data=['USA election'],filename='usa_election_tweets')"
   ]
  },
  {
   "cell_type": "code",
   "execution_count": 58,
   "metadata": {},
   "outputs": [
    {
     "data": {
      "text/html": [
       "<div>\n",
       "<style scoped>\n",
       "    .dataframe tbody tr th:only-of-type {\n",
       "        vertical-align: middle;\n",
       "    }\n",
       "\n",
       "    .dataframe tbody tr th {\n",
       "        vertical-align: top;\n",
       "    }\n",
       "\n",
       "    .dataframe thead th {\n",
       "        text-align: right;\n",
       "    }\n",
       "</style>\n",
       "<table border=\"1\" class=\"dataframe\">\n",
       "  <thead>\n",
       "    <tr style=\"text-align: right;\">\n",
       "      <th></th>\n",
       "      <th>Tweets</th>\n",
       "      <th>User</th>\n",
       "      <th>User_statuses_count</th>\n",
       "      <th>user_followers</th>\n",
       "      <th>User_location</th>\n",
       "      <th>User_verified</th>\n",
       "      <th>fav_count</th>\n",
       "      <th>rt_count</th>\n",
       "      <th>tweet_date</th>\n",
       "    </tr>\n",
       "  </thead>\n",
       "  <tbody>\n",
       "    <tr>\n",
       "      <th>0</th>\n",
       "      <td>Uber, gig economy companies see California win...</td>\n",
       "      <td>Marketplace Risk</td>\n",
       "      <td>3084</td>\n",
       "      <td>1191</td>\n",
       "      <td>San Francisco, CA</td>\n",
       "      <td>False</td>\n",
       "      <td>0</td>\n",
       "      <td>0</td>\n",
       "      <td>2020-11-05 09:40:11</td>\n",
       "    </tr>\n",
       "    <tr>\n",
       "      <th>1</th>\n",
       "      <td>Why is twitter still suppressing material abou...</td>\n",
       "      <td>100% ( livin in Covid19 hell )</td>\n",
       "      <td>90981</td>\n",
       "      <td>3635</td>\n",
       "      <td>Wales, England</td>\n",
       "      <td>False</td>\n",
       "      <td>0</td>\n",
       "      <td>0</td>\n",
       "      <td>2020-11-05 09:40:01</td>\n",
       "    </tr>\n",
       "    <tr>\n",
       "      <th>2</th>\n",
       "      <td>Epidemic proportion. Trash this supposed US Pr...</td>\n",
       "      <td>Deborah Ann Morel</td>\n",
       "      <td>3511</td>\n",
       "      <td>616</td>\n",
       "      <td></td>\n",
       "      <td>False</td>\n",
       "      <td>0</td>\n",
       "      <td>0</td>\n",
       "      <td>2020-11-05 09:39:55</td>\n",
       "    </tr>\n",
       "    <tr>\n",
       "      <th>3</th>\n",
       "      <td>Hey guys. What is your opinion about Election ...</td>\n",
       "      <td>Przemyslaw Szymczak</td>\n",
       "      <td>196</td>\n",
       "      <td>42</td>\n",
       "      <td>Nottingham, England</td>\n",
       "      <td>False</td>\n",
       "      <td>0</td>\n",
       "      <td>0</td>\n",
       "      <td>2020-11-05 09:39:24</td>\n",
       "    </tr>\n",
       "    <tr>\n",
       "      <th>4</th>\n",
       "      <td>Been watching USA elections from far away, ver...</td>\n",
       "      <td>🎲</td>\n",
       "      <td>335</td>\n",
       "      <td>12</td>\n",
       "      <td></td>\n",
       "      <td>False</td>\n",
       "      <td>0</td>\n",
       "      <td>0</td>\n",
       "      <td>2020-11-05 09:38:56</td>\n",
       "    </tr>\n",
       "  </tbody>\n",
       "</table>\n",
       "</div>"
      ],
      "text/plain": [
       "                                              Tweets  \\\n",
       "0  Uber, gig economy companies see California win...   \n",
       "1  Why is twitter still suppressing material abou...   \n",
       "2  Epidemic proportion. Trash this supposed US Pr...   \n",
       "3  Hey guys. What is your opinion about Election ...   \n",
       "4  Been watching USA elections from far away, ver...   \n",
       "\n",
       "                             User User_statuses_count user_followers  \\\n",
       "0                Marketplace Risk                3084           1191   \n",
       "1  100% ( livin in Covid19 hell )               90981           3635   \n",
       "2               Deborah Ann Morel                3511            616   \n",
       "3             Przemyslaw Szymczak                 196             42   \n",
       "4                               🎲                 335             12   \n",
       "\n",
       "         User_location User_verified fav_count rt_count           tweet_date  \n",
       "0    San Francisco, CA         False         0        0  2020-11-05 09:40:11  \n",
       "1       Wales, England         False         0        0  2020-11-05 09:40:01  \n",
       "2                              False         0        0  2020-11-05 09:39:55  \n",
       "3  Nottingham, England         False         0        0  2020-11-05 09:39:24  \n",
       "4                              False         0        0  2020-11-05 09:38:56  "
      ]
     },
     "execution_count": 58,
     "metadata": {},
     "output_type": "execute_result"
    }
   ],
   "source": [
    "df.head()"
   ]
  },
  {
   "cell_type": "markdown",
   "metadata": {},
   "source": [
    "## Analysing the sentiment using the TextBlob\n",
    "\n",
    "Sentiment(polarity, subjectivity)\n",
    "\n",
    "Polarity score: [-1 , +1]\n",
    "    \n",
    "    -1 = negative tweet\n",
    "     0 = means neutral tweet \n",
    "    +1 = means positive tweet\n",
    "\n",
    "Subjectivity: [0.0 , 1.0] \n",
    "\n",
    "where 0.0 is very Objective and 1.0 is very Subjective."
   ]
  },
  {
   "cell_type": "code",
   "execution_count": 54,
   "metadata": {},
   "outputs": [],
   "source": [
    "# !pip install textblob"
   ]
  },
  {
   "cell_type": "code",
   "execution_count": 60,
   "metadata": {},
   "outputs": [],
   "source": [
    "from textblob import TextBlob"
   ]
  },
  {
   "cell_type": "code",
   "execution_count": 59,
   "metadata": {},
   "outputs": [],
   "source": [
    "import re\n",
    "\n",
    "def clean_tweet(tweet):\n",
    "    '''\n",
    "    Removes all the mentions(@),Hashtags(#),URL and also \n",
    "    anything other than the letters and number will be \n",
    "    removed and replaced with space \n",
    "    '''\n",
    "    \n",
    "    return ' '.join(re.sub('(@[A-Za-z0-9]+)|([^0-9A-Za-z \\t])|(\\w+:\\/\\/\\S+)', ' ', tweet).split())"
   ]
  },
  {
   "cell_type": "code",
   "execution_count": 73,
   "metadata": {},
   "outputs": [],
   "source": [
    "def analyze_sentiment(tweet):\n",
    "    '''\n",
    "    Analyzes the sentiment of the tweet and returns whether the tweet is \n",
    "    positive , negative or neutral.\n",
    "    '''\n",
    "    analysis = TextBlob(tweet)\n",
    "    \n",
    "    if analysis.sentiment.polarity > 0:\n",
    "        return 'Positive'\n",
    "    elif analysis.sentiment.polarity == 0:\n",
    "        return 'Neutral'\n",
    "    else:\n",
    "        return 'Negative'\n",
    "        \n",
    "    \n",
    "    "
   ]
  },
  {
   "cell_type": "code",
   "execution_count": 66,
   "metadata": {},
   "outputs": [],
   "source": [
    "df['clean_tweet'] = df.Tweets.apply(lambda x: clean_tweet(x))"
   ]
  },
  {
   "cell_type": "code",
   "execution_count": 67,
   "metadata": {},
   "outputs": [
    {
     "data": {
      "text/html": [
       "<div>\n",
       "<style scoped>\n",
       "    .dataframe tbody tr th:only-of-type {\n",
       "        vertical-align: middle;\n",
       "    }\n",
       "\n",
       "    .dataframe tbody tr th {\n",
       "        vertical-align: top;\n",
       "    }\n",
       "\n",
       "    .dataframe thead th {\n",
       "        text-align: right;\n",
       "    }\n",
       "</style>\n",
       "<table border=\"1\" class=\"dataframe\">\n",
       "  <thead>\n",
       "    <tr style=\"text-align: right;\">\n",
       "      <th></th>\n",
       "      <th>Tweets</th>\n",
       "      <th>User</th>\n",
       "      <th>User_statuses_count</th>\n",
       "      <th>user_followers</th>\n",
       "      <th>User_location</th>\n",
       "      <th>User_verified</th>\n",
       "      <th>fav_count</th>\n",
       "      <th>rt_count</th>\n",
       "      <th>tweet_date</th>\n",
       "      <th>clean_tweet</th>\n",
       "    </tr>\n",
       "  </thead>\n",
       "  <tbody>\n",
       "    <tr>\n",
       "      <th>0</th>\n",
       "      <td>Uber, gig economy companies see California win...</td>\n",
       "      <td>Marketplace Risk</td>\n",
       "      <td>3084</td>\n",
       "      <td>1191</td>\n",
       "      <td>San Francisco, CA</td>\n",
       "      <td>False</td>\n",
       "      <td>0</td>\n",
       "      <td>0</td>\n",
       "      <td>2020-11-05 09:40:11</td>\n",
       "      <td>Uber gig economy companies see California win ...</td>\n",
       "    </tr>\n",
       "    <tr>\n",
       "      <th>1</th>\n",
       "      <td>Why is twitter still suppressing material abou...</td>\n",
       "      <td>100% ( livin in Covid19 hell )</td>\n",
       "      <td>90981</td>\n",
       "      <td>3635</td>\n",
       "      <td>Wales, England</td>\n",
       "      <td>False</td>\n",
       "      <td>0</td>\n",
       "      <td>0</td>\n",
       "      <td>2020-11-05 09:40:01</td>\n",
       "      <td>Why is twitter still suppressing material abou...</td>\n",
       "    </tr>\n",
       "    <tr>\n",
       "      <th>2</th>\n",
       "      <td>Epidemic proportion. Trash this supposed US Pr...</td>\n",
       "      <td>Deborah Ann Morel</td>\n",
       "      <td>3511</td>\n",
       "      <td>616</td>\n",
       "      <td></td>\n",
       "      <td>False</td>\n",
       "      <td>0</td>\n",
       "      <td>0</td>\n",
       "      <td>2020-11-05 09:39:55</td>\n",
       "      <td>Epidemic proportion Trash this supposed US Pre...</td>\n",
       "    </tr>\n",
       "    <tr>\n",
       "      <th>3</th>\n",
       "      <td>Hey guys. What is your opinion about Election ...</td>\n",
       "      <td>Przemyslaw Szymczak</td>\n",
       "      <td>196</td>\n",
       "      <td>42</td>\n",
       "      <td>Nottingham, England</td>\n",
       "      <td>False</td>\n",
       "      <td>0</td>\n",
       "      <td>0</td>\n",
       "      <td>2020-11-05 09:39:24</td>\n",
       "      <td>Hey guys What is your opinion about Election i...</td>\n",
       "    </tr>\n",
       "    <tr>\n",
       "      <th>4</th>\n",
       "      <td>Been watching USA elections from far away, ver...</td>\n",
       "      <td>🎲</td>\n",
       "      <td>335</td>\n",
       "      <td>12</td>\n",
       "      <td></td>\n",
       "      <td>False</td>\n",
       "      <td>0</td>\n",
       "      <td>0</td>\n",
       "      <td>2020-11-05 09:38:56</td>\n",
       "      <td>Been watching USA elections from far away very...</td>\n",
       "    </tr>\n",
       "  </tbody>\n",
       "</table>\n",
       "</div>"
      ],
      "text/plain": [
       "                                              Tweets  \\\n",
       "0  Uber, gig economy companies see California win...   \n",
       "1  Why is twitter still suppressing material abou...   \n",
       "2  Epidemic proportion. Trash this supposed US Pr...   \n",
       "3  Hey guys. What is your opinion about Election ...   \n",
       "4  Been watching USA elections from far away, ver...   \n",
       "\n",
       "                             User User_statuses_count user_followers  \\\n",
       "0                Marketplace Risk                3084           1191   \n",
       "1  100% ( livin in Covid19 hell )               90981           3635   \n",
       "2               Deborah Ann Morel                3511            616   \n",
       "3             Przemyslaw Szymczak                 196             42   \n",
       "4                               🎲                 335             12   \n",
       "\n",
       "         User_location User_verified fav_count rt_count           tweet_date  \\\n",
       "0    San Francisco, CA         False         0        0  2020-11-05 09:40:11   \n",
       "1       Wales, England         False         0        0  2020-11-05 09:40:01   \n",
       "2                              False         0        0  2020-11-05 09:39:55   \n",
       "3  Nottingham, England         False         0        0  2020-11-05 09:39:24   \n",
       "4                              False         0        0  2020-11-05 09:38:56   \n",
       "\n",
       "                                         clean_tweet  \n",
       "0  Uber gig economy companies see California win ...  \n",
       "1  Why is twitter still suppressing material abou...  \n",
       "2  Epidemic proportion Trash this supposed US Pre...  \n",
       "3  Hey guys What is your opinion about Election i...  \n",
       "4  Been watching USA elections from far away very...  "
      ]
     },
     "execution_count": 67,
     "metadata": {},
     "output_type": "execute_result"
    }
   ],
   "source": [
    "df.head()"
   ]
  },
  {
   "cell_type": "code",
   "execution_count": 68,
   "metadata": {},
   "outputs": [
    {
     "data": {
      "text/plain": [
       "'Uber, gig economy companies see California win as national model https://t.co/YguGYZc8do #gigeconomy #technews #Prop22 #apps (via @Reuters )'"
      ]
     },
     "execution_count": 68,
     "metadata": {},
     "output_type": "execute_result"
    }
   ],
   "source": [
    "df['Tweets'][0]"
   ]
  },
  {
   "cell_type": "code",
   "execution_count": 69,
   "metadata": {},
   "outputs": [
    {
     "data": {
      "text/plain": [
       "'Uber gig economy companies see California win as national model gigeconomy technews Prop22 apps via'"
      ]
     },
     "execution_count": 69,
     "metadata": {},
     "output_type": "execute_result"
    }
   ],
   "source": [
    "df['clean_tweet'][0]"
   ]
  },
  {
   "cell_type": "code",
   "execution_count": 74,
   "metadata": {},
   "outputs": [],
   "source": [
    "df['sentiment'] = df['clean_tweet'].apply(lambda x: analyze_sentiment(x))"
   ]
  },
  {
   "cell_type": "code",
   "execution_count": 75,
   "metadata": {},
   "outputs": [
    {
     "data": {
      "text/html": [
       "<div>\n",
       "<style scoped>\n",
       "    .dataframe tbody tr th:only-of-type {\n",
       "        vertical-align: middle;\n",
       "    }\n",
       "\n",
       "    .dataframe tbody tr th {\n",
       "        vertical-align: top;\n",
       "    }\n",
       "\n",
       "    .dataframe thead th {\n",
       "        text-align: right;\n",
       "    }\n",
       "</style>\n",
       "<table border=\"1\" class=\"dataframe\">\n",
       "  <thead>\n",
       "    <tr style=\"text-align: right;\">\n",
       "      <th></th>\n",
       "      <th>Tweets</th>\n",
       "      <th>User</th>\n",
       "      <th>User_statuses_count</th>\n",
       "      <th>user_followers</th>\n",
       "      <th>User_location</th>\n",
       "      <th>User_verified</th>\n",
       "      <th>fav_count</th>\n",
       "      <th>rt_count</th>\n",
       "      <th>tweet_date</th>\n",
       "      <th>clean_tweet</th>\n",
       "      <th>sentiment</th>\n",
       "    </tr>\n",
       "  </thead>\n",
       "  <tbody>\n",
       "    <tr>\n",
       "      <th>0</th>\n",
       "      <td>Uber, gig economy companies see California win...</td>\n",
       "      <td>Marketplace Risk</td>\n",
       "      <td>3084</td>\n",
       "      <td>1191</td>\n",
       "      <td>San Francisco, CA</td>\n",
       "      <td>False</td>\n",
       "      <td>0</td>\n",
       "      <td>0</td>\n",
       "      <td>2020-11-05 09:40:11</td>\n",
       "      <td>Uber gig economy companies see California win ...</td>\n",
       "      <td>Positive</td>\n",
       "    </tr>\n",
       "    <tr>\n",
       "      <th>1</th>\n",
       "      <td>Why is twitter still suppressing material abou...</td>\n",
       "      <td>100% ( livin in Covid19 hell )</td>\n",
       "      <td>90981</td>\n",
       "      <td>3635</td>\n",
       "      <td>Wales, England</td>\n",
       "      <td>False</td>\n",
       "      <td>0</td>\n",
       "      <td>0</td>\n",
       "      <td>2020-11-05 09:40:01</td>\n",
       "      <td>Why is twitter still suppressing material abou...</td>\n",
       "      <td>Negative</td>\n",
       "    </tr>\n",
       "    <tr>\n",
       "      <th>2</th>\n",
       "      <td>Epidemic proportion. Trash this supposed US Pr...</td>\n",
       "      <td>Deborah Ann Morel</td>\n",
       "      <td>3511</td>\n",
       "      <td>616</td>\n",
       "      <td></td>\n",
       "      <td>False</td>\n",
       "      <td>0</td>\n",
       "      <td>0</td>\n",
       "      <td>2020-11-05 09:39:55</td>\n",
       "      <td>Epidemic proportion Trash this supposed US Pre...</td>\n",
       "      <td>Positive</td>\n",
       "    </tr>\n",
       "    <tr>\n",
       "      <th>3</th>\n",
       "      <td>Hey guys. What is your opinion about Election ...</td>\n",
       "      <td>Przemyslaw Szymczak</td>\n",
       "      <td>196</td>\n",
       "      <td>42</td>\n",
       "      <td>Nottingham, England</td>\n",
       "      <td>False</td>\n",
       "      <td>0</td>\n",
       "      <td>0</td>\n",
       "      <td>2020-11-05 09:39:24</td>\n",
       "      <td>Hey guys What is your opinion about Election i...</td>\n",
       "      <td>Positive</td>\n",
       "    </tr>\n",
       "    <tr>\n",
       "      <th>4</th>\n",
       "      <td>Been watching USA elections from far away, ver...</td>\n",
       "      <td>🎲</td>\n",
       "      <td>335</td>\n",
       "      <td>12</td>\n",
       "      <td></td>\n",
       "      <td>False</td>\n",
       "      <td>0</td>\n",
       "      <td>0</td>\n",
       "      <td>2020-11-05 09:38:56</td>\n",
       "      <td>Been watching USA elections from far away very...</td>\n",
       "      <td>Positive</td>\n",
       "    </tr>\n",
       "  </tbody>\n",
       "</table>\n",
       "</div>"
      ],
      "text/plain": [
       "                                              Tweets  \\\n",
       "0  Uber, gig economy companies see California win...   \n",
       "1  Why is twitter still suppressing material abou...   \n",
       "2  Epidemic proportion. Trash this supposed US Pr...   \n",
       "3  Hey guys. What is your opinion about Election ...   \n",
       "4  Been watching USA elections from far away, ver...   \n",
       "\n",
       "                             User User_statuses_count user_followers  \\\n",
       "0                Marketplace Risk                3084           1191   \n",
       "1  100% ( livin in Covid19 hell )               90981           3635   \n",
       "2               Deborah Ann Morel                3511            616   \n",
       "3             Przemyslaw Szymczak                 196             42   \n",
       "4                               🎲                 335             12   \n",
       "\n",
       "         User_location User_verified fav_count rt_count           tweet_date  \\\n",
       "0    San Francisco, CA         False         0        0  2020-11-05 09:40:11   \n",
       "1       Wales, England         False         0        0  2020-11-05 09:40:01   \n",
       "2                              False         0        0  2020-11-05 09:39:55   \n",
       "3  Nottingham, England         False         0        0  2020-11-05 09:39:24   \n",
       "4                              False         0        0  2020-11-05 09:38:56   \n",
       "\n",
       "                                         clean_tweet sentiment  \n",
       "0  Uber gig economy companies see California win ...  Positive  \n",
       "1  Why is twitter still suppressing material abou...  Negative  \n",
       "2  Epidemic proportion Trash this supposed US Pre...  Positive  \n",
       "3  Hey guys What is your opinion about Election i...  Positive  \n",
       "4  Been watching USA elections from far away very...  Positive  "
      ]
     },
     "execution_count": 75,
     "metadata": {},
     "output_type": "execute_result"
    }
   ],
   "source": [
    "df.head()"
   ]
  },
  {
   "cell_type": "code",
   "execution_count": 85,
   "metadata": {},
   "outputs": [
    {
     "name": "stdout",
     "output_type": "stream",
     "text": [
      "Original tweet:\n",
      " @QueenAzizzar @057_CaptainFS The strain on my mans right eye is USA election day level 😂😂😂\n",
      "\n",
      "Ignore me just saluting a king kinging\n",
      "\n",
      "Clean tweet:\n",
      " CaptainFS The strain on my mans right eye is USA election day level Ignore me just saluting a king kinging\n",
      "\n",
      "Sentiment of the tweet:\n",
      " Positive\n"
     ]
    }
   ],
   "source": [
    "n = 642\n",
    "\n",
    "print(\"Original tweet:\\n\",df['Tweets'][n])\n",
    "print()\n",
    "print(\"Clean tweet:\\n\",df['clean_tweet'][n])\n",
    "print()\n",
    "print(\"Sentiment of the tweet:\\n\",df['sentiment'][n])"
   ]
  },
  {
   "cell_type": "code",
   "execution_count": 82,
   "metadata": {},
   "outputs": [
    {
     "data": {
      "text/plain": [
       "387"
      ]
     },
     "execution_count": 82,
     "metadata": {},
     "output_type": "execute_result"
    }
   ],
   "source": [
    "df[df['sentiment'] == 'Neutral'].shape[0]"
   ]
  },
  {
   "cell_type": "code",
   "execution_count": 83,
   "metadata": {},
   "outputs": [
    {
     "data": {
      "text/plain": [
       "433"
      ]
     },
     "execution_count": 83,
     "metadata": {},
     "output_type": "execute_result"
    }
   ],
   "source": [
    "df[df['sentiment'] == 'Positive'].shape[0]"
   ]
  },
  {
   "cell_type": "code",
   "execution_count": 84,
   "metadata": {},
   "outputs": [
    {
     "data": {
      "text/plain": [
       "180"
      ]
     },
     "execution_count": 84,
     "metadata": {},
     "output_type": "execute_result"
    }
   ],
   "source": [
    "df[df['sentiment'] == 'Negative'].shape[0]"
   ]
  }
 ],
 "metadata": {
  "kernelspec": {
   "display_name": "Python 3",
   "language": "python",
   "name": "python3"
  },
  "language_info": {
   "codemirror_mode": {
    "name": "ipython",
    "version": 3
   },
   "file_extension": ".py",
   "mimetype": "text/x-python",
   "name": "python",
   "nbconvert_exporter": "python",
   "pygments_lexer": "ipython3",
   "version": "3.7.0"
  },
  "toc": {
   "base_numbering": 1,
   "nav_menu": {},
   "number_sections": true,
   "sideBar": true,
   "skip_h1_title": false,
   "title_cell": "Table of Contents",
   "title_sidebar": "Contents",
   "toc_cell": false,
   "toc_position": {},
   "toc_section_display": true,
   "toc_window_display": false
  }
 },
 "nbformat": 4,
 "nbformat_minor": 4
}
